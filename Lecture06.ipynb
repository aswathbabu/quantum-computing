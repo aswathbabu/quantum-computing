{
  "nbformat": 4,
  "nbformat_minor": 0,
  "metadata": {
    "colab": {
      "name": "Aula06.ipynb",
      "provenance": [],
      "collapsed_sections": []
    },
    "kernelspec": {
      "name": "python3",
      "display_name": "Python 3"
    },
    "language_info": {
      "name": "python"
    }
  },
  "cells": [
    {
      "cell_type": "code",
      "source": [
        "#%%capture\n",
        "#@title\n",
        "#Installing qiskit standalone\n",
        "!pip install imgaug==0.2.5\n",
        "#!pip install qiskit==0.36.1\n",
        "!pip install qiskit -U\n",
        "!pip install pylatexenc\n",
        "#Next lines for LaTeX\n",
        "!pip install latex\n",
        "!apt-get install cm-super\n",
        "!apt-get install dvipng \n",
        "!apt install texlive texlive-latex-extra texlive-fonts-recommended dvipng\n"
      ],
      "metadata": {
        "colab": {
          "base_uri": "https://localhost:8080/"
        },
        "id": "v8uPMDrHvixX",
        "outputId": "b3617f5c-5880-4931-cb2a-74a9e9926196"
      },
      "execution_count": 1,
      "outputs": [
        {
          "output_type": "stream",
          "name": "stdout",
          "text": [
            "Looking in indexes: https://pypi.org/simple, https://us-python.pkg.dev/colab-wheels/public/simple/\n",
            "Collecting imgaug==0.2.5\n",
            "  Downloading imgaug-0.2.5.tar.gz (562 kB)\n",
            "\u001b[K     |████████████████████████████████| 562 kB 5.2 MB/s \n",
            "\u001b[?25hRequirement already satisfied: scipy in /usr/local/lib/python3.7/dist-packages (from imgaug==0.2.5) (1.4.1)\n",
            "Requirement already satisfied: scikit-image>=0.11.0 in /usr/local/lib/python3.7/dist-packages (from imgaug==0.2.5) (0.18.3)\n",
            "Requirement already satisfied: numpy>=1.7.0 in /usr/local/lib/python3.7/dist-packages (from imgaug==0.2.5) (1.21.6)\n",
            "Requirement already satisfied: six in /usr/local/lib/python3.7/dist-packages (from imgaug==0.2.5) (1.15.0)\n",
            "Requirement already satisfied: imageio>=2.3.0 in /usr/local/lib/python3.7/dist-packages (from scikit-image>=0.11.0->imgaug==0.2.5) (2.4.1)\n",
            "Requirement already satisfied: tifffile>=2019.7.26 in /usr/local/lib/python3.7/dist-packages (from scikit-image>=0.11.0->imgaug==0.2.5) (2021.11.2)\n",
            "Requirement already satisfied: PyWavelets>=1.1.1 in /usr/local/lib/python3.7/dist-packages (from scikit-image>=0.11.0->imgaug==0.2.5) (1.3.0)\n",
            "Requirement already satisfied: networkx>=2.0 in /usr/local/lib/python3.7/dist-packages (from scikit-image>=0.11.0->imgaug==0.2.5) (2.6.3)\n",
            "Requirement already satisfied: matplotlib!=3.0.0,>=2.0.0 in /usr/local/lib/python3.7/dist-packages (from scikit-image>=0.11.0->imgaug==0.2.5) (3.2.2)\n",
            "Requirement already satisfied: pillow!=7.1.0,!=7.1.1,>=4.3.0 in /usr/local/lib/python3.7/dist-packages (from scikit-image>=0.11.0->imgaug==0.2.5) (7.1.2)\n",
            "Requirement already satisfied: python-dateutil>=2.1 in /usr/local/lib/python3.7/dist-packages (from matplotlib!=3.0.0,>=2.0.0->scikit-image>=0.11.0->imgaug==0.2.5) (2.8.2)\n",
            "Requirement already satisfied: cycler>=0.10 in /usr/local/lib/python3.7/dist-packages (from matplotlib!=3.0.0,>=2.0.0->scikit-image>=0.11.0->imgaug==0.2.5) (0.11.0)\n",
            "Requirement already satisfied: kiwisolver>=1.0.1 in /usr/local/lib/python3.7/dist-packages (from matplotlib!=3.0.0,>=2.0.0->scikit-image>=0.11.0->imgaug==0.2.5) (1.4.3)\n",
            "Requirement already satisfied: pyparsing!=2.0.4,!=2.1.2,!=2.1.6,>=2.0.1 in /usr/local/lib/python3.7/dist-packages (from matplotlib!=3.0.0,>=2.0.0->scikit-image>=0.11.0->imgaug==0.2.5) (3.0.9)\n",
            "Requirement already satisfied: typing-extensions in /usr/local/lib/python3.7/dist-packages (from kiwisolver>=1.0.1->matplotlib!=3.0.0,>=2.0.0->scikit-image>=0.11.0->imgaug==0.2.5) (4.1.1)\n",
            "Building wheels for collected packages: imgaug\n",
            "  Building wheel for imgaug (setup.py) ... \u001b[?25l\u001b[?25hdone\n",
            "  Created wheel for imgaug: filename=imgaug-0.2.5-py3-none-any.whl size=561438 sha256=ab5fe8cdd9a9786f978c989abe9989e12e917f2d01ec72efd416338044045e88\n",
            "  Stored in directory: /root/.cache/pip/wheels/60/dd/38/d1dc2cad2b6a66dc0249261004990bccb0f27985c74ba26e49\n",
            "Successfully built imgaug\n",
            "Installing collected packages: imgaug\n",
            "  Attempting uninstall: imgaug\n",
            "    Found existing installation: imgaug 0.2.9\n",
            "    Uninstalling imgaug-0.2.9:\n",
            "      Successfully uninstalled imgaug-0.2.9\n",
            "Successfully installed imgaug-0.2.5\n",
            "Looking in indexes: https://pypi.org/simple, https://us-python.pkg.dev/colab-wheels/public/simple/\n",
            "Collecting qiskit\n",
            "  Downloading qiskit-0.37.0.tar.gz (13 kB)\n",
            "Collecting qiskit-terra==0.21.0\n",
            "  Downloading qiskit_terra-0.21.0-cp37-cp37m-manylinux_2_17_x86_64.manylinux2014_x86_64.whl (6.7 MB)\n",
            "\u001b[K     |████████████████████████████████| 6.7 MB 5.4 MB/s \n",
            "\u001b[?25hCollecting qiskit-aer==0.10.4\n",
            "  Downloading qiskit_aer-0.10.4-cp37-cp37m-manylinux_2_12_x86_64.manylinux2010_x86_64.whl (18.0 MB)\n",
            "\u001b[K     |████████████████████████████████| 18.0 MB 291 kB/s \n",
            "\u001b[?25hCollecting qiskit-ibmq-provider==0.19.2\n",
            "  Downloading qiskit_ibmq_provider-0.19.2-py3-none-any.whl (240 kB)\n",
            "\u001b[K     |████████████████████████████████| 240 kB 50.6 MB/s \n",
            "\u001b[?25hRequirement already satisfied: numpy>=1.16.3 in /usr/local/lib/python3.7/dist-packages (from qiskit-aer==0.10.4->qiskit) (1.21.6)\n",
            "Requirement already satisfied: scipy>=1.0 in /usr/local/lib/python3.7/dist-packages (from qiskit-aer==0.10.4->qiskit) (1.4.1)\n",
            "Collecting requests-ntlm>=1.1.0\n",
            "  Downloading requests_ntlm-1.1.0-py2.py3-none-any.whl (5.7 kB)\n",
            "Requirement already satisfied: urllib3>=1.21.1 in /usr/local/lib/python3.7/dist-packages (from qiskit-ibmq-provider==0.19.2->qiskit) (1.24.3)\n",
            "Collecting websockets>=10.0\n",
            "  Downloading websockets-10.3-cp37-cp37m-manylinux_2_5_x86_64.manylinux1_x86_64.manylinux_2_12_x86_64.manylinux2010_x86_64.whl (112 kB)\n",
            "\u001b[K     |████████████████████████████████| 112 kB 54.9 MB/s \n",
            "\u001b[?25hRequirement already satisfied: requests>=2.19 in /usr/local/lib/python3.7/dist-packages (from qiskit-ibmq-provider==0.19.2->qiskit) (2.23.0)\n",
            "Collecting websocket-client>=1.0.1\n",
            "  Downloading websocket_client-1.3.3-py3-none-any.whl (54 kB)\n",
            "\u001b[K     |████████████████████████████████| 54 kB 2.8 MB/s \n",
            "\u001b[?25hRequirement already satisfied: python-dateutil>=2.8.0 in /usr/local/lib/python3.7/dist-packages (from qiskit-ibmq-provider==0.19.2->qiskit) (2.8.2)\n",
            "Collecting stevedore>=3.0.0\n",
            "  Downloading stevedore-3.5.0-py3-none-any.whl (49 kB)\n",
            "\u001b[K     |████████████████████████████████| 49 kB 6.1 MB/s \n",
            "\u001b[?25hCollecting scipy>=1.0\n",
            "  Downloading scipy-1.7.3-cp37-cp37m-manylinux_2_12_x86_64.manylinux2010_x86_64.whl (38.1 MB)\n",
            "\u001b[K     |████████████████████████████████| 38.1 MB 1.3 MB/s \n",
            "\u001b[?25hCollecting ply>=3.10\n",
            "  Downloading ply-3.11-py2.py3-none-any.whl (49 kB)\n",
            "\u001b[K     |████████████████████████████████| 49 kB 5.5 MB/s \n",
            "\u001b[?25hRequirement already satisfied: sympy>=1.3 in /usr/local/lib/python3.7/dist-packages (from qiskit-terra==0.21.0->qiskit) (1.7.1)\n",
            "Requirement already satisfied: typing-extensions in /usr/local/lib/python3.7/dist-packages (from qiskit-terra==0.21.0->qiskit) (4.1.1)\n",
            "Collecting tweedledum<2.0,>=1.1\n",
            "  Downloading tweedledum-1.1.1-cp37-cp37m-manylinux_2_12_x86_64.manylinux2010_x86_64.whl (943 kB)\n",
            "\u001b[K     |████████████████████████████████| 943 kB 45.4 MB/s \n",
            "\u001b[?25hCollecting retworkx>=0.11.0\n",
            "  Downloading retworkx-0.11.0-cp37-cp37m-manylinux_2_5_x86_64.manylinux1_x86_64.manylinux_2_12_x86_64.manylinux2010_x86_64.whl (1.6 MB)\n",
            "\u001b[K     |████████████████████████████████| 1.6 MB 30.2 MB/s \n",
            "\u001b[?25hCollecting symengine>=0.9\n",
            "  Downloading symengine-0.9.2-cp37-cp37m-manylinux2010_x86_64.whl (37.5 MB)\n",
            "\u001b[K     |████████████████████████████████| 37.5 MB 14 kB/s \n",
            "\u001b[?25hRequirement already satisfied: dill>=0.3 in /usr/local/lib/python3.7/dist-packages (from qiskit-terra==0.21.0->qiskit) (0.3.5.1)\n",
            "Requirement already satisfied: psutil>=5 in /usr/local/lib/python3.7/dist-packages (from qiskit-terra==0.21.0->qiskit) (5.4.8)\n",
            "Collecting shared-memory38\n",
            "  Downloading shared_memory38-0.1.2-cp37-cp37m-manylinux_2_5_x86_64.manylinux1_x86_64.whl (25 kB)\n",
            "Requirement already satisfied: six>=1.5 in /usr/local/lib/python3.7/dist-packages (from python-dateutil>=2.8.0->qiskit-ibmq-provider==0.19.2->qiskit) (1.15.0)\n",
            "Requirement already satisfied: chardet<4,>=3.0.2 in /usr/local/lib/python3.7/dist-packages (from requests>=2.19->qiskit-ibmq-provider==0.19.2->qiskit) (3.0.4)\n",
            "Requirement already satisfied: certifi>=2017.4.17 in /usr/local/lib/python3.7/dist-packages (from requests>=2.19->qiskit-ibmq-provider==0.19.2->qiskit) (2022.6.15)\n",
            "Requirement already satisfied: idna<3,>=2.5 in /usr/local/lib/python3.7/dist-packages (from requests>=2.19->qiskit-ibmq-provider==0.19.2->qiskit) (2.10)\n",
            "Collecting cryptography>=1.3\n",
            "  Downloading cryptography-37.0.4-cp36-abi3-manylinux_2_24_x86_64.whl (4.1 MB)\n",
            "\u001b[K     |████████████████████████████████| 4.1 MB 27.2 MB/s \n",
            "\u001b[?25hCollecting ntlm-auth>=1.0.2\n",
            "  Downloading ntlm_auth-1.5.0-py2.py3-none-any.whl (29 kB)\n",
            "Requirement already satisfied: cffi>=1.12 in /usr/local/lib/python3.7/dist-packages (from cryptography>=1.3->requests-ntlm>=1.1.0->qiskit-ibmq-provider==0.19.2->qiskit) (1.15.0)\n",
            "Requirement already satisfied: pycparser in /usr/local/lib/python3.7/dist-packages (from cffi>=1.12->cryptography>=1.3->requests-ntlm>=1.1.0->qiskit-ibmq-provider==0.19.2->qiskit) (2.21)\n",
            "Requirement already satisfied: importlib-metadata>=1.7.0 in /usr/local/lib/python3.7/dist-packages (from stevedore>=3.0.0->qiskit-terra==0.21.0->qiskit) (4.11.4)\n",
            "Collecting pbr!=2.1.0,>=2.0.0\n",
            "  Downloading pbr-5.9.0-py2.py3-none-any.whl (112 kB)\n",
            "\u001b[K     |████████████████████████████████| 112 kB 47.1 MB/s \n",
            "\u001b[?25hRequirement already satisfied: zipp>=0.5 in /usr/local/lib/python3.7/dist-packages (from importlib-metadata>=1.7.0->stevedore>=3.0.0->qiskit-terra==0.21.0->qiskit) (3.8.0)\n",
            "Requirement already satisfied: mpmath>=0.19 in /usr/local/lib/python3.7/dist-packages (from sympy>=1.3->qiskit-terra==0.21.0->qiskit) (1.2.1)\n",
            "Building wheels for collected packages: qiskit\n",
            "  Building wheel for qiskit (setup.py) ... \u001b[?25l\u001b[?25hdone\n",
            "  Created wheel for qiskit: filename=qiskit-0.37.0-py3-none-any.whl size=12028 sha256=32611acbba3638c2749b10e562b03d1b2c5ccd99345a12fa90f0c59e595b8d84\n",
            "  Stored in directory: /root/.cache/pip/wheels/ed/f9/fa/3ed81abb79590bf4c0432e7816bcdf3f0dbd1ba5aeb3eeddf7\n",
            "Successfully built qiskit\n",
            "Installing collected packages: pbr, tweedledum, symengine, stevedore, shared-memory38, scipy, retworkx, ply, ntlm-auth, cryptography, websockets, websocket-client, requests-ntlm, qiskit-terra, qiskit-ibmq-provider, qiskit-aer, qiskit\n",
            "  Attempting uninstall: scipy\n",
            "    Found existing installation: scipy 1.4.1\n",
            "    Uninstalling scipy-1.4.1:\n",
            "      Successfully uninstalled scipy-1.4.1\n",
            "Successfully installed cryptography-37.0.4 ntlm-auth-1.5.0 pbr-5.9.0 ply-3.11 qiskit-0.37.0 qiskit-aer-0.10.4 qiskit-ibmq-provider-0.19.2 qiskit-terra-0.21.0 requests-ntlm-1.1.0 retworkx-0.11.0 scipy-1.7.3 shared-memory38-0.1.2 stevedore-3.5.0 symengine-0.9.2 tweedledum-1.1.1 websocket-client-1.3.3 websockets-10.3\n",
            "Looking in indexes: https://pypi.org/simple, https://us-python.pkg.dev/colab-wheels/public/simple/\n",
            "Collecting pylatexenc\n",
            "  Downloading pylatexenc-2.10.tar.gz (162 kB)\n",
            "\u001b[K     |████████████████████████████████| 162 kB 5.2 MB/s \n",
            "\u001b[?25hBuilding wheels for collected packages: pylatexenc\n",
            "  Building wheel for pylatexenc (setup.py) ... \u001b[?25l\u001b[?25hdone\n",
            "  Created wheel for pylatexenc: filename=pylatexenc-2.10-py3-none-any.whl size=136835 sha256=a66abded57c2320c0bf5526dec90c932357ec486d9f6268c54e6b398d8a294ad\n",
            "  Stored in directory: /root/.cache/pip/wheels/f1/8a/f5/33ee79d4473eb201b519fa40f989b842e373237395a3421f52\n",
            "Successfully built pylatexenc\n",
            "Installing collected packages: pylatexenc\n",
            "Successfully installed pylatexenc-2.10\n",
            "Looking in indexes: https://pypi.org/simple, https://us-python.pkg.dev/colab-wheels/public/simple/\n",
            "Collecting latex\n",
            "  Downloading latex-0.7.0.tar.gz (6.5 kB)\n",
            "Collecting tempdir\n",
            "  Downloading tempdir-0.7.1.tar.gz (5.9 kB)\n",
            "Collecting data\n",
            "  Downloading data-0.4.tar.gz (7.0 kB)\n",
            "Requirement already satisfied: future in /usr/local/lib/python3.7/dist-packages (from latex) (0.16.0)\n",
            "Collecting shutilwhich\n",
            "  Downloading shutilwhich-1.1.0.tar.gz (2.3 kB)\n",
            "Requirement already satisfied: six in /usr/local/lib/python3.7/dist-packages (from data->latex) (1.15.0)\n",
            "Requirement already satisfied: decorator in /usr/local/lib/python3.7/dist-packages (from data->latex) (4.4.2)\n",
            "Collecting funcsigs\n",
            "  Downloading funcsigs-1.0.2-py2.py3-none-any.whl (17 kB)\n",
            "Building wheels for collected packages: latex, data, shutilwhich, tempdir\n",
            "  Building wheel for latex (setup.py) ... \u001b[?25l\u001b[?25hdone\n",
            "  Created wheel for latex: filename=latex-0.7.0-py3-none-any.whl size=7604 sha256=e1f0156717ad86b353df13428463491686599cbb7c0c432aa122bed3b61cd75f\n",
            "  Stored in directory: /root/.cache/pip/wheels/57/d6/11/5d5718227890d9e479b6137cb406410c37a0b84b2ab35b872b\n",
            "  Building wheel for data (setup.py) ... \u001b[?25l\u001b[?25hdone\n",
            "  Created wheel for data: filename=data-0.4-py3-none-any.whl size=7247 sha256=67278be90b97398061d803f28f7acba3c7c4e9623bef3aa416e439769b934305\n",
            "  Stored in directory: /root/.cache/pip/wheels/28/76/4b/7db27e02c1de4d2181559d108fcdfed1680ff7d3534553d460\n",
            "  Building wheel for shutilwhich (setup.py) ... \u001b[?25l\u001b[?25hdone\n",
            "  Created wheel for shutilwhich: filename=shutilwhich-1.1.0-py3-none-any.whl size=2781 sha256=639b2f2966d0b295b0fa1f1aebb9a3573e2d7e48343b240d262c4c654624975f\n",
            "  Stored in directory: /root/.cache/pip/wheels/4c/c0/ce/5a47f35186acbe73e38811df30daaf798c81a7599bb2d5995a\n",
            "  Building wheel for tempdir (setup.py) ... \u001b[?25l\u001b[?25hdone\n",
            "  Created wheel for tempdir: filename=tempdir-0.7.1-py3-none-any.whl size=2214 sha256=172ae04a205f4079fe2488a62e1d1be66276f06887884570d8d70a63c5f92eb1\n",
            "  Stored in directory: /root/.cache/pip/wheels/7a/f1/d7/124b54c21a9ba4973bc60fcda6cdc264271f3c4d607be0486d\n",
            "Successfully built latex data shutilwhich tempdir\n",
            "Installing collected packages: funcsigs, tempdir, shutilwhich, data, latex\n",
            "Successfully installed data-0.4 funcsigs-1.0.2 latex-0.7.0 shutilwhich-1.1.0 tempdir-0.7.1\n",
            "Reading package lists... Done\n",
            "Building dependency tree       \n",
            "Reading state information... Done\n",
            "The following package was automatically installed and is no longer required:\n",
            "  libnvidia-common-460\n",
            "Use 'apt autoremove' to remove it.\n",
            "The following additional packages will be installed:\n",
            "  cm-super-minimal fonts-droid-fallback fonts-lmodern fonts-noto-mono\n",
            "  libcupsfilters1 libcupsimage2 libgs9 libgs9-common libijs-0.35 libjbig2dec0\n",
            "  libkpathsea6 libpotrace0 libptexenc1 libsynctex1 libtexlua52 libtexluajit2\n",
            "  libzzip-0-13 lmodern pfb2t1c2pfb poppler-data t1utils tex-common\n",
            "  texlive-base texlive-binaries texlive-latex-base texlive-latex-recommended\n",
            "Suggested packages:\n",
            "  fonts-noto poppler-utils ghostscript fonts-japanese-mincho\n",
            "  | fonts-ipafont-mincho fonts-japanese-gothic | fonts-ipafont-gothic\n",
            "  fonts-arphic-ukai fonts-arphic-uming fonts-nanum debhelper gv\n",
            "  | postscript-viewer perl-tk xpdf-reader | pdf-viewer texlive-latex-base-doc\n",
            "  texlive-latex-recommended-doc texlive-pstricks\n",
            "The following NEW packages will be installed:\n",
            "  cm-super cm-super-minimal fonts-droid-fallback fonts-lmodern fonts-noto-mono\n",
            "  libcupsfilters1 libcupsimage2 libgs9 libgs9-common libijs-0.35 libjbig2dec0\n",
            "  libkpathsea6 libpotrace0 libptexenc1 libsynctex1 libtexlua52 libtexluajit2\n",
            "  libzzip-0-13 lmodern pfb2t1c2pfb poppler-data t1utils tex-common\n",
            "  texlive-base texlive-binaries texlive-latex-base texlive-latex-recommended\n",
            "0 upgraded, 27 newly installed, 0 to remove and 49 not upgraded.\n",
            "Need to get 92.9 MB of archives.\n",
            "After this operation, 283 MB of additional disk space will be used.\n",
            "Get:1 http://archive.ubuntu.com/ubuntu bionic/main amd64 fonts-droid-fallback all 1:6.0.1r16-1.1 [1,805 kB]\n",
            "Get:2 http://archive.ubuntu.com/ubuntu bionic/main amd64 poppler-data all 0.4.8-2 [1,479 kB]\n",
            "Get:3 http://archive.ubuntu.com/ubuntu bionic/main amd64 tex-common all 6.09 [33.0 kB]\n",
            "Get:4 http://archive.ubuntu.com/ubuntu bionic-updates/main amd64 libkpathsea6 amd64 2017.20170613.44572-8ubuntu0.1 [54.9 kB]\n",
            "Get:5 http://archive.ubuntu.com/ubuntu bionic-updates/main amd64 libptexenc1 amd64 2017.20170613.44572-8ubuntu0.1 [34.5 kB]\n",
            "Get:6 http://archive.ubuntu.com/ubuntu bionic-updates/main amd64 libsynctex1 amd64 2017.20170613.44572-8ubuntu0.1 [41.4 kB]\n",
            "Get:7 http://archive.ubuntu.com/ubuntu bionic-updates/main amd64 libtexlua52 amd64 2017.20170613.44572-8ubuntu0.1 [91.2 kB]\n",
            "Get:8 http://archive.ubuntu.com/ubuntu bionic-updates/main amd64 libtexluajit2 amd64 2017.20170613.44572-8ubuntu0.1 [230 kB]\n",
            "Get:9 http://archive.ubuntu.com/ubuntu bionic/main amd64 t1utils amd64 1.41-2 [56.0 kB]\n",
            "Get:10 http://archive.ubuntu.com/ubuntu bionic-updates/main amd64 libcupsimage2 amd64 2.2.7-1ubuntu2.9 [18.6 kB]\n",
            "Get:11 http://archive.ubuntu.com/ubuntu bionic/main amd64 libijs-0.35 amd64 0.35-13 [15.5 kB]\n",
            "Get:12 http://archive.ubuntu.com/ubuntu bionic/main amd64 libjbig2dec0 amd64 0.13-6 [55.9 kB]\n",
            "Get:13 http://archive.ubuntu.com/ubuntu bionic-updates/main amd64 libgs9-common all 9.26~dfsg+0-0ubuntu0.18.04.16 [5,093 kB]\n",
            "Get:14 http://archive.ubuntu.com/ubuntu bionic-updates/main amd64 libgs9 amd64 9.26~dfsg+0-0ubuntu0.18.04.16 [2,265 kB]\n",
            "Get:15 http://archive.ubuntu.com/ubuntu bionic/main amd64 libpotrace0 amd64 1.14-2 [17.4 kB]\n",
            "Get:16 http://archive.ubuntu.com/ubuntu bionic-updates/main amd64 libzzip-0-13 amd64 0.13.62-3.1ubuntu0.18.04.1 [26.0 kB]\n",
            "Get:17 http://archive.ubuntu.com/ubuntu bionic-updates/main amd64 texlive-binaries amd64 2017.20170613.44572-8ubuntu0.1 [8,179 kB]\n",
            "Get:18 http://archive.ubuntu.com/ubuntu bionic/main amd64 texlive-base all 2017.20180305-1 [18.7 MB]\n",
            "Get:19 http://archive.ubuntu.com/ubuntu bionic/main amd64 fonts-lmodern all 2.004.5-3 [4,551 kB]\n",
            "Get:20 http://archive.ubuntu.com/ubuntu bionic/main amd64 texlive-latex-base all 2017.20180305-1 [951 kB]\n",
            "Get:21 http://archive.ubuntu.com/ubuntu bionic/main amd64 texlive-latex-recommended all 2017.20180305-1 [14.9 MB]\n",
            "Get:22 http://archive.ubuntu.com/ubuntu bionic/universe amd64 cm-super-minimal all 0.3.4-11 [5,810 kB]\n",
            "Get:23 http://archive.ubuntu.com/ubuntu bionic/universe amd64 pfb2t1c2pfb amd64 0.3-11 [9,342 B]\n",
            "Get:24 http://archive.ubuntu.com/ubuntu bionic/universe amd64 cm-super all 0.3.4-11 [18.7 MB]\n",
            "Get:25 http://archive.ubuntu.com/ubuntu bionic/main amd64 fonts-noto-mono all 20171026-2 [75.5 kB]\n",
            "Get:26 http://archive.ubuntu.com/ubuntu bionic-updates/main amd64 libcupsfilters1 amd64 1.20.2-0ubuntu3.1 [108 kB]\n",
            "Get:27 http://archive.ubuntu.com/ubuntu bionic/main amd64 lmodern all 2.004.5-3 [9,631 kB]\n",
            "Fetched 92.9 MB in 5s (19.7 MB/s)\n",
            "Preconfiguring packages ...\n",
            "Selecting previously unselected package fonts-droid-fallback.\n",
            "(Reading database ... 155639 files and directories currently installed.)\n",
            "Preparing to unpack .../00-fonts-droid-fallback_1%3a6.0.1r16-1.1_all.deb ...\n",
            "Unpacking fonts-droid-fallback (1:6.0.1r16-1.1) ...\n",
            "Selecting previously unselected package poppler-data.\n",
            "Preparing to unpack .../01-poppler-data_0.4.8-2_all.deb ...\n",
            "Unpacking poppler-data (0.4.8-2) ...\n",
            "Selecting previously unselected package tex-common.\n",
            "Preparing to unpack .../02-tex-common_6.09_all.deb ...\n",
            "Unpacking tex-common (6.09) ...\n",
            "Selecting previously unselected package libkpathsea6:amd64.\n",
            "Preparing to unpack .../03-libkpathsea6_2017.20170613.44572-8ubuntu0.1_amd64.deb ...\n",
            "Unpacking libkpathsea6:amd64 (2017.20170613.44572-8ubuntu0.1) ...\n",
            "Selecting previously unselected package libptexenc1:amd64.\n",
            "Preparing to unpack .../04-libptexenc1_2017.20170613.44572-8ubuntu0.1_amd64.deb ...\n",
            "Unpacking libptexenc1:amd64 (2017.20170613.44572-8ubuntu0.1) ...\n",
            "Selecting previously unselected package libsynctex1:amd64.\n",
            "Preparing to unpack .../05-libsynctex1_2017.20170613.44572-8ubuntu0.1_amd64.deb ...\n",
            "Unpacking libsynctex1:amd64 (2017.20170613.44572-8ubuntu0.1) ...\n",
            "Selecting previously unselected package libtexlua52:amd64.\n",
            "Preparing to unpack .../06-libtexlua52_2017.20170613.44572-8ubuntu0.1_amd64.deb ...\n",
            "Unpacking libtexlua52:amd64 (2017.20170613.44572-8ubuntu0.1) ...\n",
            "Selecting previously unselected package libtexluajit2:amd64.\n",
            "Preparing to unpack .../07-libtexluajit2_2017.20170613.44572-8ubuntu0.1_amd64.deb ...\n",
            "Unpacking libtexluajit2:amd64 (2017.20170613.44572-8ubuntu0.1) ...\n",
            "Selecting previously unselected package t1utils.\n",
            "Preparing to unpack .../08-t1utils_1.41-2_amd64.deb ...\n",
            "Unpacking t1utils (1.41-2) ...\n",
            "Selecting previously unselected package libcupsimage2:amd64.\n",
            "Preparing to unpack .../09-libcupsimage2_2.2.7-1ubuntu2.9_amd64.deb ...\n",
            "Unpacking libcupsimage2:amd64 (2.2.7-1ubuntu2.9) ...\n",
            "Selecting previously unselected package libijs-0.35:amd64.\n",
            "Preparing to unpack .../10-libijs-0.35_0.35-13_amd64.deb ...\n",
            "Unpacking libijs-0.35:amd64 (0.35-13) ...\n",
            "Selecting previously unselected package libjbig2dec0:amd64.\n",
            "Preparing to unpack .../11-libjbig2dec0_0.13-6_amd64.deb ...\n",
            "Unpacking libjbig2dec0:amd64 (0.13-6) ...\n",
            "Selecting previously unselected package libgs9-common.\n",
            "Preparing to unpack .../12-libgs9-common_9.26~dfsg+0-0ubuntu0.18.04.16_all.deb ...\n",
            "Unpacking libgs9-common (9.26~dfsg+0-0ubuntu0.18.04.16) ...\n",
            "Selecting previously unselected package libgs9:amd64.\n",
            "Preparing to unpack .../13-libgs9_9.26~dfsg+0-0ubuntu0.18.04.16_amd64.deb ...\n",
            "Unpacking libgs9:amd64 (9.26~dfsg+0-0ubuntu0.18.04.16) ...\n",
            "Selecting previously unselected package libpotrace0.\n",
            "Preparing to unpack .../14-libpotrace0_1.14-2_amd64.deb ...\n",
            "Unpacking libpotrace0 (1.14-2) ...\n",
            "Selecting previously unselected package libzzip-0-13:amd64.\n",
            "Preparing to unpack .../15-libzzip-0-13_0.13.62-3.1ubuntu0.18.04.1_amd64.deb ...\n",
            "Unpacking libzzip-0-13:amd64 (0.13.62-3.1ubuntu0.18.04.1) ...\n",
            "Selecting previously unselected package texlive-binaries.\n",
            "Preparing to unpack .../16-texlive-binaries_2017.20170613.44572-8ubuntu0.1_amd64.deb ...\n",
            "Unpacking texlive-binaries (2017.20170613.44572-8ubuntu0.1) ...\n",
            "Selecting previously unselected package texlive-base.\n",
            "Preparing to unpack .../17-texlive-base_2017.20180305-1_all.deb ...\n",
            "Unpacking texlive-base (2017.20180305-1) ...\n",
            "Selecting previously unselected package fonts-lmodern.\n",
            "Preparing to unpack .../18-fonts-lmodern_2.004.5-3_all.deb ...\n",
            "Unpacking fonts-lmodern (2.004.5-3) ...\n",
            "Selecting previously unselected package texlive-latex-base.\n",
            "Preparing to unpack .../19-texlive-latex-base_2017.20180305-1_all.deb ...\n",
            "Unpacking texlive-latex-base (2017.20180305-1) ...\n",
            "Selecting previously unselected package texlive-latex-recommended.\n",
            "Preparing to unpack .../20-texlive-latex-recommended_2017.20180305-1_all.deb ...\n",
            "Unpacking texlive-latex-recommended (2017.20180305-1) ...\n",
            "Selecting previously unselected package cm-super-minimal.\n",
            "Preparing to unpack .../21-cm-super-minimal_0.3.4-11_all.deb ...\n",
            "Unpacking cm-super-minimal (0.3.4-11) ...\n",
            "Selecting previously unselected package pfb2t1c2pfb.\n",
            "Preparing to unpack .../22-pfb2t1c2pfb_0.3-11_amd64.deb ...\n",
            "Unpacking pfb2t1c2pfb (0.3-11) ...\n",
            "Selecting previously unselected package cm-super.\n",
            "Preparing to unpack .../23-cm-super_0.3.4-11_all.deb ...\n",
            "Unpacking cm-super (0.3.4-11) ...\n",
            "Selecting previously unselected package fonts-noto-mono.\n",
            "Preparing to unpack .../24-fonts-noto-mono_20171026-2_all.deb ...\n",
            "Unpacking fonts-noto-mono (20171026-2) ...\n",
            "Selecting previously unselected package libcupsfilters1:amd64.\n",
            "Preparing to unpack .../25-libcupsfilters1_1.20.2-0ubuntu3.1_amd64.deb ...\n",
            "Unpacking libcupsfilters1:amd64 (1.20.2-0ubuntu3.1) ...\n",
            "Selecting previously unselected package lmodern.\n",
            "Preparing to unpack .../26-lmodern_2.004.5-3_all.deb ...\n",
            "Unpacking lmodern (2.004.5-3) ...\n",
            "Setting up libgs9-common (9.26~dfsg+0-0ubuntu0.18.04.16) ...\n",
            "Setting up libkpathsea6:amd64 (2017.20170613.44572-8ubuntu0.1) ...\n",
            "Setting up libtexlua52:amd64 (2017.20170613.44572-8ubuntu0.1) ...\n",
            "Setting up fonts-droid-fallback (1:6.0.1r16-1.1) ...\n",
            "Setting up libsynctex1:amd64 (2017.20170613.44572-8ubuntu0.1) ...\n",
            "Setting up libptexenc1:amd64 (2017.20170613.44572-8ubuntu0.1) ...\n",
            "Setting up tex-common (6.09) ...\n",
            "update-language: texlive-base not installed and configured, doing nothing!\n",
            "Setting up poppler-data (0.4.8-2) ...\n",
            "Setting up pfb2t1c2pfb (0.3-11) ...\n",
            "Setting up fonts-noto-mono (20171026-2) ...\n",
            "Setting up libcupsfilters1:amd64 (1.20.2-0ubuntu3.1) ...\n",
            "Setting up libcupsimage2:amd64 (2.2.7-1ubuntu2.9) ...\n",
            "Setting up libjbig2dec0:amd64 (0.13-6) ...\n",
            "Setting up t1utils (1.41-2) ...\n",
            "Setting up libijs-0.35:amd64 (0.35-13) ...\n",
            "Setting up libpotrace0 (1.14-2) ...\n",
            "Setting up libzzip-0-13:amd64 (0.13.62-3.1ubuntu0.18.04.1) ...\n",
            "Setting up libgs9:amd64 (9.26~dfsg+0-0ubuntu0.18.04.16) ...\n",
            "Setting up libtexluajit2:amd64 (2017.20170613.44572-8ubuntu0.1) ...\n",
            "Setting up fonts-lmodern (2.004.5-3) ...\n",
            "Setting up texlive-binaries (2017.20170613.44572-8ubuntu0.1) ...\n",
            "update-alternatives: using /usr/bin/xdvi-xaw to provide /usr/bin/xdvi.bin (xdvi.bin) in auto mode\n",
            "update-alternatives: using /usr/bin/bibtex.original to provide /usr/bin/bibtex (bibtex) in auto mode\n",
            "Setting up texlive-base (2017.20180305-1) ...\n",
            "mktexlsr: Updating /var/lib/texmf/ls-R-TEXLIVEDIST... \n",
            "mktexlsr: Updating /var/lib/texmf/ls-R-TEXMFMAIN... \n",
            "mktexlsr: Updating /var/lib/texmf/ls-R... \n",
            "mktexlsr: Done.\n",
            "tl-paper: setting paper size for dvips to a4: /var/lib/texmf/dvips/config/config-paper.ps\n",
            "tl-paper: setting paper size for dvipdfmx to a4: /var/lib/texmf/dvipdfmx/dvipdfmx-paper.cfg\n",
            "tl-paper: setting paper size for xdvi to a4: /var/lib/texmf/xdvi/XDvi-paper\n",
            "tl-paper: setting paper size for pdftex to a4: /var/lib/texmf/tex/generic/config/pdftexconfig.tex\n",
            "Setting up texlive-latex-base (2017.20180305-1) ...\n",
            "Setting up lmodern (2.004.5-3) ...\n",
            "Setting up texlive-latex-recommended (2017.20180305-1) ...\n",
            "Setting up cm-super-minimal (0.3.4-11) ...\n",
            "Setting up cm-super (0.3.4-11) ...\n",
            "Creating fonts. This may take some time... done.\n",
            "Processing triggers for man-db (2.8.3-2ubuntu0.1) ...\n",
            "Processing triggers for fontconfig (2.12.6-0ubuntu2) ...\n",
            "Processing triggers for mime-support (3.60ubuntu1) ...\n",
            "Processing triggers for libc-bin (2.27-3ubuntu1.3) ...\n",
            "/sbin/ldconfig.real: /usr/local/lib/python3.7/dist-packages/ideep4py/lib/libmkldnn.so.0 is not a symbolic link\n",
            "\n",
            "Processing triggers for tex-common (6.09) ...\n",
            "Running updmap-sys. This may take some time... done.\n",
            "Running mktexlsr /var/lib/texmf ... done.\n",
            "Building format(s) --all.\n",
            "\tThis may take some time... done.\n",
            "Reading package lists... Done\n",
            "Building dependency tree       \n",
            "Reading state information... Done\n",
            "The following package was automatically installed and is no longer required:\n",
            "  libnvidia-common-460\n",
            "Use 'apt autoremove' to remove it.\n",
            "The following additional packages will be installed:\n",
            "  ghostscript gsfonts\n",
            "Suggested packages:\n",
            "  ghostscript-x\n",
            "The following NEW packages will be installed:\n",
            "  dvipng ghostscript gsfonts\n",
            "0 upgraded, 3 newly installed, 0 to remove and 49 not upgraded.\n",
            "Need to get 3,250 kB of archives.\n",
            "After this operation, 4,947 kB of additional disk space will be used.\n",
            "Get:1 http://archive.ubuntu.com/ubuntu bionic-updates/main amd64 ghostscript amd64 9.26~dfsg+0-0ubuntu0.18.04.16 [51.3 kB]\n",
            "Get:2 http://archive.ubuntu.com/ubuntu bionic/universe amd64 dvipng amd64 1.15-1 [78.2 kB]\n",
            "Get:3 http://archive.ubuntu.com/ubuntu bionic/main amd64 gsfonts all 1:8.11+urwcyr1.0.7~pre44-4.4 [3,120 kB]\n",
            "Fetched 3,250 kB in 1s (2,413 kB/s)\n",
            "Selecting previously unselected package ghostscript.\n",
            "(Reading database ... 163434 files and directories currently installed.)\n",
            "Preparing to unpack .../ghostscript_9.26~dfsg+0-0ubuntu0.18.04.16_amd64.deb ...\n",
            "Unpacking ghostscript (9.26~dfsg+0-0ubuntu0.18.04.16) ...\n",
            "Selecting previously unselected package dvipng.\n",
            "Preparing to unpack .../dvipng_1.15-1_amd64.deb ...\n",
            "Unpacking dvipng (1.15-1) ...\n",
            "Selecting previously unselected package gsfonts.\n",
            "Preparing to unpack .../gsfonts_1%3a8.11+urwcyr1.0.7~pre44-4.4_all.deb ...\n",
            "Unpacking gsfonts (1:8.11+urwcyr1.0.7~pre44-4.4) ...\n",
            "Setting up gsfonts (1:8.11+urwcyr1.0.7~pre44-4.4) ...\n",
            "Setting up ghostscript (9.26~dfsg+0-0ubuntu0.18.04.16) ...\n",
            "Setting up dvipng (1.15-1) ...\n",
            "Processing triggers for fontconfig (2.12.6-0ubuntu2) ...\n",
            "Processing triggers for man-db (2.8.3-2ubuntu0.1) ...\n",
            "Reading package lists... Done\n",
            "Building dependency tree       \n",
            "Reading state information... Done\n",
            "dvipng is already the newest version (1.15-1).\n",
            "The following package was automatically installed and is no longer required:\n",
            "  libnvidia-common-460\n",
            "Use 'apt autoremove' to remove it.\n",
            "The following additional packages will be installed:\n",
            "  fonts-lato fonts-texgyre javascript-common libjs-jquery libruby2.5\n",
            "  preview-latex-style rake ruby ruby-did-you-mean ruby-minitest\n",
            "  ruby-net-telnet ruby-power-assert ruby-test-unit ruby2.5\n",
            "  rubygems-integration tex-gyre texlive-pictures texlive-plain-generic tipa\n",
            "Suggested packages:\n",
            "  apache2 | lighttpd | httpd ri ruby-dev bundler texlive-fonts-recommended-doc\n",
            "  python-pygments icc-profiles libfile-which-perl\n",
            "  libspreadsheet-parseexcel-perl texlive-latex-extra-doc dot2tex prerex\n",
            "  ruby-tcltk | libtcltk-ruby texlive-pictures-doc vprerex\n",
            "The following NEW packages will be installed:\n",
            "  fonts-lato fonts-texgyre javascript-common libjs-jquery libruby2.5\n",
            "  preview-latex-style rake ruby ruby-did-you-mean ruby-minitest\n",
            "  ruby-net-telnet ruby-power-assert ruby-test-unit ruby2.5\n",
            "  rubygems-integration tex-gyre texlive texlive-fonts-recommended\n",
            "  texlive-latex-extra texlive-pictures texlive-plain-generic tipa\n",
            "0 upgraded, 22 newly installed, 0 to remove and 49 not upgraded.\n",
            "Need to get 66.6 MB of archives.\n",
            "After this operation, 216 MB of additional disk space will be used.\n",
            "Get:1 http://archive.ubuntu.com/ubuntu bionic/main amd64 fonts-lato all 2.0-2 [2,698 kB]\n",
            "Get:2 http://archive.ubuntu.com/ubuntu bionic/universe amd64 fonts-texgyre all 20160520-1 [8,761 kB]\n",
            "Get:3 http://archive.ubuntu.com/ubuntu bionic/main amd64 javascript-common all 11 [6,066 B]\n",
            "Get:4 http://archive.ubuntu.com/ubuntu bionic/main amd64 libjs-jquery all 3.2.1-1 [152 kB]\n",
            "Get:5 http://archive.ubuntu.com/ubuntu bionic/main amd64 rubygems-integration all 1.11 [4,994 B]\n",
            "Get:6 http://archive.ubuntu.com/ubuntu bionic-updates/main amd64 ruby2.5 amd64 2.5.1-1ubuntu1.12 [48.6 kB]\n",
            "Get:7 http://archive.ubuntu.com/ubuntu bionic/main amd64 ruby amd64 1:2.5.1 [5,712 B]\n",
            "Get:8 http://archive.ubuntu.com/ubuntu bionic-updates/main amd64 rake all 12.3.1-1ubuntu0.1 [44.9 kB]\n",
            "Get:9 http://archive.ubuntu.com/ubuntu bionic/main amd64 ruby-did-you-mean all 1.2.0-2 [9,700 B]\n",
            "Get:10 http://archive.ubuntu.com/ubuntu bionic/main amd64 ruby-minitest all 5.10.3-1 [38.6 kB]\n",
            "Get:11 http://archive.ubuntu.com/ubuntu bionic/main amd64 ruby-net-telnet all 0.1.1-2 [12.6 kB]\n",
            "Get:12 http://archive.ubuntu.com/ubuntu bionic/main amd64 ruby-power-assert all 0.3.0-1 [7,952 B]\n",
            "Get:13 http://archive.ubuntu.com/ubuntu bionic/main amd64 ruby-test-unit all 3.2.5-1 [61.1 kB]\n",
            "Get:14 http://archive.ubuntu.com/ubuntu bionic-updates/main amd64 libruby2.5 amd64 2.5.1-1ubuntu1.12 [3,073 kB]\n",
            "Get:15 http://archive.ubuntu.com/ubuntu bionic/main amd64 preview-latex-style all 11.91-1ubuntu1 [185 kB]\n",
            "Get:16 http://archive.ubuntu.com/ubuntu bionic/universe amd64 tex-gyre all 20160520-1 [4,998 kB]\n",
            "Get:17 http://archive.ubuntu.com/ubuntu bionic/universe amd64 texlive-fonts-recommended all 2017.20180305-1 [5,262 kB]\n",
            "Get:18 http://archive.ubuntu.com/ubuntu bionic/universe amd64 texlive all 2017.20180305-1 [14.4 kB]\n",
            "Get:19 http://archive.ubuntu.com/ubuntu bionic/universe amd64 texlive-pictures all 2017.20180305-1 [4,026 kB]\n",
            "Get:20 http://archive.ubuntu.com/ubuntu bionic/universe amd64 texlive-latex-extra all 2017.20180305-2 [10.6 MB]\n",
            "Get:21 http://archive.ubuntu.com/ubuntu bionic/universe amd64 texlive-plain-generic all 2017.20180305-2 [23.6 MB]\n",
            "Get:22 http://archive.ubuntu.com/ubuntu bionic/universe amd64 tipa all 2:1.3-20 [2,978 kB]\n",
            "Fetched 66.6 MB in 4s (18.2 MB/s)\n",
            "Selecting previously unselected package fonts-lato.\n",
            "(Reading database ... 163628 files and directories currently installed.)\n",
            "Preparing to unpack .../00-fonts-lato_2.0-2_all.deb ...\n",
            "Unpacking fonts-lato (2.0-2) ...\n",
            "Selecting previously unselected package fonts-texgyre.\n",
            "Preparing to unpack .../01-fonts-texgyre_20160520-1_all.deb ...\n",
            "Unpacking fonts-texgyre (20160520-1) ...\n",
            "Selecting previously unselected package javascript-common.\n",
            "Preparing to unpack .../02-javascript-common_11_all.deb ...\n",
            "Unpacking javascript-common (11) ...\n",
            "Selecting previously unselected package libjs-jquery.\n",
            "Preparing to unpack .../03-libjs-jquery_3.2.1-1_all.deb ...\n",
            "Unpacking libjs-jquery (3.2.1-1) ...\n",
            "Selecting previously unselected package rubygems-integration.\n",
            "Preparing to unpack .../04-rubygems-integration_1.11_all.deb ...\n",
            "Unpacking rubygems-integration (1.11) ...\n",
            "Selecting previously unselected package ruby2.5.\n",
            "Preparing to unpack .../05-ruby2.5_2.5.1-1ubuntu1.12_amd64.deb ...\n",
            "Unpacking ruby2.5 (2.5.1-1ubuntu1.12) ...\n",
            "Selecting previously unselected package ruby.\n",
            "Preparing to unpack .../06-ruby_1%3a2.5.1_amd64.deb ...\n",
            "Unpacking ruby (1:2.5.1) ...\n",
            "Selecting previously unselected package rake.\n",
            "Preparing to unpack .../07-rake_12.3.1-1ubuntu0.1_all.deb ...\n",
            "Unpacking rake (12.3.1-1ubuntu0.1) ...\n",
            "Selecting previously unselected package ruby-did-you-mean.\n",
            "Preparing to unpack .../08-ruby-did-you-mean_1.2.0-2_all.deb ...\n",
            "Unpacking ruby-did-you-mean (1.2.0-2) ...\n",
            "Selecting previously unselected package ruby-minitest.\n",
            "Preparing to unpack .../09-ruby-minitest_5.10.3-1_all.deb ...\n",
            "Unpacking ruby-minitest (5.10.3-1) ...\n",
            "Selecting previously unselected package ruby-net-telnet.\n",
            "Preparing to unpack .../10-ruby-net-telnet_0.1.1-2_all.deb ...\n",
            "Unpacking ruby-net-telnet (0.1.1-2) ...\n",
            "Selecting previously unselected package ruby-power-assert.\n",
            "Preparing to unpack .../11-ruby-power-assert_0.3.0-1_all.deb ...\n",
            "Unpacking ruby-power-assert (0.3.0-1) ...\n",
            "Selecting previously unselected package ruby-test-unit.\n",
            "Preparing to unpack .../12-ruby-test-unit_3.2.5-1_all.deb ...\n",
            "Unpacking ruby-test-unit (3.2.5-1) ...\n",
            "Selecting previously unselected package libruby2.5:amd64.\n",
            "Preparing to unpack .../13-libruby2.5_2.5.1-1ubuntu1.12_amd64.deb ...\n",
            "Unpacking libruby2.5:amd64 (2.5.1-1ubuntu1.12) ...\n",
            "Selecting previously unselected package preview-latex-style.\n",
            "Preparing to unpack .../14-preview-latex-style_11.91-1ubuntu1_all.deb ...\n",
            "Unpacking preview-latex-style (11.91-1ubuntu1) ...\n",
            "Selecting previously unselected package tex-gyre.\n",
            "Preparing to unpack .../15-tex-gyre_20160520-1_all.deb ...\n",
            "Unpacking tex-gyre (20160520-1) ...\n",
            "Selecting previously unselected package texlive-fonts-recommended.\n",
            "Preparing to unpack .../16-texlive-fonts-recommended_2017.20180305-1_all.deb ...\n",
            "Unpacking texlive-fonts-recommended (2017.20180305-1) ...\n",
            "Selecting previously unselected package texlive.\n",
            "Preparing to unpack .../17-texlive_2017.20180305-1_all.deb ...\n",
            "Unpacking texlive (2017.20180305-1) ...\n",
            "Selecting previously unselected package texlive-pictures.\n",
            "Preparing to unpack .../18-texlive-pictures_2017.20180305-1_all.deb ...\n",
            "Unpacking texlive-pictures (2017.20180305-1) ...\n",
            "Selecting previously unselected package texlive-latex-extra.\n",
            "Preparing to unpack .../19-texlive-latex-extra_2017.20180305-2_all.deb ...\n",
            "Unpacking texlive-latex-extra (2017.20180305-2) ...\n",
            "Selecting previously unselected package texlive-plain-generic.\n",
            "Preparing to unpack .../20-texlive-plain-generic_2017.20180305-2_all.deb ...\n",
            "Unpacking texlive-plain-generic (2017.20180305-2) ...\n",
            "Selecting previously unselected package tipa.\n",
            "Preparing to unpack .../21-tipa_2%3a1.3-20_all.deb ...\n",
            "Unpacking tipa (2:1.3-20) ...\n",
            "Setting up libjs-jquery (3.2.1-1) ...\n",
            "Setting up texlive-pictures (2017.20180305-1) ...\n",
            "Setting up tex-gyre (20160520-1) ...\n",
            "Setting up tipa (2:1.3-20) ...\n",
            "Regenerating '/var/lib/texmf/fmtutil.cnf-DEBIAN'... done.\n",
            "Regenerating '/var/lib/texmf/fmtutil.cnf-TEXLIVEDIST'... done.\n",
            "update-fmtutil has updated the following file(s):\n",
            "\t/var/lib/texmf/fmtutil.cnf-DEBIAN\n",
            "\t/var/lib/texmf/fmtutil.cnf-TEXLIVEDIST\n",
            "If you want to activate the changes in the above file(s),\n",
            "you should run fmtutil-sys or fmtutil.\n",
            "Setting up preview-latex-style (11.91-1ubuntu1) ...\n",
            "Setting up fonts-texgyre (20160520-1) ...\n",
            "Setting up fonts-lato (2.0-2) ...\n",
            "Setting up ruby-did-you-mean (1.2.0-2) ...\n",
            "Setting up ruby-net-telnet (0.1.1-2) ...\n",
            "Setting up rubygems-integration (1.11) ...\n",
            "Setting up javascript-common (11) ...\n",
            "Setting up texlive-fonts-recommended (2017.20180305-1) ...\n",
            "Setting up texlive-plain-generic (2017.20180305-2) ...\n",
            "Setting up ruby-minitest (5.10.3-1) ...\n",
            "Setting up texlive (2017.20180305-1) ...\n",
            "Setting up ruby-power-assert (0.3.0-1) ...\n",
            "Setting up texlive-latex-extra (2017.20180305-2) ...\n",
            "Setting up ruby-test-unit (3.2.5-1) ...\n",
            "Setting up libruby2.5:amd64 (2.5.1-1ubuntu1.12) ...\n",
            "Setting up ruby2.5 (2.5.1-1ubuntu1.12) ...\n",
            "Setting up ruby (1:2.5.1) ...\n",
            "Setting up rake (12.3.1-1ubuntu0.1) ...\n",
            "Processing triggers for libc-bin (2.27-3ubuntu1.3) ...\n",
            "/sbin/ldconfig.real: /usr/local/lib/python3.7/dist-packages/ideep4py/lib/libmkldnn.so.0 is not a symbolic link\n",
            "\n",
            "Processing triggers for man-db (2.8.3-2ubuntu0.1) ...\n",
            "Processing triggers for fontconfig (2.12.6-0ubuntu2) ...\n",
            "Processing triggers for tex-common (6.09) ...\n",
            "Running mktexlsr. This may take some time... done.\n",
            "Running updmap-sys. This may take some time... done.\n",
            "Running mktexlsr /var/lib/texmf ... done.\n"
          ]
        }
      ]
    },
    {
      "cell_type": "code",
      "execution_count": 2,
      "metadata": {
        "id": "SMIGnG7evDe5"
      },
      "outputs": [],
      "source": [
        "import numpy as np\n",
        "from qiskit import *\n",
        "from qiskit.visualization import plot_bloch_multivector\n",
        "from qiskit.tools.monitor import job_monitor\n",
        "from qiskit.tools.visualization import plot_histogram\n",
        "\n",
        "import qiskit.quantum_info as qi\n",
        "\n",
        "from scipy import linalg as lng\n",
        "import matplotlib.pyplot as plt"
      ]
    },
    {
      "cell_type": "code",
      "source": [
        "svsim = Aer.get_backend('statevector_simulator')\n",
        "qc = QuantumCircuit(1,1)\n",
        "\n",
        "#the state used to initialize is always the same when using the simulator\n",
        "#all the 20'000 shots use the very same state (this does not occur when using a real backend)\n",
        "#we should see 70% of |1> and 30% of |0>, when no noise is in place (sqrt(0.7)^2, (sqrt(0.3)^2) )\n",
        "#ideal machine: state p(|0>) = 70%\n",
        "#real machine: state p(|0>) = 0.7*(0.7) + 0.3*1\n",
        "\n",
        "qc.initialize([np.sqrt(0.7), 1j*np.sqrt(0.3) ], 0) #initializing qubit 0 with values [ sqrt(0.7), i*sqrt(0.3) ]\n",
        "\n",
        "result = execute(qc, shots=20000, backend =svsim).result()\n",
        "svector = result.get_statevector()\n",
        "print(svector)"
      ],
      "metadata": {
        "colab": {
          "base_uri": "https://localhost:8080/"
        },
        "id": "uPDrrn-evUOT",
        "outputId": "0988f6ce-f610-4871-bd65-69a6438a4a8c"
      },
      "execution_count": 3,
      "outputs": [
        {
          "output_type": "stream",
          "name": "stdout",
          "text": [
            "Statevector([0.83666003+0.j        , 0.        +0.54772256j],\n",
            "            dims=(2,))\n"
          ]
        }
      ]
    },
    {
      "cell_type": "code",
      "source": [
        "plot_bloch_multivector(svector)"
      ],
      "metadata": {
        "colab": {
          "base_uri": "https://localhost:8080/",
          "height": 268
        },
        "id": "AbT3LSsUwMnL",
        "outputId": "0a40f958-27a0-439e-b811-a1545bff579e"
      },
      "execution_count": 4,
      "outputs": [
        {
          "output_type": "execute_result",
          "data": {
            "text/plain": [
              "<Figure size 288x288 with 1 Axes>"
            ],
            "image/png": "[encoded data removed]"
          },
          "metadata": {},
          "execution_count": 4
        }
      ]
    },
    {
      "cell_type": "code",
      "source": [
        "#we need an array with shape (1,2)...\n",
        "psil = np.array([svector])\n",
        "psil.shape"
      ],
      "metadata": {
        "colab": {
          "base_uri": "https://localhost:8080/"
        },
        "id": "iitKaRKTwUpM",
        "outputId": "6c2657ea-31b4-4262-eac6-074d5ed3c3a7"
      },
      "execution_count": 5,
      "outputs": [
        {
          "output_type": "execute_result",
          "data": {
            "text/plain": [
              "(1, 2)"
            ]
          },
          "metadata": {},
          "execution_count": 5
        }
      ]
    },
    {
      "cell_type": "code",
      "source": [
        "print(psil)"
      ],
      "metadata": {
        "colab": {
          "base_uri": "https://localhost:8080/"
        },
        "id": "Zd97w1R0wnEj",
        "outputId": "082d6643-112d-4a85-e9ee-dca3747e0214"
      },
      "execution_count": 6,
      "outputs": [
        {
          "output_type": "stream",
          "name": "stdout",
          "text": [
            "[[0.83666003+0.j         0.        +0.54772256j]]\n"
          ]
        }
      ]
    },
    {
      "cell_type": "code",
      "source": [
        "psil = np.array([svector])\n",
        "psic = np.conjugate(psil).T\n",
        "print(psil)\n",
        "print(psic)"
      ],
      "metadata": {
        "colab": {
          "base_uri": "https://localhost:8080/"
        },
        "id": "b8ljGJJLw1xa",
        "outputId": "12c9f04f-0877-4f46-c196-4f0ae70856fb"
      },
      "execution_count": 7,
      "outputs": [
        {
          "output_type": "stream",
          "name": "stdout",
          "text": [
            "[[0.83666003+0.j         0.        +0.54772256j]]\n",
            "[[0.83666003-0.j        ]\n",
            " [0.        -0.54772256j]]\n"
          ]
        }
      ]
    },
    {
      "cell_type": "code",
      "source": [
        "rho = psic@psil # density operator with p=100%\n",
        "print(rho) #density operator"
      ],
      "metadata": {
        "colab": {
          "base_uri": "https://localhost:8080/"
        },
        "id": "olIFiIrwzz4Q",
        "outputId": "246e7f94-f698-49bb-f51d-e668eeb5032e"
      },
      "execution_count": 8,
      "outputs": [
        {
          "output_type": "stream",
          "name": "stdout",
          "text": [
            "[[0.7+0.j         0. +0.45825757j]\n",
            " [0. -0.45825757j 0.3+0.j        ]]\n"
          ]
        }
      ]
    },
    {
      "cell_type": "code",
      "source": [
        "#This state is a pure state (as expected) as the resulting trace of rho^2 = 1\n",
        "print(np.trace(rho@rho))"
      ],
      "metadata": {
        "colab": {
          "base_uri": "https://localhost:8080/"
        },
        "id": "39IR9HFxz23T",
        "outputId": "4d815778-93bd-4cdc-ee55-050dab82563a"
      },
      "execution_count": 9,
      "outputs": [
        {
          "output_type": "stream",
          "name": "stdout",
          "text": [
            "(1+0j)\n"
          ]
        }
      ]
    },
    {
      "cell_type": "code",
      "source": [
        "#computational basis...\n",
        "v0 = np.array([[1,0]])\n",
        "v1 = np.array([[0,1]])"
      ],
      "metadata": {
        "id": "pq8V-9HT0GUk"
      },
      "execution_count": 10,
      "outputs": []
    },
    {
      "cell_type": "code",
      "source": [
        "#distinct projections... \n",
        "#the projection below gives the element of rho in line 2, column 2 - in python: [1, 1]\n",
        "print(np.conjugate(v1)@rho@v1.T)  #<1|rho|1>\n",
        "print(rho[1,1])\n",
        "print()\n",
        "#distinct projections... \n",
        "#the projection below gives the element of rho in line 1, column 1 - in python: [0, 0]\n",
        "print(np.conjugate(v0)@rho@v0.T)  #<0|rho|0>\n",
        "print(rho[0,0])\n",
        "print()\n",
        "#distinct projections... \n",
        "#the projection below gives the element of rho in line 1, column 2 - in python: [0, 1]\n",
        "print(np.conjugate(v0)@rho@v1.T)  #<0|rho|1>\n",
        "print(rho[0,1])"
      ],
      "metadata": {
        "colab": {
          "base_uri": "https://localhost:8080/"
        },
        "id": "VHQPZfZi0Rs6",
        "outputId": "f7f7a02a-c352-4771-d61d-5622d40a4223"
      },
      "execution_count": 11,
      "outputs": [
        {
          "output_type": "stream",
          "name": "stdout",
          "text": [
            "[[0.3+0.j]]\n",
            "(0.29999999999999993+0j)\n",
            "\n",
            "[[0.7+0.j]]\n",
            "(0.7000000000000001+0j)\n",
            "\n",
            "[[0.+0.45825757j]]\n",
            "0.458257569495584j\n"
          ]
        }
      ]
    },
    {
      "cell_type": "code",
      "source": [
        "#Computer NOT ideal - 80% is sending rho, 20% is sending state |1> \n",
        "rhof = 0.8*rho + 0.2*v1.T@v1\n",
        "rhof"
      ],
      "metadata": {
        "colab": {
          "base_uri": "https://localhost:8080/"
        },
        "id": "8zfaE4s_0wP4",
        "outputId": "546a5426-d299-428e-f0b5-7127b0ea571a"
      },
      "execution_count": 12,
      "outputs": [
        {
          "output_type": "execute_result",
          "data": {
            "text/plain": [
              "array([[0.56+0.j        , 0.  +0.36660606j],\n",
              "       [0.  -0.36660606j, 0.44+0.j        ]])"
            ]
          },
          "metadata": {},
          "execution_count": 12
        }
      ]
    },
    {
      "cell_type": "code",
      "source": [
        "#Trace of rhof is related to the probability - and must be 1 = 100%\n",
        "np.trace(rhof)"
      ],
      "metadata": {
        "colab": {
          "base_uri": "https://localhost:8080/"
        },
        "id": "f3qbDhfV1CCg",
        "outputId": "c12bf654-9636-4a76-e1a9-2415c057944c"
      },
      "execution_count": 13,
      "outputs": [
        {
          "output_type": "execute_result",
          "data": {
            "text/plain": [
              "(1+0j)"
            ]
          },
          "metadata": {},
          "execution_count": 13
        }
      ]
    },
    {
      "cell_type": "code",
      "source": [
        "#Here we can see the mix of the state... trace(rho^2) < 1\n",
        "np.trace(rhof@rhof) # mixed state - returns value < 1"
      ],
      "metadata": {
        "colab": {
          "base_uri": "https://localhost:8080/"
        },
        "id": "l8OJZ_5h1FSS",
        "outputId": "ec772b02-0182-453d-fee8-7f464002ecf2"
      },
      "execution_count": 14,
      "outputs": [
        {
          "output_type": "execute_result",
          "data": {
            "text/plain": [
              "(0.776+0j)"
            ]
          },
          "metadata": {},
          "execution_count": 14
        }
      ]
    },
    {
      "cell_type": "code",
      "source": [
        "#if we know from rho the element e00, e01, e10, we can define entirely rho as e11=1-e00\n",
        "#How to re-construct the quantum state ?"
      ],
      "metadata": {
        "id": "ZhJb8uthaJm4"
      },
      "execution_count": 15,
      "outputs": []
    },
    {
      "cell_type": "code",
      "source": [
        "ident = np.identity(2)\n",
        "sx = np.array([[ 0, 1],  [1, 0]])\n",
        "sy = np.array([[ 0,-1j], [1j,0]])\n",
        "sz = np.array([[ 1, 0],  [0,-1]])"
      ],
      "metadata": {
        "id": "7XisQAH-1Mo4"
      },
      "execution_count": 16,
      "outputs": []
    },
    {
      "cell_type": "code",
      "source": [
        "a = np.trace(sx@rho)\n",
        "b = np.trace(sy@rho)\n",
        "c = np.trace(sz@rho)\n",
        "#print(np.trace(sx@rho/2))\n",
        "#print(np.trace(sy@rho/2))\n",
        "#print(np.trace(sz@rho/2))\n",
        "print(a)\n",
        "print(b)\n",
        "print(c)"
      ],
      "metadata": {
        "colab": {
          "base_uri": "https://localhost:8080/"
        },
        "id": "qORH_k6936vn",
        "outputId": "dda0d101-4cf7-4d21-f690-cb20fc572c06"
      },
      "execution_count": 17,
      "outputs": [
        {
          "output_type": "stream",
          "name": "stdout",
          "text": [
            "0j\n",
            "(-0.916515138991168+0j)\n",
            "(0.40000000000000013+0j)\n"
          ]
        }
      ]
    },
    {
      "cell_type": "code",
      "source": [
        "print(rho)"
      ],
      "metadata": {
        "colab": {
          "base_uri": "https://localhost:8080/"
        },
        "id": "4ncLPzJT3_-O",
        "outputId": "19a234e4-6cc6-4f91-f81d-d963966bd17e"
      },
      "execution_count": 18,
      "outputs": [
        {
          "output_type": "stream",
          "name": "stdout",
          "text": [
            "[[0.7+0.j         0. +0.45825757j]\n",
            " [0. -0.45825757j 0.3+0.j        ]]\n"
          ]
        }
      ]
    },
    {
      "cell_type": "code",
      "source": [
        "#rebuilding the state...\n",
        "#rho = Identity/2 + Identity/2@(a*Sx + b*Sy + c*Sz)\n",
        "rho2 = ident/2 + ident/2@( a*sx + b*sy + c*sz )\n",
        "rho2"
      ],
      "metadata": {
        "colab": {
          "base_uri": "https://localhost:8080/"
        },
        "id": "iLaY5nFR4Ion",
        "outputId": "89fe6a5b-175e-495b-e5b7-96c238a83bed"
      },
      "execution_count": 19,
      "outputs": [
        {
          "output_type": "execute_result",
          "data": {
            "text/plain": [
              "array([[0.7+0.j        , 0. +0.45825757j],\n",
              "       [0. -0.45825757j, 0.3+0.j        ]])"
            ]
          },
          "metadata": {},
          "execution_count": 19
        }
      ]
    },
    {
      "cell_type": "code",
      "source": [
        "simulator = Aer.get_backend('qasm_simulator')\n",
        "qc = QuantumCircuit(1,1)\n",
        "\n",
        "qc.initialize([np.sqrt(0.7), 1j*np.sqrt(0.3) ], 0)\n",
        "qc.measure(0,0)\n",
        "\n",
        "result = execute(qc, shots=20000, backend =simulator).result()\n",
        "result.get_counts()"
      ],
      "metadata": {
        "colab": {
          "base_uri": "https://localhost:8080/"
        },
        "id": "ciSBr6Uj4ULO",
        "outputId": "d21ed657-9a92-4869-b386-f08d2dfd422a"
      },
      "execution_count": 20,
      "outputs": [
        {
          "output_type": "execute_result",
          "data": {
            "text/plain": [
              "{'0': 13955, '1': 6045}"
            ]
          },
          "metadata": {},
          "execution_count": 20
        }
      ]
    },
    {
      "cell_type": "code",
      "source": [
        "#This is the expected value of c, when calculating it based on the rho. Note that rho was calculated using the vector state.\n",
        "#Trace(Sz@rho) = c\n",
        "np.trace(sz@rho)"
      ],
      "metadata": {
        "colab": {
          "base_uri": "https://localhost:8080/"
        },
        "id": "21VJh64_7JGV",
        "outputId": "ad061a9c-69c4-4c8d-b9a7-e9dcfceb970e"
      },
      "execution_count": 21,
      "outputs": [
        {
          "output_type": "execute_result",
          "data": {
            "text/plain": [
              "(0.40000000000000013+0j)"
            ]
          },
          "metadata": {},
          "execution_count": 21
        }
      ]
    },
    {
      "cell_type": "code",
      "source": [
        "#The Trace(Sz@rho) can be calculated indirectly by looking at what was observed as the outcome of the shots.\n",
        "#Trace(Sz@rho) = p(|1>) - p(|0>)\n",
        "# using values obtained in the simulator:\n",
        "counts = result.get_counts()\n",
        "tcounts = counts['0'] + counts['1']\n",
        "c = counts['0']/tcounts - counts['1']/tcounts\n",
        "c\n",
        "#note the value below is very close to the value calculated above, using the original rho\n",
        "#the diference is due to the stochastic nature of the second calculation"
      ],
      "metadata": {
        "colab": {
          "base_uri": "https://localhost:8080/"
        },
        "id": "leQTCft07clE",
        "outputId": "440ff6e1-839d-4f88-8ed0-0117f5b6e670"
      },
      "execution_count": 22,
      "outputs": [
        {
          "output_type": "execute_result",
          "data": {
            "text/plain": [
              "0.39549999999999996"
            ]
          },
          "metadata": {},
          "execution_count": 22
        }
      ]
    },
    {
      "cell_type": "code",
      "source": [
        ""
      ],
      "metadata": {
        "id": "fZEdNfC23kqH"
      },
      "execution_count": 22,
      "outputs": []
    },
    {
      "cell_type": "code",
      "source": [
        ""
      ],
      "metadata": {
        "id": "87mg9ecj3kl5"
      },
      "execution_count": 22,
      "outputs": []
    },
    {
      "cell_type": "code",
      "source": [
        ""
      ],
      "metadata": {
        "id": "zflSP3uo3kh2"
      },
      "execution_count": 22,
      "outputs": []
    },
    {
      "cell_type": "code",
      "source": [
        ""
      ],
      "metadata": {
        "id": "Eihk0XM53kcg"
      },
      "execution_count": 22,
      "outputs": []
    },
    {
      "cell_type": "code",
      "source": [
        ""
      ],
      "metadata": {
        "id": "LTjfT-SA3kWh"
      },
      "execution_count": 22,
      "outputs": []
    },
    {
      "cell_type": "code",
      "source": [
        ""
      ],
      "metadata": {
        "id": "K2j_9fCr3kQH"
      },
      "execution_count": 22,
      "outputs": []
    },
    {
      "cell_type": "code",
      "source": [
        "#Calculating the values of \"a\" abd \"b\"..."
      ],
      "metadata": {
        "id": "4k6Agix03jpc"
      },
      "execution_count": 23,
      "outputs": []
    },
    {
      "cell_type": "code",
      "source": [
        "psic"
      ],
      "metadata": {
        "colab": {
          "base_uri": "https://localhost:8080/"
        },
        "id": "FPVTsO6n9_LP",
        "outputId": "0573ab3e-347f-4f46-b8fe-65fb823adb38"
      },
      "execution_count": 24,
      "outputs": [
        {
          "output_type": "execute_result",
          "data": {
            "text/plain": [
              "array([[0.83666003-0.j        ],\n",
              "       [0.        -0.54772256j]])"
            ]
          },
          "metadata": {},
          "execution_count": 24
        }
      ]
    },
    {
      "cell_type": "code",
      "source": [
        "#This is the psic calculated in the computational basis |0> , |1>\n",
        "0.83666003*v0.T  -0.54772256j*v1.T"
      ],
      "metadata": {
        "colab": {
          "base_uri": "https://localhost:8080/"
        },
        "id": "uHWEMdwK-AFL",
        "outputId": "3ee086f6-d487-451d-962f-7d0107e023e6"
      },
      "execution_count": 25,
      "outputs": [
        {
          "output_type": "execute_result",
          "data": {
            "text/plain": [
              "array([[0.83666003+0.j        ],\n",
              "       [0.        -0.54772256j]])"
            ]
          },
          "metadata": {},
          "execution_count": 25
        }
      ]
    },
    {
      "cell_type": "code",
      "source": [
        "#Now, lets represent the basis |+> and |->\n",
        "vp = (1/np.sqrt(2))*(v0+v1)\n",
        "vn = (1/np.sqrt(2)*(v0-v1))\n",
        "print(vp)\n",
        "print(vn)"
      ],
      "metadata": {
        "colab": {
          "base_uri": "https://localhost:8080/"
        },
        "id": "ORHZTPFZ-HUL",
        "outputId": "350147c9-2a18-406c-cad7-6bfb94e576f2"
      },
      "execution_count": 26,
      "outputs": [
        {
          "output_type": "stream",
          "name": "stdout",
          "text": [
            "[[0.70710678 0.70710678]]\n",
            "[[ 0.70710678 -0.70710678]]\n"
          ]
        }
      ]
    },
    {
      "cell_type": "code",
      "source": [
        "#Projecting the psic to the vectors vn and vp to find the \"a\" and \"b\" for the basis |->, |+>\n",
        "aa = vn@psic\n",
        "bb = vp@psic\n",
        "print(aa)\n",
        "print(bb)"
      ],
      "metadata": {
        "colab": {
          "base_uri": "https://localhost:8080/"
        },
        "id": "FDqhxcCP-vXb",
        "outputId": "6fa67d1f-0069-4554-fae6-c036cc24b531"
      },
      "execution_count": 27,
      "outputs": [
        {
          "output_type": "stream",
          "name": "stdout",
          "text": [
            "[[0.59160798+0.38729833j]]\n",
            "[[0.59160798-0.38729833j]]\n"
          ]
        }
      ]
    },
    {
      "cell_type": "code",
      "source": [
        "#note the resulting vector has the same values as the original vector psic\n",
        "bb*vp.T + aa*vn.T"
      ],
      "metadata": {
        "colab": {
          "base_uri": "https://localhost:8080/"
        },
        "id": "xoKndRt0-wgi",
        "outputId": "ef064128-c220-4836-b2f8-fe0e674ca1ad"
      },
      "execution_count": 28,
      "outputs": [
        {
          "output_type": "execute_result",
          "data": {
            "text/plain": [
              "array([[0.83666003+0.j        ],\n",
              "       [0.        -0.54772256j]])"
            ]
          },
          "metadata": {},
          "execution_count": 28
        }
      ]
    },
    {
      "cell_type": "markdown",
      "source": [
        "How to calculate the factor \"a\" and \"b\" of the density operator..."
      ],
      "metadata": {
        "id": "n8BGvBVrFvIx"
      }
    },
    {
      "cell_type": "code",
      "source": [
        "simulator = Aer.get_backend('statevector_simulator')\n",
        "qc = QuantumCircuit(1,1)\n",
        "qc.initialize([np.sqrt(0.7), 1j*np.sqrt(0.3) ], 0)\n",
        "qc.measure(0,0)\n",
        "\n",
        "result = execute(qc, shots=50000, backend =simulator).result()\n",
        "\n",
        "counts = result.get_counts()\n",
        "counts"
      ],
      "metadata": {
        "colab": {
          "base_uri": "https://localhost:8080/"
        },
        "id": "yb3J_UWr-4uM",
        "outputId": "1f7de604-6a63-42f4-cde1-92e51ffd6455"
      },
      "execution_count": 38,
      "outputs": [
        {
          "output_type": "execute_result",
          "data": {
            "text/plain": [
              "{'0': 34961, '1': 15039}"
            ]
          },
          "metadata": {},
          "execution_count": 38
        }
      ]
    },
    {
      "cell_type": "code",
      "source": [
        "#Same state used in the quantum circuit above\n",
        "psil = np.array([[np.sqrt(0.7), +1j*np.sqrt(0.3)]])\n",
        "psic = np.conjugate(psil).T\n",
        "\n",
        "rho=psic@psil #density operator\n",
        "rho"
      ],
      "metadata": {
        "colab": {
          "base_uri": "https://localhost:8080/"
        },
        "id": "RafaiNyHGQMX",
        "outputId": "75b5fe4f-fae1-44f8-e966-64405efa3e70"
      },
      "execution_count": 30,
      "outputs": [
        {
          "output_type": "execute_result",
          "data": {
            "text/plain": [
              "array([[0.7+0.j        , 0. +0.45825757j],\n",
              "       [0. -0.45825757j, 0.3+0.j        ]])"
            ]
          },
          "metadata": {},
          "execution_count": 30
        }
      ]
    },
    {
      "cell_type": "code",
      "source": [
        "#Calculating c from the density operator...\n",
        "c0 = counts['0']\n",
        "c1 = counts['1']\n",
        "print(c0)\n",
        "print(c1)\n",
        "#Below, the Trace(Sigmaz*rho) = c, printed using the results first and then the original density operator rho \n",
        "print((c0)/(c0+c1) - (c1)/(c0+c1))\n",
        "print(f\"Value 'c' that multiplies sz in the density operator: c={np.trace(sz@rho)}\")"
      ],
      "metadata": {
        "colab": {
          "base_uri": "https://localhost:8080/"
        },
        "id": "8fUWRdxHGPeP",
        "outputId": "ff4627a1-dfa3-41ae-cd92-0422423451a9"
      },
      "execution_count": 40,
      "outputs": [
        {
          "output_type": "stream",
          "name": "stdout",
          "text": [
            "34961\n",
            "15039\n",
            "0.39843999999999996\n",
            "Value 'c' that multiplies sz in the density operator: (0.40000000000000013+0j)\n"
          ]
        }
      ]
    },
    {
      "cell_type": "code",
      "source": [
        "#Let's look at the state phi = a|+> + b|\n",
        "# U|psi> = a|0> + b|1>\n"
      ],
      "metadata": {
        "id": "jwEY7eVvGPJM"
      },
      "execution_count": 32,
      "outputs": []
    },
    {
      "cell_type": "code",
      "source": [
        "#2:04:23\n",
        "sim = Aer.get_backend('statevector_simulator')\n",
        "qc = QuantumCircuit(1,1)\n",
        "qc.initialize([0,1], 0)\n",
        "qc.measure(0,0)\n",
        "\n",
        "#qc.rx(np.pi/2,0) #rotation in \"x\" by pi/2\n",
        "qc.ry(np.pi/2,0) #rotation in \"y\" by pi/2\n",
        "#qc.ry(np.pi/2,0) #rotation in \"y\" by pi/2\n",
        "\n",
        "result = execute(qc, shots=30000, backend = sim).result()\n",
        "svector = result.get_statevector()\n",
        "plot_bloch_multivector(svector)"
      ],
      "metadata": {
        "colab": {
          "base_uri": "https://localhost:8080/",
          "height": 268
        },
        "id": "91MCSOWgKNFa",
        "outputId": "eeeb7008-3f32-4114-96d4-6c8cf474732b"
      },
      "execution_count": 43,
      "outputs": [
        {
          "output_type": "execute_result",
          "data": {
            "text/plain": [
              "<Figure size 288x288 with 1 Axes>"
            ],
            "image/png": "[encoded data removed]"
          },
          "metadata": {},
          "execution_count": 43
        }
      ]
    },
    {
      "cell_type": "code",
      "source": [
        "#applying the operation ry before measuring... measuring the expected value of sx\n",
        "simulator = Aer.get_backend('statevector_simulator')\n",
        "qc = QuantumCircuit(1,1)\n",
        "qc.initialize([np.sqrt(0.7), 1j*np.sqrt(0.3) ], 0)\n",
        "qc.ry(np.pi/2,0) #rotation in \"y\" by pi/2\n",
        "qc.measure(0,0)\n",
        "\n",
        "result = execute(qc, shots=50000, backend =simulator).result()\n",
        "\n",
        "counts = result.get_counts()\n",
        "counts"
      ],
      "metadata": {
        "id": "7OcBtHNbKNLX",
        "colab": {
          "base_uri": "https://localhost:8080/"
        },
        "outputId": "6ebba733-b875-44f2-8dc0-bdf3a70af63b"
      },
      "execution_count": 44,
      "outputs": [
        {
          "output_type": "execute_result",
          "data": {
            "text/plain": [
              "{'0': 25092, '1': 24908}"
            ]
          },
          "metadata": {},
          "execution_count": 44
        }
      ]
    },
    {
      "cell_type": "code",
      "source": [
        "#Calculating 'a' from the density operator...\n",
        "c0 = counts['0']\n",
        "c1 = counts['1']\n",
        "print(c0)\n",
        "print(c1)\n",
        "#Below, the Trace(Sigmax*rho) = a, printed using the results first and then the original density operator rho \n",
        "print(0.5*((c0)/(c0+c1) - (c1)/(c0+c1)))\n",
        "#print(f\"Value 'a' that multiplies sx in the density operator: {np.trace(sx@rho)}\")"
      ],
      "metadata": {
        "id": "_Bjk_tM-KNPm",
        "colab": {
          "base_uri": "https://localhost:8080/"
        },
        "outputId": "30e12695-e45f-4a19-99b4-8cbb074c69c0"
      },
      "execution_count": 45,
      "outputs": [
        {
          "output_type": "stream",
          "name": "stdout",
          "text": [
            "25092\n",
            "24908\n",
            "0.003679999999999961\n"
          ]
        }
      ]
    },
    {
      "cell_type": "code",
      "source": [
        "#Now, transformation of basis from |i-> |i+> to |0> e |1>\n",
        "simulator = Aer.get_backend('statevector_simulator')\n",
        "qc = QuantumCircuit(1,1)\n",
        "qc.initialize([np.sqrt(0.7), 1j*np.sqrt(0.3) ], 0)\n",
        "qc.rx(-np.pi/2,0) #rotation in \"x\" by pi/2\n",
        "qc.measure(0,0)\n",
        "\n",
        "result = execute(qc, shots=50000, backend =simulator).result()\n",
        "\n",
        "counts = result.get_counts()\n",
        "counts"
      ],
      "metadata": {
        "id": "qIvaSVoOKNUS",
        "colab": {
          "base_uri": "https://localhost:8080/"
        },
        "outputId": "104c0408-e01d-4ca1-e51c-2abc2406154a"
      },
      "execution_count": 46,
      "outputs": [
        {
          "output_type": "execute_result",
          "data": {
            "text/plain": [
              "{'0': 2105, '1': 47895}"
            ]
          },
          "metadata": {},
          "execution_count": 46
        }
      ]
    },
    {
      "cell_type": "code",
      "source": [
        "#Calculating 'b' from the density operator...\n",
        "c0 = counts['0']\n",
        "c1 = counts['1']\n",
        "print(c0)\n",
        "print(c1)\n",
        "#Below, the Trace(Sigmay*rho) = b, printed using the results first and then the original density operator rho \n",
        "print( 0.5*((c0)/(c0+c1) - (c1)/(c0+c1)))\n",
        "#print(f\"Value 'b' that multiplies sy in the density operator: {np.trace(sy@rho)}\")"
      ],
      "metadata": {
        "id": "_SOLEXVSKNYN",
        "colab": {
          "base_uri": "https://localhost:8080/"
        },
        "outputId": "01de271b-d72b-4522-bd4e-963e40c2d211"
      },
      "execution_count": 48,
      "outputs": [
        {
          "output_type": "stream",
          "name": "stdout",
          "text": [
            "2105\n",
            "47895\n",
            "-0.4579\n"
          ]
        }
      ]
    },
    {
      "cell_type": "markdown",
      "source": [
        "## Summary:\n",
        "- Running the simulation without any transformation allows the estimation of 'c', where c = trace(sz@rho)\n",
        "- Running the simulation with a transformation ry($pi$/2,0) allows the estimation of 'a', where a = trace(sx@rho)\n",
        "- Running the simulation with a transformation rx(-$pi$/2,0) allows the estimation of 'b', where b = trace(sy@rho)\n",
        "\n",
        "The final density operator $rho$ is given by:\n",
        "rho = 1/2*Identity + 1/2*Identity*(a*Sx + b*Sy + c*Sz) \n"
      ],
      "metadata": {
        "id": "h2KPuWqPIS6K"
      }
    },
    {
      "cell_type": "code",
      "source": [
        ""
      ],
      "metadata": {
        "id": "kMh3GKEzKNhO"
      },
      "execution_count": null,
      "outputs": []
    },
    {
      "cell_type": "code",
      "source": [
        "import numpy as np\n",
        "from qiskit import *\n",
        "from qiskit.visualization import plot_bloch_multivector\n",
        "from qiskit.tools.monitor import job_monitor\n",
        "from qiskit.tools.visualization import plot_histogram\n",
        "\n",
        "import qiskit.quantum_info as qi\n",
        "\n",
        "from scipy import linalg as lng\n",
        "import matplotlib.pyplot as plt"
      ],
      "metadata": {
        "id": "7TLRAB3oKNl3"
      },
      "execution_count": 49,
      "outputs": []
    },
    {
      "cell_type": "code",
      "source": [
        "psil = np.array([[np.sqrt(0.7), +1j*np.sqrt(0.3)]])\n",
        "psic = np.conjugate(psil).T\n",
        "rho=psic@psil\n",
        "print(rho)"
      ],
      "metadata": {
        "id": "uVcaVxahKNqT",
        "colab": {
          "base_uri": "https://localhost:8080/"
        },
        "outputId": "ed2d6d7d-8aec-468b-ef9f-f9fa9f44331f"
      },
      "execution_count": 52,
      "outputs": [
        {
          "output_type": "stream",
          "name": "stdout",
          "text": [
            "[[0.7+0.j         0. +0.45825757j]\n",
            " [0. -0.45825757j 0.3+0.j        ]]\n"
          ]
        }
      ]
    },
    {
      "cell_type": "code",
      "source": [
        "plot_bloch_multivector(qi.DensityMatrix(rho))"
      ],
      "metadata": {
        "id": "muLPIDa7KNuo",
        "colab": {
          "base_uri": "https://localhost:8080/",
          "height": 268
        },
        "outputId": "c1a0ed97-558a-42ca-afa2-eb41659d3f60"
      },
      "execution_count": 53,
      "outputs": [
        {
          "output_type": "execute_result",
          "data": {
            "text/plain": [
              "<Figure size 288x288 with 1 Axes>"
            ],
            "image/png": "[encoded data removed]"
          },
          "metadata": {},
          "execution_count": 53
        }
      ]
    },
    {
      "cell_type": "markdown",
      "source": [
        "### Calculating 'c' = Trace(Sz@rho)"
      ],
      "metadata": {
        "id": "GB7Yudw7fSp1"
      }
    },
    {
      "cell_type": "code",
      "source": [
        "sim = Aer.get_backend(\"qasm_simulator\")\n",
        "qr = QuantumRegister(3)\n",
        "crz, crx, crf  = ClassicalRegister(1), ClassicalRegister(1), ClassicalRegister(1)\n",
        "qc = QuantumCircuit(qr, crz, crx, crf)\n",
        "qc.initialize([np.sqrt(0.7), +1j*np.sqrt(0.3)], 0)\n",
        "qc.h(1)\n",
        "qc.cx(1,2)\n",
        "qc.barrier()\n",
        "qc.cx(0,1)\n",
        "qc.h(0)\n",
        "qc.barrier()\n",
        "qc.measure(0, crz)\n",
        "qc.measure(1, crx)\n",
        "\n",
        "qc.measure(2, crf)\n",
        "\n",
        "qc.draw()\n",
        "\n"
      ],
      "metadata": {
        "id": "9vQegjemKNzI",
        "colab": {
          "base_uri": "https://localhost:8080/",
          "height": 248
        },
        "outputId": "541969c6-e852-46f9-b28c-791f440d781b"
      },
      "execution_count": 77,
      "outputs": [
        {
          "output_type": "execute_result",
          "data": {
            "text/plain": [
              "        ┌──────────────────────────────┐      ░      ┌───┐ ░ ┌─┐      \n",
              "q114_0: ┤ Initialize(0.83666,0.54772j) ├──────░───■──┤ H ├─░─┤M├──────\n",
              "        └────────────┬───┬─────────────┘      ░ ┌─┴─┐└───┘ ░ └╥┘┌─┐   \n",
              "q114_1: ─────────────┤ H ├────────────────■───░─┤ X ├──────░──╫─┤M├───\n",
              "                     └───┘              ┌─┴─┐ ░ └───┘      ░  ║ └╥┘┌─┐\n",
              "q114_2: ────────────────────────────────┤ X ├─░────────────░──╫──╫─┤M├\n",
              "                                        └───┘ ░            ░  ║  ║ └╥┘\n",
              " c18: 1/══════════════════════════════════════════════════════╩══╬══╬═\n",
              "                                                              0  ║  ║ \n",
              "                                                                 ║  ║ \n",
              " c19: 1/═════════════════════════════════════════════════════════╩══╬═\n",
              "                                                                 0  ║ \n",
              "                                                                    ║ \n",
              " c20: 1/════════════════════════════════════════════════════════════╩═\n",
              "                                                                    0 "
            ],
            "text/html": [
              "<pre style=\"word-wrap: normal;white-space: pre;background: #fff0;line-height: 1.1;font-family: &quot;Courier New&quot;,Courier,monospace\">        ┌──────────────────────────────┐      ░      ┌───┐ ░ ┌─┐      \n",
              "q114_0: ┤ Initialize(0.83666,0.54772j) ├──────░───■──┤ H ├─░─┤M├──────\n",
              "        └────────────┬───┬─────────────┘      ░ ┌─┴─┐└───┘ ░ └╥┘┌─┐   \n",
              "q114_1: ─────────────┤ H ├────────────────■───░─┤ X ├──────░──╫─┤M├───\n",
              "                     └───┘              ┌─┴─┐ ░ └───┘      ░  ║ └╥┘┌─┐\n",
              "q114_2: ────────────────────────────────┤ X ├─░────────────░──╫──╫─┤M├\n",
              "                                        └───┘ ░            ░  ║  ║ └╥┘\n",
              " c18: 1/══════════════════════════════════════════════════════╩══╬══╬═\n",
              "                                                              0  ║  ║ \n",
              "                                                                 ║  ║ \n",
              " c19: 1/═════════════════════════════════════════════════════════╩══╬═\n",
              "                                                                 0  ║ \n",
              "                                                                    ║ \n",
              " c20: 1/════════════════════════════════════════════════════════════╩═\n",
              "                                                                    0 </pre>"
            ]
          },
          "metadata": {},
          "execution_count": 77
        }
      ]
    },
    {
      "cell_type": "code",
      "source": [
        "result = execute(qc, shots=20000, backend = sim).result()\n",
        "counts = result.get_counts()\n",
        "counts"
      ],
      "metadata": {
        "id": "qvdDPo_KKN3w",
        "colab": {
          "base_uri": "https://localhost:8080/"
        },
        "outputId": "80f754b6-0569-4d6c-8927-7225c77d2078"
      },
      "execution_count": 78,
      "outputs": [
        {
          "output_type": "execute_result",
          "data": {
            "text/plain": [
              "{'0 0 0': 3529,\n",
              " '0 0 1': 3466,\n",
              " '0 1 0': 1477,\n",
              " '0 1 1': 1508,\n",
              " '1 0 0': 1471,\n",
              " '1 0 1': 1477,\n",
              " '1 1 0': 3585,\n",
              " '1 1 1': 3487}"
            ]
          },
          "metadata": {},
          "execution_count": 78
        }
      ]
    },
    {
      "cell_type": "code",
      "source": [
        "#Above we can pick only the rows with values '0 0 0' and '1 0 0'\n",
        "#using them, there is no need to apply bit flip or phase flip\n",
        "r0 = counts['0 0 0']\n",
        "r1 = counts['1 0 0']\n",
        "c = (r0-r1)/(r0+r1) #Trace(sz@rho)\n",
        "c"
      ],
      "metadata": {
        "id": "9RGzLOgbKOB6",
        "colab": {
          "base_uri": "https://localhost:8080/"
        },
        "outputId": "61598ea6-d857-41ea-c8bc-7adf626aa37e"
      },
      "execution_count": 79,
      "outputs": [
        {
          "output_type": "execute_result",
          "data": {
            "text/plain": [
              "0.41159999999999997"
            ]
          },
          "metadata": {},
          "execution_count": 79
        }
      ]
    },
    {
      "cell_type": "code",
      "source": [
        "#This is part of rho, only considering sz\n",
        "rho = 0.5*ident + 0.5*(c*sz)\n",
        "rho"
      ],
      "metadata": {
        "id": "t2Rz9hjSLAXb",
        "colab": {
          "base_uri": "https://localhost:8080/"
        },
        "outputId": "e73acd92-df23-46aa-bf10-e44bf5573a27"
      },
      "execution_count": 80,
      "outputs": [
        {
          "output_type": "execute_result",
          "data": {
            "text/plain": [
              "array([[0.7058, 0.    ],\n",
              "       [0.    , 0.2942]])"
            ]
          },
          "metadata": {},
          "execution_count": 80
        }
      ]
    },
    {
      "cell_type": "markdown",
      "source": [
        "### Calculating 'a' = Trace(Sx@rho)"
      ],
      "metadata": {
        "id": "0JYgmxo8fFd9"
      }
    },
    {
      "cell_type": "code",
      "source": [
        "#To find 'a'... we need rotation before the measure ry(pi(2,0))\n",
        "\n",
        "sim = Aer.get_backend(\"qasm_simulator\")\n",
        "qr = QuantumRegister(3)\n",
        "crz, crx, crf  = ClassicalRegister(1), ClassicalRegister(1), ClassicalRegister(1)\n",
        "qc = QuantumCircuit(qr, crz, crx, crf)\n",
        "qc.initialize([np.sqrt(0.7), +1j*np.sqrt(0.3)], 0)\n",
        "qc.h(1)\n",
        "qc.cx(1,2)\n",
        "qc.barrier()\n",
        "qc.cx(0,1)\n",
        "qc.h(0)\n",
        "qc.barrier()\n",
        "qc.measure(0, crz)\n",
        "qc.measure(1, crx)\n",
        "\n",
        "#Adding the rotation to find 'a'\n",
        "qc.ry(np.pi/2,2)\n",
        "qc.measure(2, crf)\n",
        "\n",
        "qc.draw()"
      ],
      "metadata": {
        "colab": {
          "base_uri": "https://localhost:8080/",
          "height": 417
        },
        "id": "P3V3UZ7pdwRc",
        "outputId": "31003a88-75e8-4480-ab07-f8fd1f90faf1"
      },
      "execution_count": 91,
      "outputs": [
        {
          "output_type": "execute_result",
          "data": {
            "text/plain": [
              "        ┌──────────────────────────────┐      ░      ┌───┐ ░ ┌─┐              »\n",
              "q151_0: ┤ Initialize(0.83666,0.54772j) ├──────░───■──┤ H ├─░─┤M├──────────────»\n",
              "        └────────────┬───┬─────────────┘      ░ ┌─┴─┐└───┘ ░ └╥┘┌─┐           »\n",
              "q151_1: ─────────────┤ H ├────────────────■───░─┤ X ├──────░──╫─┤M├───────────»\n",
              "                     └───┘              ┌─┴─┐ ░ └───┘      ░  ║ └╥┘┌─────────┐»\n",
              "q151_2: ────────────────────────────────┤ X ├─░────────────░──╫──╫─┤ Ry(π/2) ├»\n",
              "                                        └───┘ ░            ░  ║  ║ └─────────┘»\n",
              " c27: 1/══════════════════════════════════════════════════════╩══╬════════════»\n",
              "                                                              0  ║            »\n",
              " c28: 1/═════════════════════════════════════════════════════════╩════════════»\n",
              "                                                                 0            »\n",
              " c29: 1/══════════════════════════════════════════════════════════════════════»\n",
              "                                                                              »\n",
              "«           \n",
              "«q151_0: ───\n",
              "«           \n",
              "«q151_1: ───\n",
              "«        ┌─┐\n",
              "«q151_2: ┤M├\n",
              "«        └╥┘\n",
              "« c27: 1/═╬═\n",
              "«         ║ \n",
              "« c28: 1/═╬═\n",
              "«         ║ \n",
              "« c29: 1/═╩═\n",
              "«         0 "
            ],
            "text/html": [
              "<pre style=\"word-wrap: normal;white-space: pre;background: #fff0;line-height: 1.1;font-family: &quot;Courier New&quot;,Courier,monospace\">        ┌──────────────────────────────┐      ░      ┌───┐ ░ ┌─┐              »\n",
              "q151_0: ┤ Initialize(0.83666,0.54772j) ├──────░───■──┤ H ├─░─┤M├──────────────»\n",
              "        └────────────┬───┬─────────────┘      ░ ┌─┴─┐└───┘ ░ └╥┘┌─┐           »\n",
              "q151_1: ─────────────┤ H ├────────────────■───░─┤ X ├──────░──╫─┤M├───────────»\n",
              "                     └───┘              ┌─┴─┐ ░ └───┘      ░  ║ └╥┘┌─────────┐»\n",
              "q151_2: ────────────────────────────────┤ X ├─░────────────░──╫──╫─┤ Ry(π/2) ├»\n",
              "                                        └───┘ ░            ░  ║  ║ └─────────┘»\n",
              " c27: 1/══════════════════════════════════════════════════════╩══╬════════════»\n",
              "                                                              0  ║            »\n",
              " c28: 1/═════════════════════════════════════════════════════════╩════════════»\n",
              "                                                                 0            »\n",
              " c29: 1/══════════════════════════════════════════════════════════════════════»\n",
              "                                                                              »\n",
              "«           \n",
              "«q151_0: ───\n",
              "«           \n",
              "«q151_1: ───\n",
              "«        ┌─┐\n",
              "«q151_2: ┤M├\n",
              "«        └╥┘\n",
              "« c27: 1/═╬═\n",
              "«         ║ \n",
              "« c28: 1/═╬═\n",
              "«         ║ \n",
              "« c29: 1/═╩═\n",
              "«         0 </pre>"
            ]
          },
          "metadata": {},
          "execution_count": 91
        }
      ]
    },
    {
      "cell_type": "code",
      "source": [
        "result = execute(qc, shots=20000, backend = sim).result()\n",
        "counts = result.get_counts()\n",
        "counts"
      ],
      "metadata": {
        "colab": {
          "base_uri": "https://localhost:8080/"
        },
        "id": "w-lNpSMEeIxI",
        "outputId": "49fde646-52bb-423e-a40f-e5faf38c9b7b"
      },
      "execution_count": 92,
      "outputs": [
        {
          "output_type": "execute_result",
          "data": {
            "text/plain": [
              "{'0 0 0': 2492,\n",
              " '0 0 1': 2513,\n",
              " '0 1 0': 2540,\n",
              " '0 1 1': 2480,\n",
              " '1 0 0': 2537,\n",
              " '1 0 1': 2558,\n",
              " '1 1 0': 2388,\n",
              " '1 1 1': 2492}"
            ]
          },
          "metadata": {},
          "execution_count": 92
        }
      ]
    },
    {
      "cell_type": "code",
      "source": [
        "#Above we can pick only the rows with values '0 0 0' and '1 0 0'\n",
        "#using them, there is no need to apply bit flip or phase flip\n",
        "r0 = counts['0 0 0']\n",
        "r1 = counts['1 0 0']\n",
        "a= (r0-r1)/(r0+r1) #Trace(sx@rho)\n",
        "a"
      ],
      "metadata": {
        "colab": {
          "base_uri": "https://localhost:8080/"
        },
        "id": "igVH3wt7ePQP",
        "outputId": "c280fb0f-2ab8-4c37-a5c3-d5975b57fbd6"
      },
      "execution_count": 94,
      "outputs": [
        {
          "output_type": "execute_result",
          "data": {
            "text/plain": [
              "-0.008948101014118115"
            ]
          },
          "metadata": {},
          "execution_count": 94
        }
      ]
    },
    {
      "cell_type": "code",
      "source": [
        "#This is part of rho, now considering sx and sz\n",
        "rho = 0.5*ident + 0.5*(a*sx + c*sz)\n",
        "rho"
      ],
      "metadata": {
        "colab": {
          "base_uri": "https://localhost:8080/"
        },
        "id": "a_WzVtCseZMK",
        "outputId": "f1ccb5b1-927b-44a7-f9f1-45657cca8049"
      },
      "execution_count": 95,
      "outputs": [
        {
          "output_type": "execute_result",
          "data": {
            "text/plain": [
              "array([[ 0.7058    , -0.00447405],\n",
              "       [-0.00447405,  0.2942    ]])"
            ]
          },
          "metadata": {},
          "execution_count": 95
        }
      ]
    },
    {
      "cell_type": "markdown",
      "source": [
        "### Calculating 'b' = Trace(Sy@rho)"
      ],
      "metadata": {
        "id": "zS-pw9HYe1wh"
      }
    },
    {
      "cell_type": "code",
      "source": [
        "#####Finaly to find 'b'... we need rotation before the measure rx(-pi(2,0))\n",
        "\n",
        "sim = Aer.get_backend(\"qasm_simulator\")\n",
        "qr = QuantumRegister(3)\n",
        "crz, crx, crf  = ClassicalRegister(1), ClassicalRegister(1), ClassicalRegister(1)\n",
        "qc = QuantumCircuit(qr, crz, crx, crf)\n",
        "qc.initialize([np.sqrt(0.7), +1j*np.sqrt(0.3)], 0)\n",
        "qc.h(1)\n",
        "qc.cx(1,2)\n",
        "qc.barrier()\n",
        "qc.cx(0,1)\n",
        "qc.h(0)\n",
        "qc.barrier()\n",
        "qc.measure(0, crz)\n",
        "qc.measure(1, crx)\n",
        "\n",
        "#Adding the rotation to find 'a'\n",
        "qc.rx(-np.pi/2,2)\n",
        "qc.measure(2, crf)\n",
        "\n",
        "qc.draw()"
      ],
      "metadata": {
        "colab": {
          "base_uri": "https://localhost:8080/",
          "height": 417
        },
        "id": "rENMiFIUesMI",
        "outputId": "f58323cf-d81c-4c4a-ae4d-4992771f4862"
      },
      "execution_count": 96,
      "outputs": [
        {
          "output_type": "execute_result",
          "data": {
            "text/plain": [
              "        ┌──────────────────────────────┐      ░      ┌───┐ ░ ┌─┐               »\n",
              "q164_0: ┤ Initialize(0.83666,0.54772j) ├──────░───■──┤ H ├─░─┤M├───────────────»\n",
              "        └────────────┬───┬─────────────┘      ░ ┌─┴─┐└───┘ ░ └╥┘┌─┐            »\n",
              "q164_1: ─────────────┤ H ├────────────────■───░─┤ X ├──────░──╫─┤M├────────────»\n",
              "                     └───┘              ┌─┴─┐ ░ └───┘      ░  ║ └╥┘┌──────────┐»\n",
              "q164_2: ────────────────────────────────┤ X ├─░────────────░──╫──╫─┤ Rx(-π/2) ├»\n",
              "                                        └───┘ ░            ░  ║  ║ └──────────┘»\n",
              " c30: 1/══════════════════════════════════════════════════════╩══╬═════════════»\n",
              "                                                              0  ║             »\n",
              " c31: 1/═════════════════════════════════════════════════════════╩═════════════»\n",
              "                                                                 0             »\n",
              " c32: 1/═══════════════════════════════════════════════════════════════════════»\n",
              "                                                                               »\n",
              "«           \n",
              "«q164_0: ───\n",
              "«           \n",
              "«q164_1: ───\n",
              "«        ┌─┐\n",
              "«q164_2: ┤M├\n",
              "«        └╥┘\n",
              "« c30: 1/═╬═\n",
              "«         ║ \n",
              "« c31: 1/═╬═\n",
              "«         ║ \n",
              "« c32: 1/═╩═\n",
              "«         0 "
            ],
            "text/html": [
              "<pre style=\"word-wrap: normal;white-space: pre;background: #fff0;line-height: 1.1;font-family: &quot;Courier New&quot;,Courier,monospace\">        ┌──────────────────────────────┐      ░      ┌───┐ ░ ┌─┐               »\n",
              "q164_0: ┤ Initialize(0.83666,0.54772j) ├──────░───■──┤ H ├─░─┤M├───────────────»\n",
              "        └────────────┬───┬─────────────┘      ░ ┌─┴─┐└───┘ ░ └╥┘┌─┐            »\n",
              "q164_1: ─────────────┤ H ├────────────────■───░─┤ X ├──────░──╫─┤M├────────────»\n",
              "                     └───┘              ┌─┴─┐ ░ └───┘      ░  ║ └╥┘┌──────────┐»\n",
              "q164_2: ────────────────────────────────┤ X ├─░────────────░──╫──╫─┤ Rx(-π/2) ├»\n",
              "                                        └───┘ ░            ░  ║  ║ └──────────┘»\n",
              " c30: 1/══════════════════════════════════════════════════════╩══╬═════════════»\n",
              "                                                              0  ║             »\n",
              " c31: 1/═════════════════════════════════════════════════════════╩═════════════»\n",
              "                                                                 0             »\n",
              " c32: 1/═══════════════════════════════════════════════════════════════════════»\n",
              "                                                                               »\n",
              "«           \n",
              "«q164_0: ───\n",
              "«           \n",
              "«q164_1: ───\n",
              "«        ┌─┐\n",
              "«q164_2: ┤M├\n",
              "«        └╥┘\n",
              "« c30: 1/═╬═\n",
              "«         ║ \n",
              "« c31: 1/═╬═\n",
              "«         ║ \n",
              "« c32: 1/═╩═\n",
              "«         0 </pre>"
            ]
          },
          "metadata": {},
          "execution_count": 96
        }
      ]
    },
    {
      "cell_type": "code",
      "source": [
        "result = execute(qc, shots=20000, backend = sim).result()\n",
        "counts = result.get_counts()\n",
        "counts"
      ],
      "metadata": {
        "colab": {
          "base_uri": "https://localhost:8080/"
        },
        "id": "xJ4dBI1JfdXN",
        "outputId": "b3223cbf-9ba6-4de6-b1e7-21d94abdb495"
      },
      "execution_count": 97,
      "outputs": [
        {
          "output_type": "execute_result",
          "data": {
            "text/plain": [
              "{'0 0 0': 201,\n",
              " '0 0 1': 4760,\n",
              " '0 1 0': 4849,\n",
              " '0 1 1': 199,\n",
              " '1 0 0': 4830,\n",
              " '1 0 1': 232,\n",
              " '1 1 0': 224,\n",
              " '1 1 1': 4705}"
            ]
          },
          "metadata": {},
          "execution_count": 97
        }
      ]
    },
    {
      "cell_type": "code",
      "source": [
        "#Above we can pick only the rows with values '0 0 0' and '1 0 0'\n",
        "#using them, there is no need to apply bit flip or phase flip\n",
        "r0 = counts['0 0 0']\n",
        "r1 = counts['1 0 0']\n",
        "b= (r0-r1)/(r0+r1) #Trace(sy@rho)\n",
        "b"
      ],
      "metadata": {
        "colab": {
          "base_uri": "https://localhost:8080/"
        },
        "id": "V7RVjjPHfhcn",
        "outputId": "9b64eb36-7967-45a4-9eba-8f5a80416f01"
      },
      "execution_count": 100,
      "outputs": [
        {
          "output_type": "execute_result",
          "data": {
            "text/plain": [
              "-0.9200954084675015"
            ]
          },
          "metadata": {},
          "execution_count": 100
        }
      ]
    },
    {
      "cell_type": "code",
      "source": [
        "#This is part of rho, now considering sx, sy and sz\n",
        "rho = 0.5*ident + 0.5*(a*sx + b*sy + c*sz)\n",
        "rho"
      ],
      "metadata": {
        "colab": {
          "base_uri": "https://localhost:8080/"
        },
        "id": "m9aNbG-efkRv",
        "outputId": "19c6faf0-3ee9-4d24-fc38-453bbabfaafc"
      },
      "execution_count": 101,
      "outputs": [
        {
          "output_type": "execute_result",
          "data": {
            "text/plain": [
              "array([[ 0.7058    +0.j       , -0.00447405+0.4600477j],\n",
              "       [-0.00447405-0.4600477j,  0.2942    +0.j       ]])"
            ]
          },
          "metadata": {},
          "execution_count": 101
        }
      ]
    },
    {
      "cell_type": "code",
      "source": [
        "#you now can compare the - reconstructed - state above with the original state...\n",
        "psil = np.array([[np.sqrt(0.7), +1j*np.sqrt(0.3)]])\n",
        "psic = np.conjugate(psil).T\n",
        "rho=psic@psil\n",
        "print(rho)"
      ],
      "metadata": {
        "colab": {
          "base_uri": "https://localhost:8080/"
        },
        "id": "QJlEnKA6f4Vz",
        "outputId": "1c151653-a8d8-4511-f19d-5589afb6b483"
      },
      "execution_count": 102,
      "outputs": [
        {
          "output_type": "stream",
          "name": "stdout",
          "text": [
            "[[0.7+0.j         0. +0.45825757j]\n",
            " [0. -0.45825757j 0.3+0.j        ]]\n"
          ]
        }
      ]
    },
    {
      "cell_type": "code",
      "source": [
        "np.trace(rho@rho) #should give 1 due to the sum of probabilities"
      ],
      "metadata": {
        "colab": {
          "base_uri": "https://localhost:8080/"
        },
        "id": "weh6W7udgXuH",
        "outputId": "dc90796f-e273-46b9-d6cf-0f4dc63a109e"
      },
      "execution_count": 103,
      "outputs": [
        {
          "output_type": "execute_result",
          "data": {
            "text/plain": [
              "(1+0j)"
            ]
          },
          "metadata": {},
          "execution_count": 103
        }
      ]
    }
  ]
}