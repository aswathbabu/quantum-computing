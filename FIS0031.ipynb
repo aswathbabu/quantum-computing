{
  "nbformat": 4,
  "nbformat_minor": 0,
  "metadata": {
    "colab": {
      "name": "FIS0031.ipynb",
      "provenance": [],
      "collapsed_sections": [],
      "authorship_tag": "ABX9TyNuiCawPcTVdWo+2xBKtn1U",
      "include_colab_link": true
    },
    "kernelspec": {
      "name": "python3",
      "display_name": "Python 3"
    },
    "language_info": {
      "name": "python"
    }
  },
  "cells": [
    {
      "cell_type": "markdown",
      "metadata": {
        "id": "view-in-github",
        "colab_type": "text"
      },
      "source": [
        "<a href=\"https://colab.research.google.com/github/mrromaniuc/quantum-computing/blob/main/FIS0031.ipynb\" target=\"_parent\"><img src=\"https://colab.research.google.com/assets/colab-badge.svg\" alt=\"Open In Colab\"/></a>"
      ]
    },
    {
      "cell_type": "markdown",
      "source": [
        "# FIS0031 - Computação Quântica para Leigos\n",
        "\n",
        "The first cell install qiskit and the pre-requisites to display Circuits using matplotlib."
      ],
      "metadata": {
        "id": "4X8V6VvxKWwq"
      }
    },
    {
      "cell_type": "code",
      "execution_count": null,
      "metadata": {
        "id": "_t5Q8SyqB0I3"
      },
      "outputs": [],
      "source": [
        "#Installing qiskit standalone\n",
        "!pip install imgaug==0.2.5\n",
        "!pip install qiskit\n",
        "!pip install pylatexenc"
      ]
    },
    {
      "cell_type": "markdown",
      "source": [
        "The next cell creates a configuration file to set the default drawing library to matplotlib (Circuits get a better drawing)"
      ],
      "metadata": {
        "id": "dnXqLqCDKjeo"
      }
    },
    {
      "cell_type": "code",
      "source": [
        "#Setting configuration to use matplotlib in drawings\n",
        "!mkdir ~/.qiskit\n",
        "!echo \"[default]\" > ~/.qiskit/settings.conf\n",
        "!echo \"circuit_drawer = mpl\" >> ~/.qiskit/settings.conf\n",
        "!more ~/.qiskit/settings.conf"
      ],
      "metadata": {
        "id": "zpdU0clfITwX"
      },
      "execution_count": null,
      "outputs": []
    },
    {
      "cell_type": "markdown",
      "source": [
        "Importing the libraries and displaying versions"
      ],
      "metadata": {
        "id": "7t0AdLdFKzhQ"
      }
    },
    {
      "cell_type": "code",
      "source": [
        "import qiskit\n",
        "import qiskit.tools.jupyter\n",
        "%qiskit_version_table"
      ],
      "metadata": {
        "id": "zh6puHCMI8Co"
      },
      "execution_count": null,
      "outputs": []
    },
    {
      "cell_type": "markdown",
      "source": [
        "One example of circuit, just to test the notebook..."
      ],
      "metadata": {
        "id": "LoGc7HO7KyZP"
      }
    },
    {
      "cell_type": "code",
      "source": [
        "from qiskit import QuantumCircuit, assemble, Aer\n",
        "from qiskit.visualization import plot_histogram\n",
        "\n",
        "qc_output = QuantumCircuit(3)\n",
        "qc_output.measure_all()\n",
        "qc_output.draw(initial_state=True)"
      ],
      "metadata": {
        "id": "-rp1bCGGL5Vc"
      },
      "execution_count": null,
      "outputs": []
    },
    {
      "cell_type": "markdown",
      "source": [
        "Next Cell imports the library to connect to IBM Quantum Computers..."
      ],
      "metadata": {
        "id": "R0JI5KZZLldH"
      }
    },
    {
      "cell_type": "code",
      "source": [
        "from qiskit import IBMQ"
      ],
      "metadata": {
        "id": "_KBaZqlLFWm7"
      },
      "execution_count": null,
      "outputs": []
    },
    {
      "cell_type": "markdown",
      "source": [
        "In the cell below, one needs to enter his/her IBM API token. This needs to be created once you have created an account in https://quantum-computing.ibm.com.\n",
        "\n",
        "Replace the text below **YOUR_API_TOKEN** by the IBM API Token that you created and run the cells"
      ],
      "metadata": {
        "id": "4GtgcAG3L0A5"
      }
    },
    {
      "cell_type": "code",
      "source": [
        "MY_API_TOKEN=YOUR_API_TOKEN"
      ],
      "metadata": {
        "id": "L-PYb8FQUogL"
      },
      "execution_count": null,
      "outputs": []
    },
    {
      "cell_type": "code",
      "source": [
        "IBMQ.save_account(MY_API_TOKEN)"
      ],
      "metadata": {
        "id": "5BItt7t8FcPJ"
      },
      "execution_count": null,
      "outputs": []
    },
    {
      "cell_type": "markdown",
      "source": [
        "Next cell checks your account"
      ],
      "metadata": {
        "id": "sDsLx0_jMk5I"
      }
    },
    {
      "cell_type": "code",
      "source": [
        "IBMQ.load_account()"
      ],
      "metadata": {
        "id": "b6mlhj26Ffsp"
      },
      "execution_count": null,
      "outputs": []
    },
    {
      "cell_type": "code",
      "source": [
        ""
      ],
      "metadata": {
        "id": "b4mMisN8D0mm"
      },
      "execution_count": null,
      "outputs": []
    }
  ]
}