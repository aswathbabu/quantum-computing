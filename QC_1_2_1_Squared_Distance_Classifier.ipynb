{
  "cells": [
    {
      "cell_type": "markdown",
      "metadata": {
        "id": "view-in-github",
        "colab_type": "text"
      },
      "source": [
        "<a href=\"https://colab.research.google.com/github/mrromaniuc/quantum-computing/blob/main/QC_1_2_1_Squared_Distance_Classifier.ipynb\" target=\"_parent\"><img src=\"https://colab.research.google.com/assets/colab-badge.svg\" alt=\"Open In Colab\"/></a>"
      ]
    },
    {
      "cell_type": "markdown",
      "source": [
        "## Quantum Squared-Distance Classifier\n",
        "\n",
        "### Introduction"
      ],
      "metadata": {
        "id": "5ENPZA2hKz5F"
      }
    },
    {
      "cell_type": "markdown",
      "metadata": {
        "id": "UGgB6im4ZPgh"
      },
      "source": [
        "This is a \"toy\" notebook to show how to implement the algorithm explained in the Introductory chapter of the book \"Supervised Learning with Quantum Computers\". The algorithm is described in section 1.2.1 of the book. "
      ]
    },
    {
      "cell_type": "code",
      "execution_count": 3,
      "metadata": {
        "id": "E0J6W7G94YLd"
      },
      "outputs": [],
      "source": [
        "%%capture\n",
        "#@title\n",
        "#Installing qiskit standalone\n",
        "!pip install imgaug==0.2.5\n",
        "\n",
        "!pip install qiskit -U\n",
        "!pip install pylatexenc"
      ]
    },
    {
      "cell_type": "code",
      "execution_count": 4,
      "metadata": {
        "id": "RU3-TjDxWi-Y"
      },
      "outputs": [],
      "source": [
        "from qiskit import *\n",
        "from qiskit.quantum_info import Statevector\n",
        "from qiskit.providers.aer import Aer\n",
        "\n",
        "from qiskit.visualization import plot_bloch_multivector, plot_state_qsphere, array_to_latex\n",
        "import warnings\n",
        "warnings.filterwarnings('ignore')\n",
        "\n",
        "import numpy as np"
      ]
    },
    {
      "cell_type": "markdown",
      "source": [
        "### A brief explanation on how to setup the input for the circuit\n",
        "\n",
        "Let's assume vector space with 2 qubits - $q_0$ and $q_1$ - where $q_0$ is the first qubit.\n",
        "\n",
        "\n",
        "To apply Hadamard on the first qubit of the state vector $|q_0q_1\\rangle$, we need the following operation:\n",
        "\n",
        "H$\\otimes$I = $\\frac{1}{\\sqrt{2}} \\begin{pmatrix} 1 & 0 & 1 & 0 \\\\ 0 & 1 & 0 & 1 \\\\ 1 & 0 & -1 & 0 \\\\ 0 & 1 & 0 & -1    \\end{pmatrix} $\n",
        "\n",
        "Let's now see how the same operation looks like in qiskit, by checking the operator of the circuit:"
      ],
      "metadata": {
        "id": "bZgE3v_hCfCV"
      }
    },
    {
      "cell_type": "code",
      "source": [
        "from qiskit.quantum_info.operators import Operator\n",
        "qc = QuantumCircuit(2)\n",
        "qc.h(0)\n",
        "display(qc.draw(\"mpl\"))\n",
        "\n",
        "Operator(qc)/0.70710678"
      ],
      "metadata": {
        "colab": {
          "base_uri": "https://localhost:8080/",
          "height": 227
        },
        "id": "h7ZBnhUjCSBH",
        "outputId": "63f8d4d8-a5ba-4671-ad39-cd0cb4333463"
      },
      "execution_count": 5,
      "outputs": [
        {
          "output_type": "display_data",
          "data": {
            "text/plain": [
              "<Figure size 146.652x144.48 with 1 Axes>"
            ],
            "image/png": "[encoded data removed]"
          },
          "metadata": {}
        },
        {
          "output_type": "execute_result",
          "data": {
            "text/plain": [
              "Operator([[ 1.+0.j,  1.+0.j,  0.+0.j,  0.+0.j],\n",
              "          [ 1.+0.j, -1.+0.j,  0.+0.j,  0.+0.j],\n",
              "          [ 0.+0.j,  0.+0.j,  1.+0.j,  1.+0.j],\n",
              "          [ 0.+0.j,  0.+0.j,  1.+0.j, -1.+0.j]],\n",
              "         input_dims=(2, 2), output_dims=(2, 2))"
            ]
          },
          "metadata": {},
          "execution_count": 5
        }
      ]
    },
    {
      "cell_type": "markdown",
      "source": [
        "As can be noted, the operator above is:\n",
        "$\\frac{1}{\\sqrt{2}} \\begin{pmatrix} 1 & 1 & 0 & 0 \\\\ 1 & -1 & 0 & 0 \\\\ 0 & 0 & 1 & 1 \\\\ 0 & 0 & 1 & -1    \\end{pmatrix} $ = I$\\otimes$H\n",
        "\n",
        "so, in such case, to apply Hadamard in the qubit $q_0$ we need to invert the order of the qubits in the vector, having:\n",
        "\n",
        "I$\\otimes$H$|q_1q_0\\rangle$\n",
        "\n",
        "To conclude, to use the original vector space provided by the sample in the book, in qiskit the input qubits must be swaped before applying Hadamard. "
      ],
      "metadata": {
        "id": "0rvS1ddpG7IG"
      }
    },
    {
      "cell_type": "markdown",
      "source": [
        "### Setting up the original vector and visualizing the amplitudes"
      ],
      "metadata": {
        "id": "0IoXx_hCIcKM"
      }
    },
    {
      "cell_type": "code",
      "source": [
        "#Original State Vector\n",
        "sv = np.array([0, 0.921, 0, 0.39, 0.141, 0, 0.99, 0, 0, 0.866, 0, 0.5, 0.866, 0, 0.5, 0])\n",
        "sv_norm = sv/np.linalg.norm(sv)\n",
        "print(sv_norm)"
      ],
      "metadata": {
        "colab": {
          "base_uri": "https://localhost:8080/"
        },
        "id": "dUcC6HLvgCXi",
        "outputId": "40bbea20-722b-4471-ad32-07add257ec2f"
      },
      "execution_count": 6,
      "outputs": [
        {
          "output_type": "stream",
          "name": "stdout",
          "text": [
            "[0.         0.46048653 0.         0.1949943  0.07049794 0.\n",
            " 0.49498552 0.         0.         0.43298734 0.         0.24999269\n",
            " 0.43298734 0.         0.24999269 0.        ]\n"
          ]
        }
      ]
    },
    {
      "cell_type": "code",
      "source": [
        "# |q1q2q3q4>\n",
        "# Showing the amplitudes in the qsphere...\n",
        "# q1=0 Sample Data; q1=1  Target Data\n",
        "# q2=0 Passenger1; q2=1 Passenger2\n",
        "# q3=0 price feat; q3=1 room feat\n",
        "# q4=0 died; q4=1 survived\n",
        "  \n",
        "plot_state_qsphere(sv_norm)"
      ],
      "metadata": {
        "colab": {
          "base_uri": "https://localhost:8080/",
          "height": 411
        },
        "id": "SNcgMLeFjoAD",
        "outputId": "8736c0cd-b1b9-4f49-f3c9-0066ef05d8f2"
      },
      "execution_count": 7,
      "outputs": [
        {
          "output_type": "execute_result",
          "data": {
            "text/plain": [
              "<Figure size 504x504 with 2 Axes>"
            ],
            "image/png": "[encoded data removed]"
          },
          "metadata": {},
          "execution_count": 7
        }
      ]
    },
    {
      "cell_type": "markdown",
      "source": [
        "### The circuit"
      ],
      "metadata": {
        "id": "nToaDUBjJV11"
      }
    },
    {
      "cell_type": "code",
      "source": [
        "qc = QuantumCircuit(4,2)\n",
        "\n",
        "#Initialize inverting the order of qubits... as operator in Qiskit is given by np.kron(I, H) and book uses np.kron(H, I) \n",
        "qc.initialize(sv_norm, [0,1,2,3])\n",
        "qc.swap(0,3)\n",
        "qc.swap(1,2)\n",
        "qc.barrier()\n",
        "\n",
        "qc.h(0)\n",
        "\n",
        "qc.save_statevector()\n",
        "qc.measure(0,0)\n",
        "qc.measure(3,1)\n",
        "\n",
        "qc.draw(\"mpl\")"
      ],
      "metadata": {
        "colab": {
          "base_uri": "https://localhost:8080/",
          "height": 276
        },
        "id": "CcrQ6ih9gCbh",
        "outputId": "3334adea-41ba-4b12-c883-8ed681f5c79a"
      },
      "execution_count": 8,
      "outputs": [
        {
          "output_type": "execute_result",
          "data": {
            "text/plain": [
              "<Figure size 929.397x325.08 with 1 Axes>"
            ],
            "image/png": "[encoded data removed]"
          },
          "metadata": {},
          "execution_count": 8
        }
      ]
    },
    {
      "cell_type": "markdown",
      "source": [
        "### Running the circuit and calculating dead and alive percentages"
      ],
      "metadata": {
        "id": "XWS7XHpdKkK5"
      }
    },
    {
      "cell_type": "code",
      "source": [
        "sim = Aer.get_backend('aer_simulator')\n",
        "  \n",
        "job = sim.run(qc, shots=1000000)\n",
        "result = job.result()\n",
        "#sv = result.get_statevector()\n",
        "\n",
        "print(result.get_counts())\n",
        "#display(array_to_latex(sv, prefix=\"\\\\text{Before Meas.   = }\", max_size=20))"
      ],
      "metadata": {
        "colab": {
          "base_uri": "https://localhost:8080/"
        },
        "id": "4mzOayHTjf4P",
        "outputId": "51cac3fe-34de-4fc1-f3f1-5457210c5840"
      },
      "execution_count": 21,
      "outputs": [
        {
          "output_type": "stream",
          "name": "stdout",
          "text": [
            "{'11': 1952, '01': 96105, '10': 497842, '00': 404101}\n"
          ]
        }
      ]
    },
    {
      "cell_type": "code",
      "source": [
        "# |q4q1>\n",
        "# Only use the basis where q1=0 (according to algo) - discard the other amplitudes\n",
        "# q4=0 means prob. of dead\n",
        "# q4=1 means prob. of alive\n",
        "counts=result.get_counts()\n",
        "deadNum   = counts['00']\n",
        "aliveNum  = counts['10']\n",
        "\n",
        "deadPct = deadNum/(deadNum+aliveNum)\n",
        "alivePct = aliveNum/(deadNum+aliveNum)\n",
        "\n",
        "print(f\"deadPct = {deadPct}\")\n",
        "print(f\"alivePct = {alivePct}\")"
      ],
      "metadata": {
        "colab": {
          "base_uri": "https://localhost:8080/"
        },
        "id": "2cNZ03pDlSGY",
        "outputId": "4189d71c-0b71-4c78-ba8f-b131dc99be68"
      },
      "execution_count": 22,
      "outputs": [
        {
          "output_type": "stream",
          "name": "stdout",
          "text": [
            "deadPct = 0.44803385579798277\n",
            "alivePct = 0.5519661442020172\n"
          ]
        }
      ]
    },
    {
      "cell_type": "code",
      "source": [],
      "metadata": {
        "id": "gXaNbyHtlobo"
      },
      "execution_count": null,
      "outputs": []
    },
    {
      "cell_type": "code",
      "source": [],
      "metadata": {
        "id": "XsI6FIoMlo0M"
      },
      "execution_count": null,
      "outputs": []
    },
    {
      "cell_type": "code",
      "source": [],
      "metadata": {
        "id": "aIwNd88Xlo3F"
      },
      "execution_count": null,
      "outputs": []
    },
    {
      "cell_type": "code",
      "source": [],
      "metadata": {
        "id": "zC0HZiiVlo6a"
      },
      "execution_count": null,
      "outputs": []
    }
  ],
  "metadata": {
    "colab": {
      "collapsed_sections": [],
      "name": "QC 1.2.1 - Squared-Distance Classifier.ipynb",
      "provenance": [],
      "authorship_tag": "ABX9TyNH0P2dA3h48qeypNkfVaxQ",
      "include_colab_link": true
    },
    "kernelspec": {
      "display_name": "Python 3",
      "name": "python3"
    },
    "language_info": {
      "name": "python"
    }
  },
  "nbformat": 4,
  "nbformat_minor": 0
}