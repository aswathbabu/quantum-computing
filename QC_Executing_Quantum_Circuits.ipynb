{
  "cells": [
    {
      "cell_type": "markdown",
      "metadata": {
        "id": "view-in-github",
        "colab_type": "text"
      },
      "source": [
        "<a href=\"https://colab.research.google.com/github/mrromaniuc/quantum-computing/blob/main/QC_Executing_Quantum_Circuits.ipynb\" target=\"_parent\"><img src=\"https://colab.research.google.com/assets/colab-badge.svg\" alt=\"Open In Colab\"/></a>"
      ]
    },
    {
      "cell_type": "code",
      "source": [
        "%%capture\n",
        "!pip install qiskit\n",
        "!pip install qiskit-aer\n",
        "!pip install qiskit-visualization\n",
        "!pip install qiskit-ibm-provider\n",
        "!pip install qiskit-experiments\n",
        "!pip install imgaug==0.2.5\n",
        "!pip install pylatexenc"
      ],
      "metadata": {
        "id": "DFk2UDX60Iv9"
      },
      "id": "DFk2UDX60Iv9",
      "execution_count": 1,
      "outputs": []
    },
    {
      "cell_type": "code",
      "source": [
        "#Setting configuration to use matplotlib in drawings\n",
        "!mkdir ~/.qiskit\n",
        "!echo \"[default]\" > ~/.qiskit/settings.conf\n",
        "!echo \"circuit_drawer = mpl\" >> ~/.qiskit/settings.conf\n",
        "!more ~/.qiskit/settings.conf\n",
        "\n",
        "\n",
        "#\n",
        "# Loading IBM credentials\n",
        "#\n",
        "API_TOKEN_DIR=\"/content/drive/'My Drive'/'Colab Notebooks'/QC\"\n",
        "API_TOKEN_FILE=\"MY_API_TOKEN.txt\"\n",
        "\n",
        "#Mount the google drive first\n",
        "from google.colab import drive\n",
        "drive.mount('/content/drive')\n",
        "#%cd /content/drive/'My Drive'/'Colab Notebooks'/QC\n",
        "%cd $API_TOKEN_DIR\n",
        "\n",
        "#Read the MY_API_TOKEN from file...\n",
        "from qiskit_ibm_provider import IBMProvider\n",
        "MY_API_TOKEN = \"\"\n",
        "with open(API_TOKEN_FILE) as f:\n",
        "  MY_API_TOKEN=f.readline()\n",
        "IBMProvider.save_account(MY_API_TOKEN, overwrite=True)"
      ],
      "metadata": {
        "colab": {
          "base_uri": "https://localhost:8080/"
        },
        "id": "s8qRcB1E1J-b",
        "outputId": "991cee84-1bc4-4d1c-e9a4-ab91d205f205"
      },
      "id": "s8qRcB1E1J-b",
      "execution_count": 2,
      "outputs": [
        {
          "output_type": "stream",
          "name": "stdout",
          "text": [
            "[default]\n",
            "circuit_drawer = mpl\n",
            "Mounted at /content/drive\n",
            "/content/drive/My Drive/Colab Notebooks/QC\n"
          ]
        }
      ]
    },
    {
      "cell_type": "markdown",
      "source": [
        "References:\n",
        "* https://qiskit.org/documentation/apidoc/execute.html\n",
        "* https://qiskit.org/documentation/tutorials/circuits/1_getting_started_with_qiskit.html\n",
        "* https://youtu.be/8mrPNSctRIg (transpile)\n"
      ],
      "metadata": {
        "id": "AdjmgkN12xB8"
      },
      "id": "AdjmgkN12xB8"
    },
    {
      "cell_type": "markdown",
      "source": [
        "## Defining the circuit"
      ],
      "metadata": {
        "id": "rqZdHeP7oMBi"
      },
      "id": "rqZdHeP7oMBi"
    },
    {
      "cell_type": "code",
      "source": [
        "from qiskit import QuantumCircuit, QuantumRegister\n",
        "\n",
        "qr = QuantumRegister(4, 'qubit')\n",
        "qc = QuantumCircuit(qr)\n",
        "qc.h(qr)\n",
        "qc.measure_all()\n",
        "qc.draw()"
      ],
      "metadata": {
        "id": "ce7xCZ-Qd86Y",
        "colab": {
          "base_uri": "https://localhost:8080/",
          "height": 384
        },
        "outputId": "6d03c2be-7d2a-4d8b-f030-6cf75a706a08"
      },
      "id": "ce7xCZ-Qd86Y",
      "execution_count": 13,
      "outputs": [
        {
          "output_type": "execute_result",
          "data": {
            "text/plain": [
              "<Figure size 678.036x451.5 with 1 Axes>"
            ],
            "image/png": "[encoded data removed]"
          },
          "metadata": {},
          "execution_count": 13
        }
      ]
    },
    {
      "cell_type": "markdown",
      "source": [
        "## Running on the backend"
      ],
      "metadata": {
        "id": "Ck0zb-oFy5uX"
      },
      "id": "Ck0zb-oFy5uX"
    },
    {
      "cell_type": "markdown",
      "source": [
        "### Getting a provider"
      ],
      "metadata": {
        "id": "z7dlhFoesgt-"
      },
      "id": "z7dlhFoesgt-"
    },
    {
      "cell_type": "code",
      "source": [
        "#Show the backends\n",
        "from qiskit_ibm_provider import IBMProvider\n",
        "\n",
        "provider = IBMProvider(instance=\"ibm-q/open/main\")\n",
        "provider.backends()"
      ],
      "metadata": {
        "colab": {
          "base_uri": "https://localhost:8080/"
        },
        "id": "yf6jMj-2ojT-",
        "outputId": "fdc28761-4c69-4393-cc29-28d27be3be25"
      },
      "id": "yf6jMj-2ojT-",
      "execution_count": 12,
      "outputs": [
        {
          "output_type": "execute_result",
          "data": {
            "text/plain": [
              "[<IBMBackend('simulator_extended_stabilizer')>,\n",
              " <IBMBackend('simulator_mps')>,\n",
              " <IBMBackend('simulator_statevector')>,\n",
              " <IBMBackend('simulator_stabilizer')>,\n",
              " <IBMBackend('ibm_nairobi')>,\n",
              " <IBMBackend('ibm_perth')>,\n",
              " <IBMBackend('ibmq_quito')>,\n",
              " <IBMBackend('ibmq_belem')>,\n",
              " <IBMBackend('ibmq_jakarta')>,\n",
              " <IBMBackend('ibmq_manila')>,\n",
              " <IBMBackend('ibm_lagos')>,\n",
              " <IBMBackend('ibmq_qasm_simulator')>,\n",
              " <IBMBackend('ibmq_lima')>]"
            ]
          },
          "metadata": {},
          "execution_count": 12
        }
      ]
    },
    {
      "cell_type": "markdown",
      "source": [
        "### Running on a real QC (in the backend)"
      ],
      "metadata": {
        "id": "AmZtkOETobuy"
      },
      "id": "AmZtkOETobuy"
    },
    {
      "cell_type": "code",
      "source": [
        "#Checking the least busy QC in the backend\n",
        "from qiskit_ibm_provider import least_busy\n",
        "from qiskit.tools import job_monitor\n",
        "from qiskit.visualization import plot_distribution\n",
        "\n",
        "bend = []\n",
        "for b in provider.backends():\n",
        "  if (not b.simulator) and (b.name!='ibmq_quito'):\n",
        "    bend.append(b)\n",
        "least_busy_be = least_busy(bend)\n",
        "print(f\"About to run on backend {least_busy_be.name}\")\n",
        "\n",
        "job = least_busy_be.run(qc, shots=10000)\n",
        "job_monitor(job)\n",
        "counts = job.result().get_counts()\n",
        "plot_distribution(counts)"
      ],
      "metadata": {
        "colab": {
          "base_uri": "https://localhost:8080/"
        },
        "id": "JiesaiC6oaxu",
        "outputId": "58a3c665-189f-4818-8ec9-b2449dcf26e1"
      },
      "id": "JiesaiC6oaxu",
      "execution_count": null,
      "outputs": [
        {
          "output_type": "stream",
          "name": "stdout",
          "text": [
            "About to run on backend ibm_perth\n",
            "Job Status: job is queued (None)"
          ]
        }
      ]
    },
    {
      "cell_type": "markdown",
      "source": [
        "### Running on a simulator (in the backend)"
      ],
      "metadata": {
        "id": "EuGJGRfT8OaR"
      },
      "id": "EuGJGRfT8OaR"
    },
    {
      "cell_type": "code",
      "source": [
        "#Run on qasm simulator\n",
        "from qiskit.tools import job_monitor\n",
        "from qiskit.visualization import plot_distribution\n",
        "\n",
        "backend = provider.get_backend(\"ibmq_qasm_simulator\")\n",
        "job = backend.run(qc, shots=10000)\n",
        "job_monitor(job)\n",
        "counts = job.result().get_counts()\n",
        "plot_distribution(counts)"
      ],
      "metadata": {
        "colab": {
          "base_uri": "https://localhost:8080/",
          "height": 502
        },
        "id": "sYzSeYivoGUd",
        "outputId": "c0024eae-606f-41e2-dfa6-970d28dbd140"
      },
      "id": "sYzSeYivoGUd",
      "execution_count": 11,
      "outputs": [
        {
          "output_type": "stream",
          "name": "stdout",
          "text": [
            "Job Status: job has successfully run\n"
          ]
        },
        {
          "output_type": "execute_result",
          "data": {
            "text/plain": [
              "<Figure size 700x500 with 1 Axes>"
            ],
            "image/png": "[encoded data removed]"
          },
          "metadata": {},
          "execution_count": 11
        }
      ]
    },
    {
      "cell_type": "markdown",
      "source": [
        "## Running localy on a simulator"
      ],
      "metadata": {
        "id": "ok56uhUBtAPQ"
      },
      "id": "ok56uhUBtAPQ"
    },
    {
      "cell_type": "markdown",
      "source": [
        "### Running on the basic simulator - AerBasic"
      ],
      "metadata": {
        "id": "gwPrxGBItDtc"
      },
      "id": "gwPrxGBItDtc"
    },
    {
      "cell_type": "code",
      "source": [
        "from qiskit import BasicAer\n",
        "from qiskit.visualization import plot_distribution\n",
        "\n",
        "#List the backends available\n",
        "for be in BasicAer.backends():\n",
        "  print(be)\n",
        "\n",
        "be = BasicAer.get_backend(\"qasm_simulator\")\n",
        "\n",
        "job = be.run(qc, shots=10000)\n",
        "counts = job.result().get_counts()\n",
        "plot_distribution(counts)"
      ],
      "metadata": {
        "id": "VeGS5SP4sF_X"
      },
      "id": "VeGS5SP4sF_X",
      "execution_count": null,
      "outputs": []
    },
    {
      "cell_type": "code",
      "source": [],
      "metadata": {
        "id": "weFcUfhrt2ye"
      },
      "id": "weFcUfhrt2ye",
      "execution_count": null,
      "outputs": []
    },
    {
      "cell_type": "code",
      "source": [
        "import qiskit.tools.jupyter\n",
        "%qiskit_version_table"
      ],
      "metadata": {
        "colab": {
          "base_uri": "https://localhost:8080/",
          "height": 295
        },
        "id": "Axld_E8B8GEV",
        "outputId": "a66bf78e-c55f-4270-adde-ba731e276c9d"
      },
      "id": "Axld_E8B8GEV",
      "execution_count": null,
      "outputs": [
        {
          "output_type": "display_data",
          "data": {
            "text/plain": [
              "<IPython.core.display.HTML object>"
            ],
            "text/html": [
              "<h3>Version Information</h3><table><tr><th>Software</th><th>Version</th></tr><tr><td><code>qiskit</code></td><td>0.44.1</td></tr><tr><td><code>qiskit-terra</code></td><td>0.25.1</td></tr><tr><th colspan='2'>System information</th></tr><tr><td>Python version</td><td>3.10.12</td></tr><tr><td>Python compiler</td><td>GCC 11.4.0</td></tr><tr><td>Python build</td><td>main, Jun 11 2023 05:26:28</td></tr><tr><td>OS</td><td>Linux</td></tr><tr><td>CPUs</td><td>1</td></tr><tr><td>Memory (Gb)</td><td>12.678386688232422</td></tr><tr><td colspan='2'>Sun Aug 20 12:35:24 2023 UTC</td></tr></table>"
            ]
          },
          "metadata": {}
        }
      ]
    }
  ],
  "metadata": {
    "kernelspec": {
      "display_name": "Python 3 (ipykernel)",
      "language": "python",
      "name": "python3"
    },
    "language_info": {
      "codemirror_mode": {
        "name": "ipython",
        "version": 3
      },
      "file_extension": ".py",
      "mimetype": "text/x-python",
      "name": "python",
      "nbconvert_exporter": "python",
      "pygments_lexer": "ipython3",
      "version": "3.9.17"
    },
    "colab": {
      "provenance": [],
      "toc_visible": true,
      "include_colab_link": true
    }
  },
  "nbformat": 4,
  "nbformat_minor": 5
}