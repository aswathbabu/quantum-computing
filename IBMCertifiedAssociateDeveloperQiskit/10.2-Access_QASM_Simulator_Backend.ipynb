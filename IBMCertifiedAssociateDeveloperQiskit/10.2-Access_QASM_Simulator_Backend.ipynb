{
  "cells": [
    {
      "cell_type": "markdown",
      "metadata": {
        "id": "view-in-github",
        "colab_type": "text"
      },
      "source": [
        "<a href=\"https://colab.research.google.com/github/mrromaniuc/quantum-computing/blob/main/IBMCertifiedAssociateDeveloperQiskit/10.2-Access_QASM_Simulator_Backend.ipynb\" target=\"_parent\"><img src=\"https://colab.research.google.com/assets/colab-badge.svg\" alt=\"Open In Colab\"/></a>"
      ]
    },
    {
      "cell_type": "code",
      "source": [
        "%%capture\n",
        "!pip install qiskit\n",
        "!pip install qiskit-aer\n",
        "!pip install qiskit-visualization\n",
        "!pip install qiskit-ibm-provider\n",
        "!pip install qiskit-experiments\n",
        "!pip install imgaug==0.2.5\n",
        "!pip install pylatexenc"
      ],
      "metadata": {
        "id": "DFk2UDX60Iv9"
      },
      "id": "DFk2UDX60Iv9",
      "execution_count": null,
      "outputs": []
    },
    {
      "cell_type": "code",
      "source": [
        "#Setting configuration to use matplotlib in drawings\n",
        "!mkdir ~/.qiskit\n",
        "!echo \"[default]\" > ~/.qiskit/settings.conf\n",
        "!echo \"circuit_drawer = mpl\" >> ~/.qiskit/settings.conf\n",
        "!more ~/.qiskit/settings.conf\n",
        "\n",
        "\n",
        "#\n",
        "# Loading IBM credentials\n",
        "#\n",
        "API_TOKEN_DIR=\"/content/drive/'My Drive'/'Colab Notebooks'/QC\"\n",
        "API_TOKEN_FILE=\"MY_API_TOKEN.txt\"\n",
        "\n",
        "#Mount the google drive first\n",
        "from google.colab import drive\n",
        "drive.mount('/content/drive')\n",
        "#%cd /content/drive/'My Drive'/'Colab Notebooks'/QC\n",
        "%cd $API_TOKEN_DIR\n",
        "\n",
        "#Read the MY_API_TOKEN from file...\n",
        "from qiskit_ibm_provider import IBMProvider\n",
        "MY_API_TOKEN = \"\"\n",
        "with open(API_TOKEN_FILE) as f:\n",
        "  MY_API_TOKEN=f.readline()\n",
        "IBMProvider.save_account(MY_API_TOKEN, overwrite=True)"
      ],
      "metadata": {
        "colab": {
          "base_uri": "https://localhost:8080/"
        },
        "id": "s8qRcB1E1J-b",
        "outputId": "c62a832e-5f53-4760-9dd3-2334862698f5"
      },
      "id": "s8qRcB1E1J-b",
      "execution_count": null,
      "outputs": [
        {
          "output_type": "stream",
          "name": "stdout",
          "text": [
            "[default]\n",
            "circuit_drawer = mpl\n",
            "Mounted at /content/drive\n",
            "/content/drive/My Drive/Colab Notebooks/QC\n"
          ]
        }
      ]
    },
    {
      "cell_type": "markdown",
      "source": [
        "References:\n",
        "* https://qiskit.org/ecosystem/aer/tutorials/1_aer_provider.html"
      ],
      "metadata": {
        "id": "AdjmgkN12xB8"
      },
      "id": "AdjmgkN12xB8"
    },
    {
      "cell_type": "markdown",
      "source": [
        "## Use Aer simulators\n",
        "These are high performance simulators"
      ],
      "metadata": {
        "id": "Ck0zb-oFy5uX"
      },
      "id": "Ck0zb-oFy5uX"
    },
    {
      "cell_type": "code",
      "source": [
        "from qiskit import Aer\n",
        "\n",
        "backends = Aer.backends()\n",
        "for b in backends:\n",
        "  print(b)"
      ],
      "metadata": {
        "colab": {
          "base_uri": "https://localhost:8080/"
        },
        "id": "Ke5q4wz_ovtt",
        "outputId": "322032fd-ad33-4bdf-cfe9-33f43daaf8b8"
      },
      "id": "Ke5q4wz_ovtt",
      "execution_count": null,
      "outputs": [
        {
          "output_type": "stream",
          "name": "stdout",
          "text": [
            "aer_simulator\n",
            "aer_simulator_statevector\n",
            "aer_simulator_density_matrix\n",
            "aer_simulator_stabilizer\n",
            "aer_simulator_matrix_product_state\n",
            "aer_simulator_extended_stabilizer\n",
            "aer_simulator_unitary\n",
            "aer_simulator_superop\n",
            "qasm_simulator\n",
            "statevector_simulator\n",
            "unitary_simulator\n",
            "pulse_simulator\n"
          ]
        }
      ]
    },
    {
      "cell_type": "markdown",
      "source": [
        "### aer_simulator\n",
        "This is the main simulator in Aer - it simulates the quantum computer hardware"
      ],
      "metadata": {
        "id": "W7OZ_LL8rf1P"
      },
      "id": "W7OZ_LL8rf1P"
    },
    {
      "cell_type": "code",
      "source": [
        "#to have statevectors in the results, the circuit MUST call qc.save_statevector(\"label\")\n",
        "from qiskit import Aer, QuantumCircuit\n",
        "import qiskit.visualization as vi\n",
        "import qiskit.quantum_info as qi\n",
        "\n",
        "qc = QuantumCircuit(2)\n",
        "qc.h(0)\n",
        "qc.save_statevector(\"s1\")\n",
        "qc.cx(0,1)\n",
        "qc.save_statevector(\"s2\")\n",
        "qc.measure_all()\n",
        "display(qc.draw())\n",
        "\n",
        "simulator = Aer.get_backend(\"aer_simulator\")\n",
        "result = simulator.run(qc, shots=1).result()\n",
        "\n",
        "s1 = result.data()[\"s1\"]\n",
        "s2 = result.data()[\"s2\"]\n",
        "display(s1.draw(\"latex\", prefix=\"s1=\"))\n",
        "display(s2.draw(\"latex\", prefix=\"s2=\"))"
      ],
      "metadata": {
        "colab": {
          "base_uri": "https://localhost:8080/",
          "height": 303
        },
        "id": "WqeSNmuVpoct",
        "outputId": "bdd1ee60-9507-4c81-f738-6d9d77df4409"
      },
      "id": "WqeSNmuVpoct",
      "execution_count": null,
      "outputs": [
        {
          "output_type": "display_data",
          "data": {
            "text/plain": [
              "<Figure size 747.609x284.278 with 1 Axes>"
            ],
            "image/png": "[encoded data removed]"
          },
          "metadata": {}
        },
        {
          "output_type": "display_data",
          "data": {
            "text/plain": [
              "<IPython.core.display.Latex object>"
            ],
            "text/latex": "$$s1=\\frac{\\sqrt{2}}{2} |00\\rangle+\\frac{\\sqrt{2}}{2} |01\\rangle$$"
          },
          "metadata": {}
        },
        {
          "output_type": "display_data",
          "data": {
            "text/plain": [
              "<IPython.core.display.Latex object>"
            ],
            "text/latex": "$$s2=\\frac{\\sqrt{2}}{2} |00\\rangle+\\frac{\\sqrt{2}}{2} |11\\rangle$$"
          },
          "metadata": {}
        }
      ]
    },
    {
      "cell_type": "markdown",
      "source": [
        "### Using the statevector_simulator (or aer_simulator_statevector)"
      ],
      "metadata": {
        "id": "IOydhpzR1hCz"
      },
      "id": "IOydhpzR1hCz"
    },
    {
      "cell_type": "code",
      "source": [
        "#to have statevectors in the results, the circuit MUST call qc.save_statevector(\"label\")\n",
        "from qiskit import Aer, QuantumCircuit\n",
        "import qiskit.visualization as vi\n",
        "\n",
        "qc = QuantumCircuit(2)\n",
        "qc.h(0)\n",
        "qc.save_statevector(\"s1\")\n",
        "qc.cx(0,1)\n",
        "qc.save_statevector(\"s2\")\n",
        "qc.measure_all()\n",
        "display(qc.draw())\n",
        "\n",
        "simulator = Aer.get_backend(\"statevector_simulator\")\n",
        "simulator = Aer.get_backend(\"aer_simulator_statevector\")\n",
        "result = simulator.run(qc, shots=1, memory=True).result()\n",
        "\n",
        "for i in [\"s1\", \"s2\"]:\n",
        "  s = result.data()[i]\n",
        "  display(s.draw(\"latex\", prefix=i + \"=\"))"
      ],
      "metadata": {
        "id": "vrwFvgN30xts",
        "outputId": "af1832b4-c339-4b1b-b382-d9a6eb3c8c57",
        "colab": {
          "base_uri": "https://localhost:8080/",
          "height": 303
        }
      },
      "id": "vrwFvgN30xts",
      "execution_count": null,
      "outputs": [
        {
          "output_type": "display_data",
          "data": {
            "text/plain": [
              "<Figure size 747.609x284.278 with 1 Axes>"
            ],
            "image/png": "[encoded data removed]"
          },
          "metadata": {}
        },
        {
          "output_type": "display_data",
          "data": {
            "text/plain": [
              "<IPython.core.display.Latex object>"
            ],
            "text/latex": "$$s1=\\frac{\\sqrt{2}}{2} |00\\rangle+\\frac{\\sqrt{2}}{2} |01\\rangle$$"
          },
          "metadata": {}
        },
        {
          "output_type": "display_data",
          "data": {
            "text/plain": [
              "<IPython.core.display.Latex object>"
            ],
            "text/latex": "$$s2=\\frac{\\sqrt{2}}{2} |00\\rangle+\\frac{\\sqrt{2}}{2} |11\\rangle$$"
          },
          "metadata": {}
        }
      ]
    }
  ],
  "metadata": {
    "kernelspec": {
      "display_name": "Python 3 (ipykernel)",
      "language": "python",
      "name": "python3"
    },
    "language_info": {
      "codemirror_mode": {
        "name": "ipython",
        "version": 3
      },
      "file_extension": ".py",
      "mimetype": "text/x-python",
      "name": "python",
      "nbconvert_exporter": "python",
      "pygments_lexer": "ipython3",
      "version": "3.9.17"
    },
    "colab": {
      "provenance": [],
      "include_colab_link": true
    }
  },
  "nbformat": 4,
  "nbformat_minor": 5
}