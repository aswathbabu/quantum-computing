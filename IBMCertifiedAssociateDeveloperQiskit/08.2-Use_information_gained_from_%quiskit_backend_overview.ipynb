{
  "cells": [
    {
      "cell_type": "markdown",
      "metadata": {
        "id": "view-in-github",
        "colab_type": "text"
      },
      "source": [
        "<a href=\"https://colab.research.google.com/github/mrromaniuc/quantum-computing/blob/main/IBMCertifiedAssociateDeveloperQiskit/08.2-Use_information_gained_from_%25quiskit_backend_overview.ipynb\" target=\"_parent\"><img src=\"https://colab.research.google.com/assets/colab-badge.svg\" alt=\"Open In Colab\"/></a>"
      ]
    },
    {
      "cell_type": "code",
      "source": [
        "%%capture\n",
        "!pip install qiskit\n",
        "!pip install qiskit-aer\n",
        "!pip install qiskit-visualization\n",
        "!pip install qiskit-ibm-provider\n",
        "!pip install qiskit-experiments\n",
        "!pip install imgaug==0.2.5\n",
        "!pip install pylatexenc"
      ],
      "metadata": {
        "id": "DFk2UDX60Iv9"
      },
      "id": "DFk2UDX60Iv9",
      "execution_count": 1,
      "outputs": []
    },
    {
      "cell_type": "code",
      "source": [
        "#Setting configuration to use matplotlib in drawings\n",
        "!mkdir ~/.qiskit\n",
        "!echo \"[default]\" > ~/.qiskit/settings.conf\n",
        "!echo \"circuit_drawer = mpl\" >> ~/.qiskit/settings.conf\n",
        "!more ~/.qiskit/settings.conf\n",
        "\n",
        "\n",
        "#\n",
        "# Loading IBM credentials\n",
        "#\n",
        "API_TOKEN_DIR=\"/content/drive/'My Drive'/'Colab Notebooks'/QC\"\n",
        "API_TOKEN_FILE=\"MY_API_TOKEN.txt\"\n",
        "\n",
        "#Mount the google drive first\n",
        "from google.colab import drive\n",
        "drive.mount('/content/drive')\n",
        "#%cd /content/drive/'My Drive'/'Colab Notebooks'/QC\n",
        "%cd $API_TOKEN_DIR\n",
        "\n",
        "#Read the MY_API_TOKEN from file...\n",
        "from qiskit_ibm_provider import IBMProvider\n",
        "MY_API_TOKEN = \"\"\n",
        "with open(API_TOKEN_FILE) as f:\n",
        "  MY_API_TOKEN=f.readline()\n",
        "IBMProvider.save_account(MY_API_TOKEN, overwrite=True)"
      ],
      "metadata": {
        "colab": {
          "base_uri": "https://localhost:8080/"
        },
        "id": "s8qRcB1E1J-b",
        "outputId": "2556048d-aef8-4a61-9546-5e48574742c9"
      },
      "id": "s8qRcB1E1J-b",
      "execution_count": 2,
      "outputs": [
        {
          "output_type": "stream",
          "name": "stdout",
          "text": [
            "[default]\n",
            "circuit_drawer = mpl\n",
            "Mounted at /content/drive\n",
            "/content/drive/My Drive/Colab Notebooks/QC\n"
          ]
        }
      ]
    },
    {
      "cell_type": "markdown",
      "source": [
        "References:\n",
        "* https://youtu.be/L1TPD43UTZM\n",
        "* https://youtu.be/L1TPD43UTZM?list=RDCMUClBNq7mCMf5xm8baE_VMl3A\n",
        "* https://qiskit.org/documentation/stable/0.24/install.html"
      ],
      "metadata": {
        "id": "AdjmgkN12xB8"
      },
      "id": "AdjmgkN12xB8"
    },
    {
      "cell_type": "markdown",
      "source": [
        "## Perform Operations around Qiskit Version\n"
      ],
      "metadata": {
        "id": "Ck0zb-oFy5uX"
      },
      "id": "Ck0zb-oFy5uX"
    },
    {
      "cell_type": "code",
      "source": [
        "import qiskit\n",
        "print(f\"'qiskit.__version__' shows only version of qiski terra: {qiskit.__version__}\") # only shows the version of qiskit terra\n",
        "\n",
        "d = qiskit.__qiskit_version__\n",
        "for k in qiskit.__qiskit_version__:\n",
        "  print(f\"{k.ljust(25,' ')} {d[k]}\")"
      ],
      "metadata": {
        "colab": {
          "base_uri": "https://localhost:8080/"
        },
        "id": "Ke5q4wz_ovtt",
        "outputId": "a0b7ae8c-c00b-4243-92c1-818282a09b59"
      },
      "id": "Ke5q4wz_ovtt",
      "execution_count": 12,
      "outputs": [
        {
          "output_type": "stream",
          "name": "stdout",
          "text": [
            "'qiskit.__version__' shows only version of qiski terra: 0.25.0\n",
            "qiskit-terra              0.25.0\n",
            "qiskit                    0.44.0\n",
            "qiskit-aer                0.12.2\n",
            "qiskit-ignis              None\n",
            "qiskit-ibmq-provider      None\n",
            "qiskit-nature             None\n",
            "qiskit-finance            None\n",
            "qiskit-optimization       None\n",
            "qiskit-machine-learning   None\n"
          ]
        }
      ]
    },
    {
      "cell_type": "markdown",
      "source": [
        "### When using jupyter notebook"
      ],
      "metadata": {
        "id": "6pzN8Ig5ZX62"
      },
      "id": "6pzN8Ig5ZX62"
    },
    {
      "cell_type": "code",
      "source": [
        "import qiskit.tools.jupyter\n",
        "\n",
        "%qiskit_version_table # tabular format of Qiskit version information\n",
        "%qiskit_backend_overview # lists all available backends\n",
        "%qiskit_job_watcher # loads a Qiskit job watcher\n",
        "%qiskit_progress_bar # shows a Qiskit progress bar"
      ],
      "metadata": {
        "id": "x4QsWkcQZXAp",
        "outputId": "6562418b-fe28-494f-c24a-5a2104d5d15c",
        "colab": {
          "base_uri": "https://localhost:8080/",
          "height": 355
        }
      },
      "id": "x4QsWkcQZXAp",
      "execution_count": 14,
      "outputs": [
        {
          "output_type": "display_data",
          "data": {
            "text/plain": [
              "<IPython.core.display.HTML object>"
            ],
            "text/html": [
              "<h3>Version Information</h3><table><tr><th>Software</th><th>Version</th></tr><tr><td><code>qiskit</code></td><td>0.44.0</td></tr><tr><td><code>qiskit-terra</code></td><td>0.25.0</td></tr><tr><td><code>qiskit_ibm_provider</code></td><td>0.6.3</td></tr><tr><td><code>qiskit_aer</code></td><td>0.12.2</td></tr><tr><th colspan='2'>System information</th></tr><tr><td>Python version</td><td>3.10.12</td></tr><tr><td>Python compiler</td><td>GCC 11.4.0</td></tr><tr><td>Python build</td><td>main, Jun 11 2023 05:26:28</td></tr><tr><td>OS</td><td>Linux</td></tr><tr><td>CPUs</td><td>1</td></tr><tr><td>Memory (Gb)</td><td>12.678386688232422</td></tr><tr><td colspan='2'>Thu Aug 17 21:29:09 2023 UTC</td></tr></table>"
            ]
          },
          "metadata": {}
        },
        {
          "output_type": "stream",
          "name": "stderr",
          "text": [
            "UsageError: unrecognized arguments: # lists all available backends\n"
          ]
        }
      ]
    },
    {
      "cell_type": "code",
      "source": [
        "%qiskit_progress_bar"
      ],
      "metadata": {
        "id": "OtES5eFtZzN3",
        "outputId": "33ddf1d7-7df5-4c77-f5f9-7f43ce48881a",
        "colab": {
          "base_uri": "https://localhost:8080/"
        }
      },
      "id": "OtES5eFtZzN3",
      "execution_count": 16,
      "outputs": [
        {
          "output_type": "execute_result",
          "data": {
            "text/plain": [
              "<qiskit.tools.jupyter.progressbar.HTMLProgressBar at 0x7ac6ae08ac20>"
            ]
          },
          "metadata": {},
          "execution_count": 16
        }
      ]
    },
    {
      "cell_type": "code",
      "source": [
        "qiskit.__qiskit_version__"
      ],
      "metadata": {
        "colab": {
          "base_uri": "https://localhost:8080/"
        },
        "id": "BSvepaToKHWB",
        "outputId": "e2af778e-f76e-4ec7-d2a8-e0a22e563eb0"
      },
      "id": "BSvepaToKHWB",
      "execution_count": 5,
      "outputs": [
        {
          "output_type": "execute_result",
          "data": {
            "text/plain": [
              "{'qiskit-terra': '0.25.0', 'qiskit': '0.44.0', 'qiskit-aer': '0.12.2', 'qiskit-ignis': None, 'qiskit-ibmq-provider': None, 'qiskit-nature': None, 'qiskit-finance': None, 'qiskit-optimization': None, 'qiskit-machine-learning': None}"
            ]
          },
          "metadata": {},
          "execution_count": 5
        }
      ]
    },
    {
      "cell_type": "code",
      "source": [
        "qiskit.__version__"
      ],
      "metadata": {
        "colab": {
          "base_uri": "https://localhost:8080/",
          "height": 35
        },
        "id": "uT-myHB-A9um",
        "outputId": "18833f14-cc68-498e-ee76-879d2a7ccd5d"
      },
      "id": "uT-myHB-A9um",
      "execution_count": 6,
      "outputs": [
        {
          "output_type": "execute_result",
          "data": {
            "text/plain": [
              "'0.25.0'"
            ],
            "application/vnd.google.colaboratory.intrinsic+json": {
              "type": "string"
            }
          },
          "metadata": {},
          "execution_count": 6
        }
      ]
    }
  ],
  "metadata": {
    "kernelspec": {
      "display_name": "Python 3 (ipykernel)",
      "language": "python",
      "name": "python3"
    },
    "language_info": {
      "codemirror_mode": {
        "name": "ipython",
        "version": 3
      },
      "file_extension": ".py",
      "mimetype": "text/x-python",
      "name": "python",
      "nbconvert_exporter": "python",
      "pygments_lexer": "ipython3",
      "version": "3.9.17"
    },
    "colab": {
      "provenance": [],
      "include_colab_link": true
    }
  },
  "nbformat": 4,
  "nbformat_minor": 5
}