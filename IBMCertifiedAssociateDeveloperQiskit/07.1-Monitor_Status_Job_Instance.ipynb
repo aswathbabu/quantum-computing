{
  "cells": [
    {
      "cell_type": "markdown",
      "metadata": {
        "id": "view-in-github",
        "colab_type": "text"
      },
      "source": [
        "<a href=\"https://colab.research.google.com/github/mrromaniuc/quantum-computing/blob/main/IBMCertifiedAssociateDeveloperQiskit/07.1-Monitor_Status_Job_Instance.ipynb\" target=\"_parent\"><img src=\"https://colab.research.google.com/assets/colab-badge.svg\" alt=\"Open In Colab\"/></a>"
      ]
    },
    {
      "cell_type": "code",
      "source": [
        "%%capture\n",
        "!pip install qiskit\n",
        "!pip install qiskit-aer\n",
        "!pip install qiskit-visualization\n",
        "!pip install qiskit-ibm-provider\n",
        "!pip install qiskit-ibm-runtime\n",
        "!pip install qiskit-experiments\n",
        "!pip install imgaug==0.2.5\n",
        "!pip install pylatexenc"
      ],
      "metadata": {
        "id": "DFk2UDX60Iv9"
      },
      "id": "DFk2UDX60Iv9",
      "execution_count": 1,
      "outputs": []
    },
    {
      "cell_type": "code",
      "source": [
        "#Setting configuration to use matplotlib in drawings\n",
        "!mkdir ~/.qiskit\n",
        "!echo \"[default]\" > ~/.qiskit/settings.conf\n",
        "!echo \"circuit_drawer = mpl\" >> ~/.qiskit/settings.conf\n",
        "!more ~/.qiskit/settings.conf\n",
        "\n",
        "\n",
        "#\n",
        "# Loading IBM credentials\n",
        "#\n",
        "API_TOKEN_DIR=\"/content/drive/'My Drive'/'Colab Notebooks'/QC\"\n",
        "API_TOKEN_FILE=\"MY_API_TOKEN.txt\"\n",
        "\n",
        "#Mount the google drive first\n",
        "from google.colab import drive\n",
        "drive.mount('/content/drive')\n",
        "#%cd /content/drive/'My Drive'/'Colab Notebooks'/QC\n",
        "%cd $API_TOKEN_DIR\n",
        "\n",
        "#Read the MY_API_TOKEN from file...\n",
        "from qiskit_ibm_provider import IBMProvider\n",
        "MY_API_TOKEN = \"\"\n",
        "with open(API_TOKEN_FILE) as f:\n",
        "  MY_API_TOKEN=f.readline()\n",
        "IBMProvider.save_account(MY_API_TOKEN, overwrite=True)"
      ],
      "metadata": {
        "colab": {
          "base_uri": "https://localhost:8080/"
        },
        "id": "s8qRcB1E1J-b",
        "outputId": "73c0914e-c871-4b34-ea0a-d94b50d5869f"
      },
      "id": "s8qRcB1E1J-b",
      "execution_count": 2,
      "outputs": [
        {
          "output_type": "stream",
          "name": "stdout",
          "text": [
            "[default]\n",
            "circuit_drawer = mpl\n",
            "Mounted at /content/drive\n",
            "/content/drive/My Drive/Colab Notebooks/QC\n"
          ]
        }
      ]
    },
    {
      "cell_type": "markdown",
      "source": [
        "References:\n",
        "* https://qiskit.org/ecosystem/ibm-runtime/how_to/retrieve_results.html\n",
        "* https://qiskit.org/ecosystem/ibm-runtime/\n",
        "* https://youtu.be/ozy0b7eE-lo (monitor a job)\n",
        "* https://qiskit.org/documentation/apidoc/tools_jupyter.html\n",
        "\n",
        "\n"
      ],
      "metadata": {
        "id": "AdjmgkN12xB8"
      },
      "id": "AdjmgkN12xB8"
    },
    {
      "cell_type": "markdown",
      "source": [
        "## Monitor Status of Job Instance"
      ],
      "metadata": {
        "id": "Ck0zb-oFy5uX"
      },
      "id": "Ck0zb-oFy5uX"
    },
    {
      "cell_type": "markdown",
      "source": [
        "### Using job.status()"
      ],
      "metadata": {
        "id": "c5KScAxCvkJm"
      },
      "id": "c5KScAxCvkJm"
    },
    {
      "cell_type": "code",
      "source": [
        "import time\n",
        "\n",
        "from qiskit import QuantumCircuit, execute\n",
        "from qiskit_ibm_provider import IBMProvider\n",
        "\n",
        "qc = QuantumCircuit(2)\n",
        "\n",
        "qc.h(0)\n",
        "qc.z(0)\n",
        "qc.cx(0,1)\n",
        "qc.measure_all()\n",
        "display(qc.draw())\n",
        "\n",
        "provider = IBMProvider(instance=\"ibm-q/open/main\")\n",
        "be = provider.get_backend(\"ibmq_qasm_simulator\")\n",
        "\n",
        "job = be.run(qc, shots=10000)\n",
        "print(f\"JobId: {job.job_id()}\")\n",
        "print(f\"Status: {job.status()}\")\n",
        "time.sleep(30)\n",
        "print(f\"Status: {job.status()}\")"
      ],
      "metadata": {
        "colab": {
          "base_uri": "https://localhost:8080/",
          "height": 307
        },
        "id": "Ke5q4wz_ovtt",
        "outputId": "80eb46ba-c1d6-47c4-999a-7ad0c2f5a8f1"
      },
      "id": "Ke5q4wz_ovtt",
      "execution_count": null,
      "outputs": [
        {
          "output_type": "display_data",
          "data": {
            "text/plain": [
              "<Figure size 663.998x284.278 with 1 Axes>"
            ],
            "image/png": "[encoded data removed]"
          },
          "metadata": {}
        },
        {
          "output_type": "stream",
          "name": "stdout",
          "text": [
            "cjftbk45hqba891ll420\n",
            "Status: JobStatus.RUNNING\n",
            "Status: JobStatus.DONE\n"
          ]
        }
      ]
    },
    {
      "cell_type": "markdown",
      "source": [
        "### Using qiskit_ibm_runtime.QiskitRuntimeService"
      ],
      "metadata": {
        "id": "mowo796MvbvD"
      },
      "id": "mowo796MvbvD"
    },
    {
      "cell_type": "code",
      "source": [
        "from qiskit_ibm_runtime import QiskitRuntimeService\n",
        "\n",
        "service = QiskitRuntimeService()\n",
        "for j in service.jobs(backend_name=\"ibmq_qasm_simulator\"):\n",
        "  print(j) #last 10 jobs executed in this backend\n",
        "\n",
        "print(\"========================================\")\n",
        "\n",
        "old_job = service.job(job.job_id()) #Retrieving the old job based on the job_id\n",
        "print(f\"Counts: {old_job.result().get_counts()}\")"
      ],
      "metadata": {
        "colab": {
          "base_uri": "https://localhost:8080/"
        },
        "id": "8bDuX7kVT9YK",
        "outputId": "d5f69cee-a493-4cc6-9cc2-9fb973a7d686"
      },
      "id": "8bDuX7kVT9YK",
      "execution_count": null,
      "outputs": [
        {
          "output_type": "stream",
          "name": "stdout",
          "text": [
            "<RuntimeJob('cjftbk45hqba891ll420', 'circuit-runner')>\n",
            "<RuntimeJob('cjftb6t7ui1f8qbafqb0', 'circuit-runner')>\n",
            "<RuntimeJob('cjftb0f6dei066528nd0', 'circuit-runner')>\n",
            "<RuntimeJob('cjftaof6dei066528dd0', 'circuit-runner')>\n",
            "<RuntimeJob('cjftah0cs414jvh76mm0', 'circuit-runner')>\n",
            "<RuntimeJob('cjft5nvbq0tlksvl5m10', 'circuit-runner')>\n",
            "<RuntimeJob('cj9uhcmnq2dtf270lk0g', 'circuit-runner')>\n",
            "<RuntimeJob('cj9uh843bgbkhno5qkgg', 'circuit-runner')>\n",
            "<RuntimeJob('cj9ugj0l9m0cicojagp0', 'circuit-runner')>\n",
            "<RuntimeJob('cj9ug2clik6102p2sq1g', 'circuit-runner')>\n",
            "========================================\n",
            "Counts: {'00': 4999, '11': 5001}\n"
          ]
        }
      ]
    },
    {
      "cell_type": "markdown",
      "source": [
        "### using job.status() and job.wait_for_final_state()"
      ],
      "metadata": {
        "id": "aqjqT1RCvRna"
      },
      "id": "aqjqT1RCvRna"
    },
    {
      "cell_type": "code",
      "source": [
        "from datetime import datetime\n",
        "import pytz\n",
        "from qiskit import QuantumCircuit\n",
        "from qiskit_ibm_provider import IBMProvider\n",
        "\n",
        "def time():\n",
        "  tz = pytz.timezone('Europe/Paris')\n",
        "  now = datetime.now(tz)\n",
        "  return now.strftime(\"%H:%M:%S.%f\")\n",
        "\n",
        "\n",
        "qc = QuantumCircuit(2)\n",
        "qc.h(0)\n",
        "qc.cx(0,1)\n",
        "qc.z(0)\n",
        "qc.measure_all()\n",
        "\n",
        "qc.draw()\n",
        "\n",
        "\n",
        "provider=IBMProvider(instance=\"ibm-q/open/main\")\n",
        "be = provider.get_backend(\"ibmq_qasm_simulator\")\n",
        "\n",
        "print(time())\n",
        "job = be.run(qc, shots=100000)\n",
        "print(f\"{time()} Status: {job.status()}\")\n",
        "job.wait_for_final_state()\n",
        "print(f\"{time()} Status: {job.status()}\")"
      ],
      "metadata": {
        "id": "_OKhHORojVTX",
        "outputId": "979006a5-49ee-4d8c-e415-836b6586f998",
        "colab": {
          "base_uri": "https://localhost:8080/"
        }
      },
      "id": "_OKhHORojVTX",
      "execution_count": 15,
      "outputs": [
        {
          "output_type": "stream",
          "name": "stdout",
          "text": [
            "13:35:08.392776\n",
            "13:35:09.471036 Status: JobStatus.RUNNING\n",
            "13:35:12.836796 Status: JobStatus.DONE\n"
          ]
        }
      ]
    },
    {
      "cell_type": "markdown",
      "source": [
        "### Using qiskit.tools.job_monitor"
      ],
      "metadata": {
        "id": "1_KXzvbZvMpD"
      },
      "id": "1_KXzvbZvMpD"
    },
    {
      "cell_type": "code",
      "source": [
        "from qiskit import QuantumCircuit\n",
        "from qiskit.tools import job_monitor\n",
        "\n",
        "def time():\n",
        "  tz = pytz.timezone('Europe/Paris')\n",
        "  now = datetime.now(tz)\n",
        "  return now.strftime(\"%H:%M:%S.%f\")\n",
        "\n",
        "qc = QuantumCircuit(2)\n",
        "qc.h(0)\n",
        "qc.cx(0,1)\n",
        "qc.z(0)\n",
        "qc.measure_all()\n",
        "\n",
        "qc.draw()\n",
        "\n",
        "provider=IBMProvider(instance=\"ibm-q/open/main\")\n",
        "be = provider.get_backend(\"ibmq_qasm_simulator\")\n",
        "job = be.run(qc, shots=100000)\n",
        "job_monitor(job)"
      ],
      "metadata": {
        "id": "m2h0NB1hum5n",
        "outputId": "203f9441-3fe1-4785-8292-34d42af566f9",
        "colab": {
          "base_uri": "https://localhost:8080/"
        }
      },
      "id": "m2h0NB1hum5n",
      "execution_count": 17,
      "outputs": [
        {
          "output_type": "stream",
          "name": "stdout",
          "text": [
            "Job Status: job has successfully run\n"
          ]
        }
      ]
    }
  ],
  "metadata": {
    "kernelspec": {
      "display_name": "Python 3 (ipykernel)",
      "language": "python",
      "name": "python3"
    },
    "language_info": {
      "codemirror_mode": {
        "name": "ipython",
        "version": 3
      },
      "file_extension": ".py",
      "mimetype": "text/x-python",
      "name": "python",
      "nbconvert_exporter": "python",
      "pygments_lexer": "ipython3",
      "version": "3.9.17"
    },
    "colab": {
      "provenance": [],
      "toc_visible": true,
      "include_colab_link": true
    }
  },
  "nbformat": 4,
  "nbformat_minor": 5
}