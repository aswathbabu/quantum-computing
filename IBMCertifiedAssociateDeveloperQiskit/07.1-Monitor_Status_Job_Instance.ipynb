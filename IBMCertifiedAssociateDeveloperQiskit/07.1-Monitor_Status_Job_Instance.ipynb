{
  "cells": [
    {
      "cell_type": "markdown",
      "metadata": {
        "id": "view-in-github",
        "colab_type": "text"
      },
      "source": [
        "<a href=\"https://colab.research.google.com/github/mrromaniuc/quantum-computing/blob/main/IBMCertifiedAssociateDeveloperQiskit/07.1-Monitor_Status_Job_Instance.ipynb\" target=\"_parent\"><img src=\"https://colab.research.google.com/assets/colab-badge.svg\" alt=\"Open In Colab\"/></a>"
      ]
    },
    {
      "cell_type": "code",
      "source": [
        "%%capture\n",
        "!pip install qiskit\n",
        "!pip install qiskit-aer\n",
        "!pip install qiskit-visualization\n",
        "!pip install qiskit-ibm-provider\n",
        "!pip install qiskit-experiments\n",
        "!pip install imgaug==0.2.5\n",
        "!pip install pylatexenc"
      ],
      "metadata": {
        "id": "DFk2UDX60Iv9"
      },
      "id": "DFk2UDX60Iv9",
      "execution_count": 1,
      "outputs": []
    },
    {
      "cell_type": "code",
      "source": [
        "#Setting configuration to use matplotlib in drawings\n",
        "!mkdir ~/.qiskit\n",
        "!echo \"[default]\" > ~/.qiskit/settings.conf\n",
        "!echo \"circuit_drawer = mpl\" >> ~/.qiskit/settings.conf\n",
        "!more ~/.qiskit/settings.conf\n",
        "\n",
        "\n",
        "#\n",
        "# Loading IBM credentials\n",
        "#\n",
        "API_TOKEN_DIR=\"/content/drive/'My Drive'/'Colab Notebooks'/QC\"\n",
        "API_TOKEN_FILE=\"MY_API_TOKEN.txt\"\n",
        "\n",
        "#Mount the google drive first\n",
        "from google.colab import drive\n",
        "drive.mount('/content/drive')\n",
        "#%cd /content/drive/'My Drive'/'Colab Notebooks'/QC\n",
        "%cd $API_TOKEN_DIR\n",
        "\n",
        "#Read the MY_API_TOKEN from file...\n",
        "from qiskit_ibm_provider import IBMProvider\n",
        "MY_API_TOKEN = \"\"\n",
        "with open(API_TOKEN_FILE) as f:\n",
        "  MY_API_TOKEN=f.readline()\n",
        "IBMProvider.save_account(MY_API_TOKEN, overwrite=True)"
      ],
      "metadata": {
        "colab": {
          "base_uri": "https://localhost:8080/"
        },
        "id": "s8qRcB1E1J-b",
        "outputId": "6a080af4-4079-4478-c2d3-550c4920039e"
      },
      "id": "s8qRcB1E1J-b",
      "execution_count": 2,
      "outputs": [
        {
          "output_type": "stream",
          "name": "stdout",
          "text": [
            "[default]\n",
            "circuit_drawer = mpl\n",
            "Mounted at /content/drive\n",
            "/content/drive/My Drive/Colab Notebooks/QC\n"
          ]
        }
      ]
    },
    {
      "cell_type": "markdown",
      "source": [
        "References:\n",
        "* https://qiskit.org/ecosystem/ibm-runtime/how_to/retrieve_results.html\n",
        "* https://youtu.be/ozy0b7eE-lo (monitor a job)\n",
        "\n",
        "\n"
      ],
      "metadata": {
        "id": "AdjmgkN12xB8"
      },
      "id": "AdjmgkN12xB8"
    },
    {
      "cell_type": "markdown",
      "source": [
        "## Monitor Status of Job Instance"
      ],
      "metadata": {
        "id": "Ck0zb-oFy5uX"
      },
      "id": "Ck0zb-oFy5uX"
    },
    {
      "cell_type": "code",
      "source": [],
      "metadata": {
        "colab": {
          "base_uri": "https://localhost:8080/"
        },
        "id": "Ke5q4wz_ovtt",
        "outputId": "362b7672-a7b5-4a53-bfda-30647b1b83f5"
      },
      "id": "Ke5q4wz_ovtt",
      "execution_count": null,
      "outputs": [
        {
          "output_type": "stream",
          "name": "stdout",
          "text": [
            "\u001b[92mOPENQASM\u001b[39m \u001b[96m2\u001b[39m.\u001b[96m0\u001b[39m;\n",
            "\u001b[92minclude\u001b[39m\u001b[91m \"qelib1.inc\"\u001b[39m;\n",
            "\u001b[92mqreg\u001b[39m q[\u001b[96m2\u001b[39m];\n",
            "\u001b[95mh\u001b[39m q[\u001b[96m0\u001b[39m];\n",
            "\u001b[95mcx\u001b[39m q[\u001b[96m0\u001b[39m],q[\u001b[96m1\u001b[39m];\n",
            "\n"
          ]
        }
      ]
    }
  ],
  "metadata": {
    "kernelspec": {
      "display_name": "Python 3 (ipykernel)",
      "language": "python",
      "name": "python3"
    },
    "language_info": {
      "codemirror_mode": {
        "name": "ipython",
        "version": 3
      },
      "file_extension": ".py",
      "mimetype": "text/x-python",
      "name": "python",
      "nbconvert_exporter": "python",
      "pygments_lexer": "ipython3",
      "version": "3.9.17"
    },
    "colab": {
      "provenance": [],
      "include_colab_link": true
    }
  },
  "nbformat": 4,
  "nbformat_minor": 5
}