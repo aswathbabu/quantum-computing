{
  "cells": [
    {
      "cell_type": "markdown",
      "metadata": {
        "id": "view-in-github",
        "colab_type": "text"
      },
      "source": [
        "<a href=\"https://colab.research.google.com/github/mrromaniuc/quantum-computing/blob/main/IBMCertifiedAssociateDeveloperQiskit/01.1-Quantum_and_Classical_Registers.ipynb\" target=\"_parent\"><img src=\"https://colab.research.google.com/assets/colab-badge.svg\" alt=\"Open In Colab\"/></a>"
      ]
    },
    {
      "cell_type": "code",
      "source": [
        "%%capture\n",
        "!pip install qiskit\n",
        "!pip install qiskit-aer\n",
        "!pip install qiskit-visualization\n",
        "!pip install qiskit-ibm-provider\n",
        "!pip install imgaug==0.2.5\n",
        "!pip install pylatexenc"
      ],
      "metadata": {
        "id": "hIWZIwF47U_u"
      },
      "id": "hIWZIwF47U_u",
      "execution_count": 8,
      "outputs": []
    },
    {
      "cell_type": "markdown",
      "source": [
        "References:\n",
        "* https://qiskit.org/documentation/stubs/qiskit.circuit.QuantumRegister.html\n",
        "* https://qiskit.org/documentation/stubs/qiskit.circuit.ClassicalRegister.html"
      ],
      "metadata": {
        "id": "YnC1XnVP8Kdz"
      },
      "id": "YnC1XnVP8Kdz"
    },
    {
      "cell_type": "markdown",
      "source": [
        "## Quantum and Classical Registers"
      ],
      "metadata": {
        "id": "1iK6rqBS7Z1U"
      },
      "id": "1iK6rqBS7Z1U"
    },
    {
      "cell_type": "markdown",
      "source": [
        "### Using quantum register in the constructor of QuantumCircuit"
      ],
      "metadata": {
        "id": "0Jc67Vp58YRI"
      },
      "id": "0Jc67Vp58YRI"
    },
    {
      "cell_type": "code",
      "execution_count": 1,
      "id": "d8977cd9",
      "metadata": {
        "id": "d8977cd9",
        "outputId": "b9194a82-f51d-4b4d-f09f-8780ac0906b6",
        "colab": {
          "base_uri": "https://localhost:8080/",
          "height": 191
        }
      },
      "outputs": [
        {
          "output_type": "execute_result",
          "data": {
            "text/plain": [
              "<Figure size 203.28x200.667 with 1 Axes>"
            ],
            "image/png": "[encoded data removed]"
          },
          "metadata": {},
          "execution_count": 1
        }
      ],
      "source": [
        "from qiskit import QuantumCircuit, QuantumRegister\n",
        "\n",
        "qra = QuantumRegister(2, \"a\")\n",
        "\n",
        "qc = QuantumCircuit(qra)\n",
        "qc.h(qra)\n",
        "qc.draw(\"mpl\")"
      ]
    },
    {
      "cell_type": "markdown",
      "source": [
        "### Adding QuantumRegister after creating the QuantumCircuit"
      ],
      "metadata": {
        "id": "W8mTdzMP8bgU"
      },
      "id": "W8mTdzMP8bgU"
    },
    {
      "cell_type": "code",
      "execution_count": 2,
      "id": "160b7bb8",
      "metadata": {
        "id": "160b7bb8",
        "outputId": "5de653c1-09fa-4831-8112-b3a329edafbf",
        "colab": {
          "base_uri": "https://localhost:8080/",
          "height": 384
        }
      },
      "outputs": [
        {
          "output_type": "execute_result",
          "data": {
            "text/plain": [
              "<Figure size 287.698x451.5 with 1 Axes>"
            ],
            "image/png": "[encoded data removed]"
          },
          "metadata": {},
          "execution_count": 2
        }
      ],
      "source": [
        "from qiskit import QuantumCircuit, QuantumRegister\n",
        "\n",
        "qra = QuantumRegister(2, \"a\")\n",
        "qrb = QuantumRegister(3, \"b\")\n",
        "\n",
        "qc = QuantumCircuit(qra)\n",
        "qc.add_register(qrb)   #including more register after creating the circuit\n",
        "qc.h(qra)              #applying all operation to all qubits in the register\n",
        "qc.cx(qra[0], qra[1])  #Using inndexes\n",
        "qc.x(qrb)\n",
        "qc.draw(\"mpl\")"
      ]
    },
    {
      "cell_type": "markdown",
      "source": [
        "### Using a ClassicalRegister"
      ],
      "metadata": {
        "id": "jaD215OB9M6E"
      },
      "id": "jaD215OB9M6E"
    },
    {
      "cell_type": "code",
      "execution_count": 4,
      "id": "8d60a142",
      "metadata": {
        "id": "8d60a142",
        "outputId": "bbeeec6b-9791-4c09-dd68-496fcb69fc86",
        "colab": {
          "base_uri": "https://localhost:8080/",
          "height": 255
        }
      },
      "outputs": [
        {
          "output_type": "execute_result",
          "data": {
            "text/plain": [
              "<Figure size 370.502x284.278 with 1 Axes>"
            ],
            "image/png": "[encoded data removed]"
          },
          "metadata": {},
          "execution_count": 4
        }
      ],
      "source": [
        "from qiskit import QuantumCircuit, ClassicalRegister\n",
        "\n",
        "cr = ClassicalRegister(2)\n",
        "\n",
        "qc = QuantumCircuit(qra, cr)\n",
        "qc.h(qra)\n",
        "qc.measure(qra, cr)\n",
        "qc.draw(\"mpl\")"
      ]
    },
    {
      "cell_type": "code",
      "execution_count": 5,
      "id": "e686a1c4",
      "metadata": {
        "id": "e686a1c4",
        "outputId": "bda35b59-1c0d-45d4-97df-4b7e0b1a1f2d",
        "colab": {
          "base_uri": "https://localhost:8080/",
          "height": 295
        }
      },
      "outputs": [
        {
          "output_type": "display_data",
          "data": {
            "text/plain": [
              "<IPython.core.display.HTML object>"
            ],
            "text/html": [
              "<h3>Version Information</h3><table><tr><th>Software</th><th>Version</th></tr><tr><td><code>qiskit</code></td><td>0.44.1</td></tr><tr><td><code>qiskit-terra</code></td><td>0.25.1</td></tr><tr><th colspan='2'>System information</th></tr><tr><td>Python version</td><td>3.10.12</td></tr><tr><td>Python compiler</td><td>GCC 11.4.0</td></tr><tr><td>Python build</td><td>main, Jun 11 2023 05:26:28</td></tr><tr><td>OS</td><td>Linux</td></tr><tr><td>CPUs</td><td>1</td></tr><tr><td>Memory (Gb)</td><td>12.678386688232422</td></tr><tr><td colspan='2'>Tue Aug 22 06:36:52 2023 UTC</td></tr></table>"
            ]
          },
          "metadata": {}
        }
      ],
      "source": [
        "import qiskit.tools.jupyter\n",
        "%qiskit_version_table"
      ]
    }
  ],
  "metadata": {
    "kernelspec": {
      "display_name": "Python 3 (ipykernel)",
      "language": "python",
      "name": "python3"
    },
    "language_info": {
      "codemirror_mode": {
        "name": "ipython",
        "version": 3
      },
      "file_extension": ".py",
      "mimetype": "text/x-python",
      "name": "python",
      "nbconvert_exporter": "python",
      "pygments_lexer": "ipython3",
      "version": "3.9.17"
    },
    "colab": {
      "provenance": [],
      "include_colab_link": true
    }
  },
  "nbformat": 4,
  "nbformat_minor": 5
}