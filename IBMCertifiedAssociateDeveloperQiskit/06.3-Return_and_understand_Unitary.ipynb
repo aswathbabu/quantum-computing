{
  "cells": [
    {
      "cell_type": "markdown",
      "metadata": {
        "id": "view-in-github",
        "colab_type": "text"
      },
      "source": [
        "<a href=\"https://colab.research.google.com/github/mrromaniuc/quantum-computing/blob/main/IBMCertifiedAssociateDeveloperQiskit/06.3-Return_and_understand_Unitary.ipynb\" target=\"_parent\"><img src=\"https://colab.research.google.com/assets/colab-badge.svg\" alt=\"Open In Colab\"/></a>"
      ]
    },
    {
      "cell_type": "code",
      "source": [
        "%%capture\n",
        "!pip install qiskit\n",
        "!pip install qiskit-aer\n",
        "!pip install qiskit-visualization\n",
        "!pip install qiskit-ibm-provider\n",
        "!pip install qiskit-experiments\n",
        "!pip install imgaug==0.2.5\n",
        "!pip install pylatexenc"
      ],
      "metadata": {
        "id": "DFk2UDX60Iv9"
      },
      "id": "DFk2UDX60Iv9",
      "execution_count": 1,
      "outputs": []
    },
    {
      "cell_type": "code",
      "source": [
        "#Setting configuration to use matplotlib in drawings\n",
        "!mkdir ~/.qiskit\n",
        "!echo \"[default]\" > ~/.qiskit/settings.conf\n",
        "!echo \"circuit_drawer = mpl\" >> ~/.qiskit/settings.conf\n",
        "!more ~/.qiskit/settings.conf\n",
        "\n",
        "\n",
        "#\n",
        "# Loading IBM credentials\n",
        "#\n",
        "API_TOKEN_DIR=\"/content/drive/'My Drive'/'Colab Notebooks'/QC\"\n",
        "API_TOKEN_FILE=\"MY_API_TOKEN.txt\"\n",
        "\n",
        "#Mount the google drive first\n",
        "from google.colab import drive\n",
        "drive.mount('/content/drive')\n",
        "#%cd /content/drive/'My Drive'/'Colab Notebooks'/QC\n",
        "%cd $API_TOKEN_DIR\n",
        "\n",
        "#Read the MY_API_TOKEN from file...\n",
        "from qiskit_ibm_provider import IBMProvider\n",
        "MY_API_TOKEN = \"\"\n",
        "with open(API_TOKEN_FILE) as f:\n",
        "  MY_API_TOKEN=f.readline()\n",
        "IBMProvider.save_account(MY_API_TOKEN, overwrite=True)"
      ],
      "metadata": {
        "colab": {
          "base_uri": "https://localhost:8080/"
        },
        "id": "s8qRcB1E1J-b",
        "outputId": "c761ccab-e751-4c54-d752-b900b41ee022"
      },
      "id": "s8qRcB1E1J-b",
      "execution_count": 2,
      "outputs": [
        {
          "output_type": "stream",
          "name": "stdout",
          "text": [
            "[default]\n",
            "circuit_drawer = mpl\n",
            "Mounted at /content/drive\n",
            "/content/drive/My Drive/Colab Notebooks/QC\n"
          ]
        }
      ]
    },
    {
      "cell_type": "markdown",
      "source": [
        "References:\n",
        "* https://qiskit.org/documentation/apidoc/providers_basicaer.html\n",
        "* https://youtu.be/5uT5fUq2HVM (unitary_simulator)\n",
        "* https://qiskit.org/documentation/stubs/qiskit.quantum_info.Operator.html"
      ],
      "metadata": {
        "id": "AdjmgkN12xB8"
      },
      "id": "AdjmgkN12xB8"
    },
    {
      "cell_type": "markdown",
      "source": [
        "## Return and Understand Unitary of an experiment\n",
        "There are at least two ways to get the Unitary of an experiment:\n",
        "- Using unitary_simulator and running the experiment\n",
        "- alternatively, using the Operator class"
      ],
      "metadata": {
        "id": "Ck0zb-oFy5uX"
      },
      "id": "Ck0zb-oFy5uX"
    },
    {
      "cell_type": "markdown",
      "source": [
        "### unitary_simulator\n"
      ],
      "metadata": {
        "id": "YcwOL99ssM6v"
      },
      "id": "YcwOL99ssM6v"
    },
    {
      "cell_type": "code",
      "source": [
        "from qiskit import QuantumCircuit, BasicAer, execute\n",
        "\n",
        "qc = QuantumCircuit(1)\n",
        "qc.h(0)\n",
        "\n",
        "be = BasicAer.get_backend(\"unitary_simulator\")\n",
        "result = execute(qc, be).result()\n",
        "print(result.data()['unitary'])"
      ],
      "metadata": {
        "id": "_2gGeEKSPawr",
        "outputId": "92b6f798-d81e-42a4-98e3-8ab20270b477",
        "colab": {
          "base_uri": "https://localhost:8080/"
        }
      },
      "id": "_2gGeEKSPawr",
      "execution_count": null,
      "outputs": [
        {
          "output_type": "stream",
          "name": "stdout",
          "text": [
            "[[ 0.70710678+0.00000000e+00j  0.70710678-8.65956056e-17j]\n",
            " [ 0.70710678+0.00000000e+00j -0.70710678+8.65956056e-17j]]\n"
          ]
        }
      ]
    },
    {
      "cell_type": "markdown",
      "source": [
        "### Using Operator()"
      ],
      "metadata": {
        "id": "jPuauejhuKWF"
      },
      "id": "jPuauejhuKWF"
    },
    {
      "cell_type": "code",
      "source": [
        "from qiskit import QuantumCircuit\n",
        "from qiskit.quantum_info import Operator\n",
        "\n",
        "qc = QuantumCircuit(1)\n",
        "qc.h(0)\n",
        "\n",
        "op = Operator(qc)\n",
        "\n",
        "print(op)"
      ],
      "metadata": {
        "colab": {
          "base_uri": "https://localhost:8080/"
        },
        "id": "leX47Dazt3DY",
        "outputId": "4d1bc84d-bcbf-475a-ff51-9f3fe9234a1f"
      },
      "id": "leX47Dazt3DY",
      "execution_count": null,
      "outputs": [
        {
          "output_type": "stream",
          "name": "stdout",
          "text": [
            "Operator([[ 0.70710678+0.j,  0.70710678+0.j],\n",
            "          [ 0.70710678+0.j, -0.70710678+0.j]],\n",
            "         input_dims=(2,), output_dims=(2,))\n"
          ]
        }
      ]
    },
    {
      "cell_type": "markdown",
      "source": [
        "### Generating random unitaries"
      ],
      "metadata": {
        "id": "0su7_8KRN-Dp"
      },
      "id": "0su7_8KRN-Dp"
    },
    {
      "cell_type": "code",
      "source": [
        "#one-dimension random unitary\n",
        "from qiskit.quantum_info import random_unitary\n",
        "from qiskit.visualization import array_to_latex\n",
        "\n",
        "op = random_unitary(4)\n",
        "\n",
        "array_to_latex(op)"
      ],
      "metadata": {
        "id": "CC__F03HODZi",
        "outputId": "73c6f995-c6c0-4770-c057-d850a665acf0",
        "colab": {
          "base_uri": "https://localhost:8080/",
          "height": 98
        }
      },
      "id": "CC__F03HODZi",
      "execution_count": 8,
      "outputs": [
        {
          "output_type": "execute_result",
          "data": {
            "text/plain": [
              "<IPython.core.display.Latex object>"
            ],
            "text/latex": "$$\n\n\\begin{bmatrix}\n-0.3460752076 - 0.3982959845 i & -0.266690227 + 0.250989138 i & -0.1970156092 - 0.4882287419 i & -0.5568130711 - 0.0158045579 i  \\\\\n 0.3873599684 + 0.0163598435 i & -0.4700071357 + 0.082253906 i & 0.1363397905 - 0.3141415009 i & 0.2177450279 + 0.676258737 i  \\\\\n -0.1992447132 + 0.0681114501 i & -0.437654462 + 0.5757486422 i & 0.4025566835 + 0.5101594524 i & -0.042885197 - 0.0920910262 i  \\\\\n 0.2288561578 - 0.6888861324 i & 0.3386334124 + 0.0225354746 i & 0.0973966818 + 0.4168254555 i & -0.2116773948 + 0.3603379337 i  \\\\\n \\end{bmatrix}\n$$"
          },
          "metadata": {},
          "execution_count": 8
        }
      ]
    },
    {
      "cell_type": "code",
      "source": [
        "#two-dimension random unitary\n",
        "from qiskit.quantum_info import random_unitary\n",
        "from qiskit.visualization import array_to_latex\n",
        "\n",
        "op = random_unitary([2,2])\n",
        "\n",
        "array_to_latex(op)"
      ],
      "metadata": {
        "id": "gJzFUe2bOf-K",
        "outputId": "fc39e0ba-1212-468c-fd23-6b9d5cc8b530",
        "colab": {
          "base_uri": "https://localhost:8080/",
          "height": 98
        }
      },
      "id": "gJzFUe2bOf-K",
      "execution_count": 7,
      "outputs": [
        {
          "output_type": "execute_result",
          "data": {
            "text/plain": [
              "<IPython.core.display.Latex object>"
            ],
            "text/latex": "$$\n\n\\begin{bmatrix}\n0.2086055667 + 0.0043517078 i & 0.3015365202 - 0.3632722714 i & 0.7984989618 + 0.2238564034 i & -0.1890777253 - 0.1005539479 i  \\\\\n -0.3509120565 + 0.2972214376 i & -0.0279987918 - 0.3174253761 i & 0.1337087656 - 0.0571972454 i & 0.7901587786 - 0.2036587577 i  \\\\\n -0.4481709226 + 0.7203702784 i & 0.1597488576 - 0.0239345759 i & 0.008929931 - 0.1454398307 i & -0.4290701339 + 0.2208693208 i  \\\\\n 0.0656041043 + 0.1445355089 i & -0.0624253944 + 0.803477872 i & 0.4855542754 - 0.184777481 i & 0.2208278525 + 0.081617126 i  \\\\\n \\end{bmatrix}\n$$"
          },
          "metadata": {},
          "execution_count": 7
        }
      ]
    },
    {
      "cell_type": "code",
      "source": [
        "import qiskit.tools.jupyter\n",
        "%qiskit_version_table"
      ],
      "metadata": {
        "id": "35wU-4SPN37D",
        "outputId": "e938638a-e6de-4a09-cefe-d2b9ea7e9bd4",
        "colab": {
          "base_uri": "https://localhost:8080/",
          "height": 316
        }
      },
      "id": "35wU-4SPN37D",
      "execution_count": 9,
      "outputs": [
        {
          "output_type": "display_data",
          "data": {
            "text/plain": [
              "<IPython.core.display.HTML object>"
            ],
            "text/html": [
              "<h3>Version Information</h3><table><tr><th>Software</th><th>Version</th></tr><tr><td><code>qiskit</code></td><td>0.44.1</td></tr><tr><td><code>qiskit-terra</code></td><td>0.25.1</td></tr><tr><td><code>qiskit_ibm_provider</code></td><td>0.6.3</td></tr><tr><th colspan='2'>System information</th></tr><tr><td>Python version</td><td>3.10.12</td></tr><tr><td>Python compiler</td><td>GCC 11.4.0</td></tr><tr><td>Python build</td><td>main, Jun 11 2023 05:26:28</td></tr><tr><td>OS</td><td>Linux</td></tr><tr><td>CPUs</td><td>1</td></tr><tr><td>Memory (Gb)</td><td>12.678386688232422</td></tr><tr><td colspan='2'>Mon Aug 21 17:54:14 2023 UTC</td></tr></table>"
            ]
          },
          "metadata": {}
        }
      ]
    }
  ],
  "metadata": {
    "kernelspec": {
      "display_name": "Python 3 (ipykernel)",
      "language": "python",
      "name": "python3"
    },
    "language_info": {
      "codemirror_mode": {
        "name": "ipython",
        "version": 3
      },
      "file_extension": ".py",
      "mimetype": "text/x-python",
      "name": "python",
      "nbconvert_exporter": "python",
      "pygments_lexer": "ipython3",
      "version": "3.9.17"
    },
    "colab": {
      "provenance": [],
      "toc_visible": true,
      "include_colab_link": true
    }
  },
  "nbformat": 4,
  "nbformat_minor": 5
}