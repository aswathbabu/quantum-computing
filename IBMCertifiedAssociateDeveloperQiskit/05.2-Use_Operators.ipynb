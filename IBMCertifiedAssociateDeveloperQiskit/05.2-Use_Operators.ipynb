{
  "cells": [
    {
      "cell_type": "markdown",
      "metadata": {
        "id": "view-in-github",
        "colab_type": "text"
      },
      "source": [
        "<a href=\"https://colab.research.google.com/github/mrromaniuc/quantum-computing/blob/main/IBMCertifiedAssociateDeveloperQiskit/05.2-Use_Operators.ipynb\" target=\"_parent\"><img src=\"https://colab.research.google.com/assets/colab-badge.svg\" alt=\"Open In Colab\"/></a>"
      ]
    },
    {
      "cell_type": "code",
      "source": [
        "%%capture\n",
        "!pip install qiskit\n",
        "!pip install qiskit-aer\n",
        "!pip install qiskit-visualization\n",
        "!pip install qiskit-ibm-provider\n",
        "!pip install imgaug==0.2.5\n",
        "!pip install pylatexenc"
      ],
      "metadata": {
        "id": "DFk2UDX60Iv9"
      },
      "id": "DFk2UDX60Iv9",
      "execution_count": 1,
      "outputs": []
    },
    {
      "cell_type": "code",
      "source": [
        "\n",
        "#Setting configuration to use matplotlib in drawings\n",
        "!mkdir ~/.qiskit\n",
        "!echo \"[default]\" > ~/.qiskit/settings.conf\n",
        "!echo \"circuit_drawer = mpl\" >> ~/.qiskit/settings.conf\n",
        "!more ~/.qiskit/settings.conf\n",
        "\n",
        "\n",
        "#\n",
        "# Loading IBM credentials\n",
        "#\n",
        "API_TOKEN_DIR=\"/content/drive/'My Drive'/'Colab Notebooks'/QC\"\n",
        "API_TOKEN_FILE=\"MY_API_TOKEN.txt\"\n",
        "\n",
        "#Mount the google drive first\n",
        "from google.colab import drive\n",
        "drive.mount('/content/drive')\n",
        "#%cd /content/drive/'My Drive'/'Colab Notebooks'/QC\n",
        "%cd $API_TOKEN_DIR\n",
        "\n",
        "#Read the MY_API_TOKEN from file...\n",
        "from qiskit_ibm_provider import IBMProvider\n",
        "MY_API_TOKEN = \"\"\n",
        "with open(API_TOKEN_FILE) as f:\n",
        "  MY_API_TOKEN=f.readline()\n",
        "IBMProvider.save_account(MY_API_TOKEN, overwrite=True)"
      ],
      "metadata": {
        "colab": {
          "base_uri": "https://localhost:8080/"
        },
        "id": "s8qRcB1E1J-b",
        "outputId": "4454e2ff-da55-48b0-9c2d-cee98d234e04"
      },
      "id": "s8qRcB1E1J-b",
      "execution_count": null,
      "outputs": [
        {
          "output_type": "stream",
          "name": "stdout",
          "text": [
            "[default]\n",
            "circuit_drawer = mpl\n",
            "Mounted at /content/drive\n",
            "/content/drive/My Drive/Colab Notebooks/QC\n"
          ]
        }
      ]
    },
    {
      "cell_type": "markdown",
      "source": [
        "References:\n",
        "* https://qiskit.org/documentation/tutorials/circuits_advanced/02_operators_overview.html\n",
        "* https://qiskit.org/documentation/stubs/qiskit.quantum_info.Operator.html\n"
      ],
      "metadata": {
        "id": "AdjmgkN12xB8"
      },
      "id": "AdjmgkN12xB8"
    },
    {
      "cell_type": "markdown",
      "source": [
        "## Use Operators\n",
        "Operator class is used in qiskit to represent matrix operations acting on a quantum system\n",
        "\n",
        "It has several methods to compose and and build new operators\n"
      ],
      "metadata": {
        "id": "Ck0zb-oFy5uX"
      },
      "id": "Ck0zb-oFy5uX"
    },
    {
      "cell_type": "markdown",
      "source": [
        "### Creating it from an array"
      ],
      "metadata": {
        "id": "tVNQ0y1a5DC6"
      },
      "id": "tVNQ0y1a5DC6"
    },
    {
      "cell_type": "code",
      "source": [
        "#Using a matrix to create the Operator\n",
        "import numpy as np\n",
        "from qiskit.quantum_info import Operator\n",
        "\n",
        "XPauli_matrix = np.array([[0,1],[1,0]])\n",
        "xop = Operator(XPauli_matrix)\n",
        "\n",
        "print(\"XPauli operator:\")\n",
        "xop.data"
      ],
      "metadata": {
        "colab": {
          "base_uri": "https://localhost:8080/"
        },
        "id": "eFaclbe8JoC9",
        "outputId": "72b8cc19-9124-4515-e0e9-3780f726a3db"
      },
      "id": "eFaclbe8JoC9",
      "execution_count": 3,
      "outputs": [
        {
          "output_type": "stream",
          "name": "stdout",
          "text": [
            "XPauli operator:\n"
          ]
        },
        {
          "output_type": "execute_result",
          "data": {
            "text/plain": [
              "array([[0.+0.j, 1.+0.j],\n",
              "       [1.+0.j, 0.+0.j]])"
            ]
          },
          "metadata": {},
          "execution_count": 3
        }
      ]
    },
    {
      "cell_type": "markdown",
      "source": [
        "### Creating it from a Pauli gate object"
      ],
      "metadata": {
        "id": "-hBk4kzV5MuD"
      },
      "id": "-hBk4kzV5MuD"
    },
    {
      "cell_type": "code",
      "source": [
        "#Using a Pauli object to initialize the Operator\n",
        "from qiskit.quantum_info.operators import Operator, Pauli\n",
        "\n",
        "op = Operator(Pauli('X'))\n",
        "op.data"
      ],
      "metadata": {
        "colab": {
          "base_uri": "https://localhost:8080/"
        },
        "id": "DiJy7T-LLTjL",
        "outputId": "5cb33c7e-8d69-4579-96b7-6964a208c8f6"
      },
      "id": "DiJy7T-LLTjL",
      "execution_count": null,
      "outputs": [
        {
          "output_type": "execute_result",
          "data": {
            "text/plain": [
              "array([[0.+0.j, 1.+0.j],\n",
              "       [1.+0.j, 0.+0.j]])"
            ]
          },
          "metadata": {},
          "execution_count": 7
        }
      ]
    },
    {
      "cell_type": "markdown",
      "source": [
        "### Creating it from gates in qiskit.circuit.library"
      ],
      "metadata": {
        "id": "UDxgDUd05c0-"
      },
      "id": "UDxgDUd05c0-"
    },
    {
      "cell_type": "code",
      "source": [
        "#Using a gate to initialize the Operator\n",
        "from qiskit.quantum_info.operators import Operator\n",
        "from qiskit.circuit.library import RXGate\n",
        "\n",
        "xop = Operator(RXGate(np.pi))\n",
        "xop.data"
      ],
      "metadata": {
        "colab": {
          "base_uri": "https://localhost:8080/"
        },
        "id": "25B4FcWOLqjf",
        "outputId": "d292444c-ff49-4111-b778-5c7eb8c91e1f"
      },
      "id": "25B4FcWOLqjf",
      "execution_count": 4,
      "outputs": [
        {
          "output_type": "execute_result",
          "data": {
            "text/plain": [
              "array([[6.123234e-17+0.j, 0.000000e+00-1.j],\n",
              "       [0.000000e+00-1.j, 6.123234e-17+0.j]])"
            ]
          },
          "metadata": {},
          "execution_count": 4
        }
      ]
    },
    {
      "cell_type": "markdown",
      "source": [
        "### Creating it from a Statevector"
      ],
      "metadata": {
        "id": "kW9-ggfu5q1Q"
      },
      "id": "kW9-ggfu5q1Q"
    },
    {
      "cell_type": "code",
      "source": [
        "#Using a QuantumCircuit to initialize the Operator\n",
        "from qiskit import QuantumCircuit\n",
        "from qiskit.quantum_info import Operator, Statevector\n",
        "\n",
        "qc = QuantumCircuit(2)\n",
        "qc.h(0)\n",
        "qc.cx(0,1)\n",
        "sv = Statevector.from_instruction(qc)\n",
        "\n",
        "opBell = Operator(sv)\n",
        "\n",
        "print(f\"Operator is unitary: {opBell.is_unitary()}\")\n",
        "print(f\"Operador is equivalent to the statevector: {opBell.equiv(sv)}\")"
      ],
      "metadata": {
        "id": "N85Axz4Y2OKX",
        "outputId": "18e0aa4c-12f7-48a8-d4a1-2b08274c9d11",
        "colab": {
          "base_uri": "https://localhost:8080/"
        }
      },
      "id": "N85Axz4Y2OKX",
      "execution_count": null,
      "outputs": [
        {
          "output_type": "stream",
          "name": "stdout",
          "text": [
            "Operator is unitary: False\n",
            "Operador is equivalent to the statevector: True\n"
          ]
        }
      ]
    },
    {
      "cell_type": "markdown",
      "source": [
        "### Creating it from a QuantumCircuit"
      ],
      "metadata": {
        "id": "NlcTTurn53H2"
      },
      "id": "NlcTTurn53H2"
    },
    {
      "cell_type": "code",
      "source": [
        "from qiskit import QuantumCircuit\n",
        "\n",
        "qc = QuantumCircuit(2)\n",
        "qc.h(0)\n",
        "qc.x(1)\n",
        "qc.cnot(0,1)\n",
        "display(qc.draw(\"mpl\"))\n",
        "\n",
        "op = Operator(qc)\n",
        "op.to_matrix()"
      ],
      "metadata": {
        "id": "SRI7zQyK56kZ",
        "outputId": "174b9eb9-61a8-48dc-aa00-82562956ea63",
        "colab": {
          "base_uri": "https://localhost:8080/",
          "height": 330
        }
      },
      "id": "SRI7zQyK56kZ",
      "execution_count": 7,
      "outputs": [
        {
          "output_type": "display_data",
          "data": {
            "text/plain": [
              "<Figure size 287.294x200.667 with 1 Axes>"
            ],
            "image/png": "[encoded data removed]"
          },
          "metadata": {}
        },
        {
          "output_type": "execute_result",
          "data": {
            "text/plain": [
              "array([[ 0.        +0.j,  0.        +0.j,  0.70710678+0.j,\n",
              "         0.70710678+0.j],\n",
              "       [ 0.70710678+0.j, -0.70710678+0.j,  0.        +0.j,\n",
              "         0.        +0.j],\n",
              "       [ 0.70710678+0.j,  0.70710678+0.j,  0.        +0.j,\n",
              "         0.        +0.j],\n",
              "       [ 0.        +0.j,  0.        +0.j,  0.70710678+0.j,\n",
              "        -0.70710678+0.j]])"
            ]
          },
          "metadata": {},
          "execution_count": 7
        }
      ]
    },
    {
      "cell_type": "markdown",
      "source": [
        "### Applying the Operator into a Circuit"
      ],
      "metadata": {
        "id": "CSyYX6-n5xNs"
      },
      "id": "CSyYX6-n5xNs"
    },
    {
      "cell_type": "code",
      "source": [
        "#Using Operator in a circuit\n",
        "from qiskit import QuantumCircuit\n",
        "from qiskit.quantum_info.operators import Operator\n",
        "from qiskit.quantum_info import Statevector\n",
        "\n",
        "#Build the Operator\n",
        "bell = QuantumCircuit(2)\n",
        "bell.h(0)\n",
        "bell.cx(0,1)\n",
        "belLOp = Operator(bell)\n",
        "\n",
        "#Using the operator in the circuit (using the append)\n",
        "qc2 = QuantumCircuit(6)\n",
        "qc2.append(belLOp, [2,3])\n",
        "qc2.draw()"
      ],
      "metadata": {
        "colab": {
          "base_uri": "https://localhost:8080/",
          "height": 513
        },
        "id": "xbuN4aJ6NKW4",
        "outputId": "6a8eb02f-1231-4f05-c785-2183d841f172"
      },
      "id": "xbuN4aJ6NKW4",
      "execution_count": null,
      "outputs": [
        {
          "output_type": "execute_result",
          "data": {
            "text/plain": [
              "<Figure size 287.496x618.722 with 1 Axes>"
            ],
            "image/png": "[encoded data removed]"
          },
          "metadata": {},
          "execution_count": 20
        }
      ]
    },
    {
      "cell_type": "markdown",
      "source": [
        "### Using Tensor product with operator"
      ],
      "metadata": {
        "id": "ZXv59E_B6wrT"
      },
      "id": "ZXv59E_B6wrT"
    },
    {
      "cell_type": "code",
      "source": [
        "# Using a X operator to have a XX operator\n",
        "import numpy as np\n",
        "from qiskit.quantum_info.operators import Operator\n",
        "\n",
        "XPauli_matrix = np.array([[0, 1],[1, 0]])\n",
        "xop = Operator(XPauli_matrix)\n",
        "xxop = xop.tensor(xop)\n",
        "print(\"XX-Pauli operator:\")\n",
        "xxop.data"
      ],
      "metadata": {
        "colab": {
          "base_uri": "https://localhost:8080/"
        },
        "id": "hzwdtfllKETQ",
        "outputId": "51cb1d28-1ebc-4866-ad65-23b1be5b272e"
      },
      "id": "hzwdtfllKETQ",
      "execution_count": null,
      "outputs": [
        {
          "output_type": "stream",
          "name": "stdout",
          "text": [
            "XX-Pauli operator:\n"
          ]
        },
        {
          "output_type": "execute_result",
          "data": {
            "text/plain": [
              "array([[0.+0.j, 0.+0.j, 0.+0.j, 1.+0.j],\n",
              "       [0.+0.j, 0.+0.j, 1.+0.j, 0.+0.j],\n",
              "       [0.+0.j, 1.+0.j, 0.+0.j, 0.+0.j],\n",
              "       [1.+0.j, 0.+0.j, 0.+0.j, 0.+0.j]])"
            ]
          },
          "metadata": {},
          "execution_count": 6
        }
      ]
    },
    {
      "cell_type": "markdown",
      "source": [
        "### Composing Operators together"
      ],
      "metadata": {
        "id": "6Pa1rihN63Bj"
      },
      "id": "6Pa1rihN63Bj"
    },
    {
      "cell_type": "code",
      "source": [
        "#Composing operators\n",
        "h_matrix=1/np.sqrt(2)*np.array([[1,1],[1,-1]])\n",
        "hop = Operator(h_matrix)\n",
        "print(\"Hadamard operator:\")\n",
        "print(hop.data)\n",
        "print()\n",
        "\n",
        "print(\"Composing two Hadamard gates (returns the Identity)\")\n",
        "iop = hop.compose(hop) #the caller hop goes first and the parameter hop is second on the composition\n",
        "iop"
      ],
      "metadata": {
        "colab": {
          "base_uri": "https://localhost:8080/"
        },
        "id": "qSwLLMHoO3Ux",
        "outputId": "33fea3ac-040c-4074-b4c7-5292f54cfe65"
      },
      "id": "qSwLLMHoO3Ux",
      "execution_count": 8,
      "outputs": [
        {
          "output_type": "stream",
          "name": "stdout",
          "text": [
            "Hadamard operator:\n",
            "[[ 0.70710678+0.j  0.70710678+0.j]\n",
            " [ 0.70710678+0.j -0.70710678+0.j]]\n",
            "\n",
            "Composing two Hadamard gates (returns the Identity)\n"
          ]
        },
        {
          "output_type": "execute_result",
          "data": {
            "text/plain": [
              "Operator([[ 1.00000000e+00+0.j, -2.23711432e-17+0.j],\n",
              "          [-2.23711432e-17+0.j,  1.00000000e+00+0.j]],\n",
              "         input_dims=(2,), output_dims=(2,))"
            ]
          },
          "metadata": {},
          "execution_count": 8
        }
      ]
    },
    {
      "cell_type": "markdown",
      "source": [
        "### Composing operator with a matrix"
      ],
      "metadata": {
        "id": "zHuyWIQr7Ca5"
      },
      "id": "zHuyWIQr7Ca5"
    },
    {
      "cell_type": "code",
      "source": [
        "#Compose can be used directly in a matrix\n",
        "from qiskit.quantum_info.operators import Operator\n",
        "\n",
        "h_matrix=1/np.sqrt(2)*np.array([[1,1],[1,-1]])\n",
        "hop = Operator(h_matrix)\n",
        "\n",
        "print(f\"Operator Hadamard:\\n{hop.data}\")\n",
        "\n",
        "hopcomp = hop.compose(h_matrix)\n",
        "print(f\"\\nComposed operator using matrix:\\n{hopcomp.data}\")"
      ],
      "metadata": {
        "colab": {
          "base_uri": "https://localhost:8080/"
        },
        "id": "g7XxmxfoPe7u",
        "outputId": "6f81b389-ebb2-404f-9d21-904276bb0f0a"
      },
      "id": "g7XxmxfoPe7u",
      "execution_count": null,
      "outputs": [
        {
          "output_type": "stream",
          "name": "stdout",
          "text": [
            "Operator Hadamard:\n",
            "[[ 0.70710678+0.j  0.70710678+0.j]\n",
            " [ 0.70710678+0.j -0.70710678+0.j]]\n",
            "\n",
            "Composed operator using matrix:\n",
            "[[ 1.00000000e+00+0.j -2.23711432e-17+0.j]\n",
            " [-2.23711432e-17+0.j  1.00000000e+00+0.j]]\n"
          ]
        }
      ]
    },
    {
      "cell_type": "code",
      "source": [
        "import qiskit.tools.jupyter\n",
        "%qiskit_version_table"
      ],
      "metadata": {
        "id": "I7kfpWxw42mj",
        "outputId": "1993cf43-2a7a-4950-8fdb-34bf210fd455",
        "colab": {
          "base_uri": "https://localhost:8080/",
          "height": 295
        }
      },
      "id": "I7kfpWxw42mj",
      "execution_count": 2,
      "outputs": [
        {
          "output_type": "display_data",
          "data": {
            "text/plain": [
              "<IPython.core.display.HTML object>"
            ],
            "text/html": [
              "<h3>Version Information</h3><table><tr><th>Software</th><th>Version</th></tr><tr><td><code>qiskit</code></td><td>0.44.1</td></tr><tr><td><code>qiskit-terra</code></td><td>0.25.1</td></tr><tr><th colspan='2'>System information</th></tr><tr><td>Python version</td><td>3.10.12</td></tr><tr><td>Python compiler</td><td>GCC 11.4.0</td></tr><tr><td>Python build</td><td>main, Jun 11 2023 05:26:28</td></tr><tr><td>OS</td><td>Linux</td></tr><tr><td>CPUs</td><td>1</td></tr><tr><td>Memory (Gb)</td><td>12.678386688232422</td></tr><tr><td colspan='2'>Sun Aug 20 12:21:08 2023 UTC</td></tr></table>"
            ]
          },
          "metadata": {}
        }
      ]
    }
  ],
  "metadata": {
    "kernelspec": {
      "display_name": "Python 3 (ipykernel)",
      "language": "python",
      "name": "python3"
    },
    "language_info": {
      "codemirror_mode": {
        "name": "ipython",
        "version": 3
      },
      "file_extension": ".py",
      "mimetype": "text/x-python",
      "name": "python",
      "nbconvert_exporter": "python",
      "pygments_lexer": "ipython3",
      "version": "3.9.17"
    },
    "colab": {
      "provenance": [],
      "toc_visible": true,
      "include_colab_link": true
    }
  },
  "nbformat": 4,
  "nbformat_minor": 5
}