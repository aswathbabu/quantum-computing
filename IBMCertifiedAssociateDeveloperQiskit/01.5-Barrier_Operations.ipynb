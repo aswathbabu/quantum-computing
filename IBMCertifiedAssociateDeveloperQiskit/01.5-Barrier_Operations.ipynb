{
  "cells": [
    {
      "cell_type": "markdown",
      "metadata": {
        "id": "view-in-github",
        "colab_type": "text"
      },
      "source": [
        "<a href=\"https://colab.research.google.com/github/mrromaniuc/quantum-computing/blob/main/IBMCertifiedAssociateDeveloperQiskit/1.5-Barrier_Operations.ipynb\" target=\"_parent\"><img src=\"https://colab.research.google.com/assets/colab-badge.svg\" alt=\"Open In Colab\"/></a>"
      ]
    },
    {
      "cell_type": "code",
      "source": [
        "%%capture\n",
        "!pip install qiskit\n",
        "!pip install qiskit-aer\n",
        "!pip install qiskit[visualization]\n",
        "!pip install imgaug==0.2.5\n",
        "!pip install pylatexenc"
      ],
      "metadata": {
        "id": "DFk2UDX60Iv9"
      },
      "id": "DFk2UDX60Iv9",
      "execution_count": null,
      "outputs": []
    },
    {
      "cell_type": "markdown",
      "source": [
        "References:\n",
        "\n",
        "\n",
        "* https://www.youtube.com/watch?v=tS2CMOyWFMQ\n",
        "* https://www.youtube.com/watch?v=CdoCPz6TC9k\n",
        "* https://qiskit.org/documentation/stubs/qiskit.circuit.library.Barrier.html\n",
        "\n",
        "\n"
      ],
      "metadata": {
        "id": "AdjmgkN12xB8"
      },
      "id": "AdjmgkN12xB8"
    },
    {
      "cell_type": "code",
      "source": [
        "#Setting configuration to use matplotlib in drawings\n",
        "!mkdir ~/.qiskit\n",
        "!echo \"[default]\" > ~/.qiskit/settings.conf\n",
        "!echo \"circuit_drawer = mpl\" >> ~/.qiskit/settings.conf\n",
        "!more ~/.qiskit/settings.conf"
      ],
      "metadata": {
        "colab": {
          "base_uri": "https://localhost:8080/"
        },
        "id": "s8qRcB1E1J-b",
        "outputId": "7e958e41-b18a-4eea-800e-7146bc65d2dc"
      },
      "id": "s8qRcB1E1J-b",
      "execution_count": 16,
      "outputs": [
        {
          "output_type": "stream",
          "name": "stdout",
          "text": [
            "mkdir: cannot create directory ‘/root/.qiskit’: File exists\n",
            "[default]\n",
            "circuit_drawer = mpl\n"
          ]
        }
      ]
    },
    {
      "cell_type": "markdown",
      "source": [
        "## Barrier Operation\n",
        "Barrier is a instruction for the transpiler. It says to the transpiler to stop optimizing gates. Optimizations between barriers are still optimized"
      ],
      "metadata": {
        "id": "Ck0zb-oFy5uX"
      },
      "id": "Ck0zb-oFy5uX"
    },
    {
      "cell_type": "code",
      "source": [
        "#Example where barrier is not used. Transpilation optimizes the circuit, removing the 2 unecessary operations\n",
        "from qiskit import QuantumCircuit, transpile, Aer\n",
        "\n",
        "qc = QuantumCircuit(1)\n",
        "qc.s(0)\n",
        "qc.sdg(0)\n",
        "\n",
        "display(qc.draw())\n",
        "\n",
        "be = Aer.get_backend(\"qasm_simulator\")\n",
        "qc_trans = transpile(qc, be)\n",
        "display(qc_trans.draw())"
      ],
      "metadata": {
        "colab": {
          "base_uri": "https://localhost:8080/",
          "height": 237
        },
        "id": "4RrM_Be6Z4Fq",
        "outputId": "544cf33a-a719-400d-dae4-e8f614178d18"
      },
      "execution_count": 18,
      "outputs": [
        {
          "output_type": "display_data",
          "data": {
            "text/plain": [
              "<Figure size 269.064x117.056 with 1 Axes>"
            ],
            "image/png": "[encoded data removed]"
          },
          "metadata": {}
        },
        {
          "output_type": "display_data",
          "data": {
            "text/plain": [
              "<Figure size 143.647x117.056 with 1 Axes>"
            ],
            "image/png": "[encoded data removed]"
          },
          "metadata": {}
        }
      ],
      "id": "4RrM_Be6Z4Fq"
    },
    {
      "cell_type": "code",
      "source": [
        "#Example where barrier is used. Note transpilation does NOT remove the gates, even when they are unecessary\n",
        "from qiskit import QuantumCircuit, transpile, Aer\n",
        "\n",
        "qc = QuantumCircuit(1)\n",
        "qc.s(0)\n",
        "qc.barrier()\n",
        "qc.sdg(0)\n",
        "\n",
        "display(qc.draw())\n",
        "\n",
        "be = Aer.get_backend(\"qasm_simulator\")\n",
        "qc_trans = transpile(qc, be)\n",
        "display(qc_trans.draw())"
      ],
      "metadata": {
        "colab": {
          "base_uri": "https://localhost:8080/",
          "height": 237
        },
        "id": "4sefAcOP5dJp",
        "outputId": "9fde81e0-e964-4b0e-d5b2-e221671a9814"
      },
      "id": "4sefAcOP5dJp",
      "execution_count": 19,
      "outputs": [
        {
          "output_type": "display_data",
          "data": {
            "text/plain": [
              "<Figure size 352.675x117.056 with 1 Axes>"
            ],
            "image/png": "[encoded data removed]"
          },
          "metadata": {}
        },
        {
          "output_type": "display_data",
          "data": {
            "text/plain": [
              "<Figure size 352.675x117.056 with 1 Axes>"
            ],
            "image/png": "[encoded data removed]"
          },
          "metadata": {}
        }
      ]
    },
    {
      "cell_type": "code",
      "source": [
        "#One can choose which qubits are affected by the barrier, like in the example below... Note the Hadamard gates were removed, as their qubit is not part of the barrier\n",
        "from qiskit import QuantumCircuit, transpile, Aer\n",
        "\n",
        "qc = QuantumCircuit(2)\n",
        "qc.s(0)\n",
        "qc.h(1)\n",
        "qc.barrier(0)\n",
        "qc.sdg(0)\n",
        "\n",
        "qc.h(1)\n",
        "\n",
        "display(qc.draw())\n",
        "\n",
        "be = Aer.get_backend(\"qasm_simulator\")\n",
        "qc_trans = transpile(qc, be)\n",
        "display(qc_trans.draw())"
      ],
      "metadata": {
        "colab": {
          "base_uri": "https://localhost:8080/",
          "height": 365
        },
        "id": "vIrXsnAG5miP",
        "outputId": "a361612f-8ea7-478f-b9fd-18a2800b9082"
      },
      "id": "vIrXsnAG5miP",
      "execution_count": 22,
      "outputs": [
        {
          "output_type": "display_data",
          "data": {
            "text/plain": [
              "<Figure size 370.906x200.667 with 1 Axes>"
            ],
            "image/png": "[encoded data removed]"
          },
          "metadata": {}
        },
        {
          "output_type": "display_data",
          "data": {
            "text/plain": [
              "<Figure size 370.906x200.667 with 1 Axes>"
            ],
            "image/png": "[encoded data removed]"
          },
          "metadata": {}
        }
      ]
    }
  ],
  "metadata": {
    "kernelspec": {
      "display_name": "Python 3 (ipykernel)",
      "language": "python",
      "name": "python3"
    },
    "language_info": {
      "codemirror_mode": {
        "name": "ipython",
        "version": 3
      },
      "file_extension": ".py",
      "mimetype": "text/x-python",
      "name": "python",
      "nbconvert_exporter": "python",
      "pygments_lexer": "ipython3",
      "version": "3.9.17"
    },
    "colab": {
      "provenance": [],
      "include_colab_link": true
    }
  },
  "nbformat": 4,
  "nbformat_minor": 5
}
