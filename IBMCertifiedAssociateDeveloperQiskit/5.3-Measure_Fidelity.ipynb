{
  "cells": [
    {
      "cell_type": "markdown",
      "metadata": {
        "id": "view-in-github",
        "colab_type": "text"
      },
      "source": [
        "<a href=\"https://colab.research.google.com/github/mrromaniuc/quantum-computing/blob/main/IBMCertifiedAssociateDeveloperQiskit/5.3-Measure_Fidelity.ipynb\" target=\"_parent\"><img src=\"https://colab.research.google.com/assets/colab-badge.svg\" alt=\"Open In Colab\"/></a>"
      ]
    },
    {
      "cell_type": "code",
      "source": [
        "%%capture\n",
        "!pip install qiskit\n",
        "!pip install qiskit-aer\n",
        "!pip install qiskit-visualization\n",
        "!pip install qiskit-ibm-provider\n",
        "!pip install imgaug==0.2.5\n",
        "!pip install pylatexenc"
      ],
      "metadata": {
        "id": "DFk2UDX60Iv9"
      },
      "id": "DFk2UDX60Iv9",
      "execution_count": 1,
      "outputs": []
    },
    {
      "cell_type": "markdown",
      "source": [
        "References:\n",
        "* https://qiskit.org/documentation/tutorials/circuits_advanced/02_operators_overview.html\n",
        "* https://youtu.be/KCPuw7UDNag\n",
        "*\n"
      ],
      "metadata": {
        "id": "AdjmgkN12xB8"
      },
      "id": "AdjmgkN12xB8"
    },
    {
      "cell_type": "code",
      "source": [
        "#Setting configuration to use matplotlib in drawings\n",
        "!mkdir ~/.qiskit\n",
        "!echo \"[default]\" > ~/.qiskit/settings.conf\n",
        "!echo \"circuit_drawer = mpl\" >> ~/.qiskit/settings.conf\n",
        "!more ~/.qiskit/settings.conf\n",
        "\n",
        "\n",
        "#\n",
        "# Loading IBM credentials\n",
        "#\n",
        "API_TOKEN_DIR=\"/content/drive/'My Drive'/'Colab Notebooks'/QC\"\n",
        "API_TOKEN_FILE=\"MY_API_TOKEN.txt\"\n",
        "\n",
        "#Mount the google drive first\n",
        "from google.colab import drive\n",
        "drive.mount('/content/drive')\n",
        "#%cd /content/drive/'My Drive'/'Colab Notebooks'/QC\n",
        "%cd $API_TOKEN_DIR\n",
        "\n",
        "#Read the MY_API_TOKEN from file...\n",
        "from qiskit_ibm_provider import IBMProvider\n",
        "MY_API_TOKEN = \"\"\n",
        "with open(API_TOKEN_FILE) as f:\n",
        "  MY_API_TOKEN=f.readline()\n",
        "IBMProvider.save_account(MY_API_TOKEN, overwrite=True)"
      ],
      "metadata": {
        "colab": {
          "base_uri": "https://localhost:8080/"
        },
        "id": "s8qRcB1E1J-b",
        "outputId": "4454e2ff-da55-48b0-9c2d-cee98d234e04"
      },
      "id": "s8qRcB1E1J-b",
      "execution_count": null,
      "outputs": [
        {
          "output_type": "stream",
          "name": "stdout",
          "text": [
            "[default]\n",
            "circuit_drawer = mpl\n",
            "Mounted at /content/drive\n",
            "/content/drive/My Drive/Colab Notebooks/QC\n"
          ]
        }
      ]
    },
    {
      "cell_type": "markdown",
      "source": [
        "## Measure Fidelity - Process Fidelity\n",
        "This is a way to measure how close two quantum channels are to each other\n",
        "\n",
        "It does NOT depend on global phases"
      ],
      "metadata": {
        "id": "Ck0zb-oFy5uX"
      },
      "id": "Ck0zb-oFy5uX"
    },
    {
      "cell_type": "code",
      "source": [
        "#Note that using the comparison, two Operators are not the same if they differ\n",
        "#by global phase\n",
        "\n",
        "import numpy as np\n",
        "from qiskit.quantum_info.operators import Operator\n",
        "\n",
        "id_matrix = np.array([[1,0],[0,1]])\n",
        "op1 = Operator(id_matrix)\n",
        "print(f\"Operator 1:\\n{op1}\")\n",
        "\n",
        "op2 = -1j*op1\n",
        "print(f\"\\nOperator 2:\\n{op2}\")\n",
        "\n",
        "print(f\"\\nIs operator 1 same as 2: {op1 == op2}\")"
      ],
      "metadata": {
        "colab": {
          "base_uri": "https://localhost:8080/"
        },
        "id": "1G146XQVRFNX",
        "outputId": "462c6e47-8dcb-404f-a71f-540bde38c02c"
      },
      "id": "1G146XQVRFNX",
      "execution_count": 3,
      "outputs": [
        {
          "output_type": "stream",
          "name": "stdout",
          "text": [
            "Operator 1:\n",
            "Operator([[1.+0.j, 0.+0.j],\n",
            "          [0.+0.j, 1.+0.j]],\n",
            "         input_dims=(2,), output_dims=(2,))\n",
            "\n",
            "Operator 2:\n",
            "Operator([[0.-1.j, 0.-0.j],\n",
            "          [0.-0.j, 0.-1.j]],\n",
            "         input_dims=(2,), output_dims=(2,))\n",
            "\n",
            "Is operator 1 same as 2: False\n"
          ]
        }
      ]
    },
    {
      "cell_type": "code",
      "source": [
        "#using process fidelity, the operators are considered the same if they differ\n",
        "#only by a global phase\n",
        "\n",
        "import numpy as np\n",
        "from qiskit.quantum_info import process_fidelity\n",
        "from qiskit.quantum_info.operators import Operator\n",
        "\n",
        "xpauli_matrix= np.array([[0,1],[1,0]])\n",
        "op1 = Operator(xpauli_matrix)\n",
        "print(f\"Operator 1:\\n{op1}\")\n",
        "\n",
        "op2 = np.exp(1j*0.5)*op1\n",
        "print(f\"\\nOperator 2:\\n{op2}\")\n",
        "\n",
        "print(f\"\\nProcess fidelity = {process_fidelity(op1, op2)}\")"
      ],
      "metadata": {
        "id": "yZ0eG3rQToyB",
        "outputId": "b4e64cf5-7437-4acd-cdb7-bb3cc0f3694f",
        "colab": {
          "base_uri": "https://localhost:8080/"
        }
      },
      "id": "yZ0eG3rQToyB",
      "execution_count": 5,
      "outputs": [
        {
          "output_type": "stream",
          "name": "stdout",
          "text": [
            "Operator 1:\n",
            "Operator([[0.+0.j, 1.+0.j],\n",
            "          [1.+0.j, 0.+0.j]],\n",
            "         input_dims=(2,), output_dims=(2,))\n",
            "\n",
            "Operator 2:\n",
            "Operator([[0.        +0.j        , 0.87758256+0.47942554j],\n",
            "          [0.87758256+0.47942554j, 0.        +0.j        ]],\n",
            "         input_dims=(2,), output_dims=(2,))\n",
            "Process fidelity = 1.0\n"
          ]
        }
      ]
    }
  ],
  "metadata": {
    "kernelspec": {
      "display_name": "Python 3 (ipykernel)",
      "language": "python",
      "name": "python3"
    },
    "language_info": {
      "codemirror_mode": {
        "name": "ipython",
        "version": 3
      },
      "file_extension": ".py",
      "mimetype": "text/x-python",
      "name": "python",
      "nbconvert_exporter": "python",
      "pygments_lexer": "ipython3",
      "version": "3.9.17"
    },
    "colab": {
      "provenance": [],
      "include_colab_link": true
    }
  },
  "nbformat": 4,
  "nbformat_minor": 5
}