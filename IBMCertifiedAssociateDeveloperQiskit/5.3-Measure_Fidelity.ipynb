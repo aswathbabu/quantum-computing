{
  "cells": [
    {
      "cell_type": "markdown",
      "metadata": {
        "id": "view-in-github",
        "colab_type": "text"
      },
      "source": [
        "<a href=\"https://colab.research.google.com/github/mrromaniuc/quantum-computing/blob/main/IBMCertifiedAssociateDeveloperQiskit/5.3-Measure_Fidelity.ipynb\" target=\"_parent\"><img src=\"https://colab.research.google.com/assets/colab-badge.svg\" alt=\"Open In Colab\"/></a>"
      ]
    },
    {
      "cell_type": "code",
      "source": [
        "%%capture\n",
        "!pip install qiskit\n",
        "!pip install qiskit-aer\n",
        "!pip install qiskit-visualization\n",
        "!pip install qiskit-ibm-provider\n",
        "!pip install imgaug==0.2.5\n",
        "!pip install pylatexenc"
      ],
      "metadata": {
        "id": "DFk2UDX60Iv9"
      },
      "id": "DFk2UDX60Iv9",
      "execution_count": 1,
      "outputs": []
    },
    {
      "cell_type": "markdown",
      "source": [
        "References:\n",
        "* https://qiskit.org/documentation/tutorials/circuits_advanced/02_operators_overview.html\n",
        "* https://qiskit.org/documentation/stubs/qiskit.quantum_info.Operator.html\n"
      ],
      "metadata": {
        "id": "AdjmgkN12xB8"
      },
      "id": "AdjmgkN12xB8"
    },
    {
      "cell_type": "code",
      "source": [
        "#Setting configuration to use matplotlib in drawings\n",
        "!mkdir ~/.qiskit\n",
        "!echo \"[default]\" > ~/.qiskit/settings.conf\n",
        "!echo \"circuit_drawer = mpl\" >> ~/.qiskit/settings.conf\n",
        "!more ~/.qiskit/settings.conf\n",
        "\n",
        "\n",
        "#\n",
        "# Loading IBM credentials\n",
        "#\n",
        "API_TOKEN_DIR=\"/content/drive/'My Drive'/'Colab Notebooks'/QC\"\n",
        "API_TOKEN_FILE=\"MY_API_TOKEN.txt\"\n",
        "\n",
        "#Mount the google drive first\n",
        "from google.colab import drive\n",
        "drive.mount('/content/drive')\n",
        "#%cd /content/drive/'My Drive'/'Colab Notebooks'/QC\n",
        "%cd $API_TOKEN_DIR\n",
        "\n",
        "#Read the MY_API_TOKEN from file...\n",
        "from qiskit_ibm_provider import IBMProvider\n",
        "MY_API_TOKEN = \"\"\n",
        "with open(API_TOKEN_FILE) as f:\n",
        "  MY_API_TOKEN=f.readline()\n",
        "IBMProvider.save_account(MY_API_TOKEN, overwrite=True)"
      ],
      "metadata": {
        "colab": {
          "base_uri": "https://localhost:8080/"
        },
        "id": "s8qRcB1E1J-b",
        "outputId": "4454e2ff-da55-48b0-9c2d-cee98d234e04"
      },
      "id": "s8qRcB1E1J-b",
      "execution_count": 2,
      "outputs": [
        {
          "output_type": "stream",
          "name": "stdout",
          "text": [
            "[default]\n",
            "circuit_drawer = mpl\n",
            "Mounted at /content/drive\n",
            "/content/drive/My Drive/Colab Notebooks/QC\n"
          ]
        }
      ]
    },
    {
      "cell_type": "markdown",
      "source": [
        "## Use Operators\n",
        "Operator class is used in qiskit to represent matrix operations acting on a quantum system\n",
        "\n",
        "It has several methods to compose and and build new operators\n"
      ],
      "metadata": {
        "id": "Ck0zb-oFy5uX"
      },
      "id": "Ck0zb-oFy5uX"
    },
    {
      "cell_type": "code",
      "source": [
        "#Using a matrix to create the Operator\n",
        "import numpy as np\n",
        "from qiskit.quantum_info.operators import Operator\n",
        "\n",
        "XPauli_matrix = np.array([[0,1],[1,0]])\n",
        "xop = Operator(XPauli_matrix)\n",
        "\n",
        "print(\"XPauli operator:\")\n",
        "xop.data"
      ],
      "metadata": {
        "colab": {
          "base_uri": "https://localhost:8080/"
        },
        "id": "eFaclbe8JoC9",
        "outputId": "973a28e0-5fa4-4d78-d766-0295eedfa7a7"
      },
      "id": "eFaclbe8JoC9",
      "execution_count": 5,
      "outputs": [
        {
          "output_type": "stream",
          "name": "stdout",
          "text": [
            "XPauli operator:\n"
          ]
        },
        {
          "output_type": "execute_result",
          "data": {
            "text/plain": [
              "array([[0.+0.j, 1.+0.j],\n",
              "       [1.+0.j, 0.+0.j]])"
            ]
          },
          "metadata": {},
          "execution_count": 5
        }
      ]
    },
    {
      "cell_type": "code",
      "source": [
        "#Using a Pauli object to initialize the Operator\n",
        "from qiskit.quantum_info.operators import Operator, Pauli\n",
        "\n",
        "op = Operator(Pauli('X'))\n",
        "op.data"
      ],
      "metadata": {
        "colab": {
          "base_uri": "https://localhost:8080/"
        },
        "id": "DiJy7T-LLTjL",
        "outputId": "5cb33c7e-8d69-4579-96b7-6964a208c8f6"
      },
      "id": "DiJy7T-LLTjL",
      "execution_count": 7,
      "outputs": [
        {
          "output_type": "execute_result",
          "data": {
            "text/plain": [
              "array([[0.+0.j, 1.+0.j],\n",
              "       [1.+0.j, 0.+0.j]])"
            ]
          },
          "metadata": {},
          "execution_count": 7
        }
      ]
    },
    {
      "cell_type": "code",
      "source": [
        "#Using a gate to initialize the Operator\n",
        "from qiskit.quantum_info.operators import Operator\n",
        "from qiskit.extensions import RXGate\n",
        "\n",
        "xop = Operator(RXGate(np.pi))\n",
        "xop.data"
      ],
      "metadata": {
        "colab": {
          "base_uri": "https://localhost:8080/"
        },
        "id": "25B4FcWOLqjf",
        "outputId": "5de2181b-f7de-439c-b196-fd10111b4b5a"
      },
      "id": "25B4FcWOLqjf",
      "execution_count": 12,
      "outputs": [
        {
          "output_type": "execute_result",
          "data": {
            "text/plain": [
              "array([[6.123234e-17+0.j, 0.000000e+00-1.j],\n",
              "       [0.000000e+00-1.j, 6.123234e-17+0.j]])"
            ]
          },
          "metadata": {},
          "execution_count": 12
        }
      ]
    },
    {
      "cell_type": "code",
      "source": [
        "#Using a QuantumCircuit to initialize the Operator\n",
        "from qiskit import QuantumCircuit\n",
        "from qiskit.quantum_info import Operator, Statevector\n",
        "\n",
        "qc = QuantumCircuit(2)\n",
        "qc.h(0)\n",
        "qc.cx(0,1)\n",
        "sv = Statevector.from_instruction(qc)\n",
        "\n",
        "opBell = Operator(sv)\n",
        "\n",
        "print(f\"Operator is unitary: {opBell.is_unitary()}\")\n",
        "print(f\"Operador is equivalent to the statevector: {opBell.equiv(sv)}\")"
      ],
      "metadata": {
        "id": "N85Axz4Y2OKX",
        "outputId": "18e0aa4c-12f7-48a8-d4a1-2b08274c9d11",
        "colab": {
          "base_uri": "https://localhost:8080/"
        }
      },
      "id": "N85Axz4Y2OKX",
      "execution_count": 15,
      "outputs": [
        {
          "output_type": "stream",
          "name": "stdout",
          "text": [
            "Operator is unitary: False\n",
            "Operador is equivalent to the statevector: True\n"
          ]
        }
      ]
    },
    {
      "cell_type": "code",
      "source": [
        "#Using Operator in a circuit\n",
        "from qiskit import QuantumCircuit\n",
        "from qiskit.quantum_info.operators import Operator\n",
        "from qiskit.quantum_info import Statevector\n",
        "\n",
        "#Build the Operator\n",
        "bell = QuantumCircuit(2)\n",
        "bell.h(0)\n",
        "bell.cx(0,1)\n",
        "belLOp = Operator(bell)\n",
        "\n",
        "#Using the operator in the circuit (using the append)\n",
        "qc2 = QuantumCircuit(6)\n",
        "qc2.append(belLOp, [2,3])\n",
        "qc2.draw()"
      ],
      "metadata": {
        "colab": {
          "base_uri": "https://localhost:8080/",
          "height": 513
        },
        "id": "xbuN4aJ6NKW4",
        "outputId": "6a8eb02f-1231-4f05-c785-2183d841f172"
      },
      "id": "xbuN4aJ6NKW4",
      "execution_count": 20,
      "outputs": [
        {
          "output_type": "execute_result",
          "data": {
            "text/plain": [
              "<Figure size 287.496x618.722 with 1 Axes>"
            ],
            "image/png": "[encoded data removed]"
          },
          "metadata": {},
          "execution_count": 20
        }
      ]
    },
    {
      "cell_type": "code",
      "source": [
        "# Using a X operator to have a XX operator\n",
        "import numpy as np\n",
        "from qiskit.quantum_info.operators import Operator\n",
        "\n",
        "XPauli_matrix = np.array([[0, 1],[1, 0]])\n",
        "xop = Operator(XPauli_matrix)\n",
        "xxop = xop.tensor(xop)\n",
        "print(\"XX-Pauli operator:\")\n",
        "xxop.data"
      ],
      "metadata": {
        "colab": {
          "base_uri": "https://localhost:8080/"
        },
        "id": "hzwdtfllKETQ",
        "outputId": "51cb1d28-1ebc-4866-ad65-23b1be5b272e"
      },
      "id": "hzwdtfllKETQ",
      "execution_count": 6,
      "outputs": [
        {
          "output_type": "stream",
          "name": "stdout",
          "text": [
            "XX-Pauli operator:\n"
          ]
        },
        {
          "output_type": "execute_result",
          "data": {
            "text/plain": [
              "array([[0.+0.j, 0.+0.j, 0.+0.j, 1.+0.j],\n",
              "       [0.+0.j, 0.+0.j, 1.+0.j, 0.+0.j],\n",
              "       [0.+0.j, 1.+0.j, 0.+0.j, 0.+0.j],\n",
              "       [1.+0.j, 0.+0.j, 0.+0.j, 0.+0.j]])"
            ]
          },
          "metadata": {},
          "execution_count": 6
        }
      ]
    },
    {
      "cell_type": "code",
      "source": [
        "#Composing operators\n",
        "h_matrix=1/np.sqrt(2)*np.array([[1,1],[1,-1]])\n",
        "hop = Operator(h_matrix)\n",
        "print(\"Hadamard opearator:\")\n",
        "print(hop.data)\n",
        "print()\n",
        "\n",
        "print(\"Composing two Hadamard gates (returns the Identity)\")\n",
        "iop = hop.compose(hop) #the caller hop goes first and the parameter hop is second on the composition\n",
        "iop"
      ],
      "metadata": {
        "colab": {
          "base_uri": "https://localhost:8080/"
        },
        "id": "qSwLLMHoO3Ux",
        "outputId": "9697d28d-ae96-463b-d5fb-f0684d479ff0"
      },
      "id": "qSwLLMHoO3Ux",
      "execution_count": 25,
      "outputs": [
        {
          "output_type": "stream",
          "name": "stdout",
          "text": [
            "Hadamard opearator:\n",
            "[[ 0.70710678+0.j  0.70710678+0.j]\n",
            " [ 0.70710678+0.j -0.70710678+0.j]]\n",
            "\n",
            "Composing two Hadamard gates (returns the Identity)\n"
          ]
        },
        {
          "output_type": "execute_result",
          "data": {
            "text/plain": [
              "Operator([[ 1.00000000e+00+0.j, -2.23711432e-17+0.j],\n",
              "          [-2.23711432e-17+0.j,  1.00000000e+00+0.j]],\n",
              "         input_dims=(2,), output_dims=(2,))"
            ]
          },
          "metadata": {},
          "execution_count": 25
        }
      ]
    },
    {
      "cell_type": "code",
      "source": [
        "#Compose can be used directly in a matrix\n",
        "from qiskit.quantum_info.operators import Operator\n",
        "\n",
        "h_matrix=1/np.sqrt(2)*np.array([[1,1],[1,-1]])\n",
        "hop = Operator(h_matrix)\n",
        "\n",
        "print(f\"Operator Hadamard:\\n{hop.data}\")\n",
        "\n",
        "hopcomp = hop.compose(h_matrix)\n",
        "print(f\"\\nComposed operator using matrix:\\n{hopcomp.data}\")"
      ],
      "metadata": {
        "colab": {
          "base_uri": "https://localhost:8080/"
        },
        "id": "g7XxmxfoPe7u",
        "outputId": "6f81b389-ebb2-404f-9d21-904276bb0f0a"
      },
      "id": "g7XxmxfoPe7u",
      "execution_count": 30,
      "outputs": [
        {
          "output_type": "stream",
          "name": "stdout",
          "text": [
            "Operator Hadamard:\n",
            "[[ 0.70710678+0.j  0.70710678+0.j]\n",
            " [ 0.70710678+0.j -0.70710678+0.j]]\n",
            "\n",
            "Composed operator using matrix:\n",
            "[[ 1.00000000e+00+0.j -2.23711432e-17+0.j]\n",
            " [-2.23711432e-17+0.j  1.00000000e+00+0.j]]\n"
          ]
        }
      ]
    },
    {
      "cell_type": "code",
      "source": [
        "#Comparison - two operators that differ by a global phase are NOT considered equal\n",
        "import numpy as np\n",
        "from qiskit.quantum_info.operators import Operator\n",
        "\n",
        "id_matrix = np.array([[1,0],[0,1]])\n",
        "op1 = Operator(id_matrix)\n",
        "print(f\"Operator 1:\\n{op1}\")\n",
        "\n",
        "op2 = -1j*op1\n",
        "print(f\"\\nOperator 2:\\n{op2}\")\n",
        "\n",
        "print(f\"\\nIs operator 1 same as 2: {op1 == op2}\")"
      ],
      "metadata": {
        "colab": {
          "base_uri": "https://localhost:8080/"
        },
        "id": "1G146XQVRFNX",
        "outputId": "f95f1ea8-dc85-4cef-a107-412c3112afeb"
      },
      "id": "1G146XQVRFNX",
      "execution_count": 35,
      "outputs": [
        {
          "output_type": "stream",
          "name": "stdout",
          "text": [
            "Operator 1:\n",
            "Operator([[1.+0.j, 0.+0.j],\n",
            "          [0.+0.j, 1.+0.j]],\n",
            "         input_dims=(2,), output_dims=(2,))\n",
            "\n",
            "Operator 2:\n",
            "Operator([[0.-1.j, 0.-0.j],\n",
            "          [0.-0.j, 0.-1.j]],\n",
            "         input_dims=(2,), output_dims=(2,))\n",
            "\n",
            "Is operator 1 same as 2: False\n"
          ]
        }
      ]
    }
  ],
  "metadata": {
    "kernelspec": {
      "display_name": "Python 3 (ipykernel)",
      "language": "python",
      "name": "python3"
    },
    "language_info": {
      "codemirror_mode": {
        "name": "ipython",
        "version": 3
      },
      "file_extension": ".py",
      "mimetype": "text/x-python",
      "name": "python",
      "nbconvert_exporter": "python",
      "pygments_lexer": "ipython3",
      "version": "3.9.17"
    },
    "colab": {
      "provenance": [],
      "include_colab_link": true
    }
  },
  "nbformat": 4,
  "nbformat_minor": 5
}