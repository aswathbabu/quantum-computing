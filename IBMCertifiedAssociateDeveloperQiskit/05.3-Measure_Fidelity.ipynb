{
  "cells": [
    {
      "cell_type": "markdown",
      "metadata": {
        "id": "view-in-github",
        "colab_type": "text"
      },
      "source": [
        "<a href=\"https://colab.research.google.com/github/mrromaniuc/quantum-computing/blob/main/IBMCertifiedAssociateDeveloperQiskit/05.3-Measure_Fidelity.ipynb\" target=\"_parent\"><img src=\"https://colab.research.google.com/assets/colab-badge.svg\" alt=\"Open In Colab\"/></a>"
      ]
    },
    {
      "cell_type": "code",
      "source": [
        "%%capture\n",
        "!pip install qiskit\n",
        "!pip install qiskit-aer\n",
        "!pip install qiskit-visualization\n",
        "!pip install qiskit-ibm-provider\n",
        "!pip install qiskit-experiments\n",
        "!pip install imgaug==0.2.5\n",
        "!pip install pylatexenc"
      ],
      "metadata": {
        "id": "DFk2UDX60Iv9"
      },
      "id": "DFk2UDX60Iv9",
      "execution_count": 1,
      "outputs": []
    },
    {
      "cell_type": "code",
      "source": [
        "#Setting configuration to use matplotlib in drawings\n",
        "!mkdir ~/.qiskit\n",
        "!echo \"[default]\" > ~/.qiskit/settings.conf\n",
        "!echo \"circuit_drawer = mpl\" >> ~/.qiskit/settings.conf\n",
        "!more ~/.qiskit/settings.conf\n",
        "\n",
        "\n",
        "#\n",
        "# Loading IBM credentials\n",
        "#\n",
        "API_TOKEN_DIR=\"/content/drive/'My Drive'/'Colab Notebooks'/QC\"\n",
        "API_TOKEN_FILE=\"MY_API_TOKEN.txt\"\n",
        "\n",
        "#Mount the google drive first\n",
        "from google.colab import drive\n",
        "drive.mount('/content/drive')\n",
        "#%cd /content/drive/'My Drive'/'Colab Notebooks'/QC\n",
        "%cd $API_TOKEN_DIR\n",
        "\n",
        "#Read the MY_API_TOKEN from file...\n",
        "from qiskit_ibm_provider import IBMProvider\n",
        "MY_API_TOKEN = \"\"\n",
        "with open(API_TOKEN_FILE) as f:\n",
        "  MY_API_TOKEN=f.readline()\n",
        "IBMProvider.save_account(MY_API_TOKEN, overwrite=True)"
      ],
      "metadata": {
        "colab": {
          "base_uri": "https://localhost:8080/"
        },
        "id": "s8qRcB1E1J-b",
        "outputId": "cfc33d0e-5826-4001-a212-1db1c36805cf"
      },
      "id": "s8qRcB1E1J-b",
      "execution_count": 41,
      "outputs": [
        {
          "output_type": "stream",
          "name": "stdout",
          "text": [
            "mkdir: cannot create directory ‘/root/.qiskit’: File exists\n",
            "[default]\n",
            "circuit_drawer = mpl\n",
            "Mounted at /content/drive\n",
            "/content/drive/My Drive/Colab Notebooks/QC\n"
          ]
        }
      ]
    },
    {
      "cell_type": "markdown",
      "source": [
        "References:\n",
        "\n",
        "process fidelity:\n",
        "* https://qiskit.org/documentation/tutorials/circuits_advanced/02_operators_overview.html\n",
        "\n",
        "gate fidelity:\n",
        "* https://youtu.be/KCPuw7UDNag\n",
        "\n",
        "state fidelity:\n",
        "* https://youtu.be/M2XLly0EOFk\n",
        "* https://qiskit.org/documentation/stubs/qiskit.algorithms.state_fidelities.html\n"
      ],
      "metadata": {
        "id": "AdjmgkN12xB8"
      },
      "id": "AdjmgkN12xB8"
    },
    {
      "cell_type": "markdown",
      "source": [
        "## Measure Fidelity - Process Fidelity\n",
        "This is a way to measure how close two quantum channels are to each other\n",
        "\n",
        "It does NOT depend on global phases"
      ],
      "metadata": {
        "id": "Ck0zb-oFy5uX"
      },
      "id": "Ck0zb-oFy5uX"
    },
    {
      "cell_type": "code",
      "source": [
        "#Note that using the comparison, two Operators are not the same if they differ\n",
        "#by global phase\n",
        "\n",
        "import numpy as np\n",
        "from qiskit.quantum_info.operators import Operator\n",
        "\n",
        "id_matrix = np.array([[1,0],[0,1]])\n",
        "op1 = Operator(id_matrix)\n",
        "print(f\"Operator 1:\\n{op1}\")\n",
        "\n",
        "op2 = -1j*op1\n",
        "print(f\"\\nOperator 2:\\n{op2}\")\n",
        "\n",
        "print(f\"\\nIs operator 1 same as 2: {op1 == op2}\")"
      ],
      "metadata": {
        "colab": {
          "base_uri": "https://localhost:8080/"
        },
        "id": "1G146XQVRFNX",
        "outputId": "462c6e47-8dcb-404f-a71f-540bde38c02c"
      },
      "id": "1G146XQVRFNX",
      "execution_count": null,
      "outputs": [
        {
          "output_type": "stream",
          "name": "stdout",
          "text": [
            "Operator 1:\n",
            "Operator([[1.+0.j, 0.+0.j],\n",
            "          [0.+0.j, 1.+0.j]],\n",
            "         input_dims=(2,), output_dims=(2,))\n",
            "\n",
            "Operator 2:\n",
            "Operator([[0.-1.j, 0.-0.j],\n",
            "          [0.-0.j, 0.-1.j]],\n",
            "         input_dims=(2,), output_dims=(2,))\n",
            "\n",
            "Is operator 1 same as 2: False\n"
          ]
        }
      ]
    },
    {
      "cell_type": "code",
      "source": [
        "#using process fidelity, the operators are considered the same if they differ\n",
        "#only by a global phase\n",
        "\n",
        "import numpy as np\n",
        "from qiskit.quantum_info import process_fidelity\n",
        "from qiskit.quantum_info.operators import Operator\n",
        "\n",
        "xpauli_matrix= np.array([[0,1],[1,0]])\n",
        "op1 = Operator(xpauli_matrix)\n",
        "print(f\"Operator 1:\\n{op1}\")\n",
        "\n",
        "op2 = np.exp(1j*0.5)*op1\n",
        "print(f\"\\nOperator 2:\\n{op2}\")\n",
        "\n",
        "print(f\"\\nProcess fidelity = {process_fidelity(op1, op2)}\")"
      ],
      "metadata": {
        "colab": {
          "base_uri": "https://localhost:8080/"
        },
        "id": "yZ0eG3rQToyB",
        "outputId": "b4e64cf5-7437-4acd-cdb7-bb3cc0f3694f"
      },
      "id": "yZ0eG3rQToyB",
      "execution_count": null,
      "outputs": [
        {
          "output_type": "stream",
          "name": "stdout",
          "text": [
            "Operator 1:\n",
            "Operator([[0.+0.j, 1.+0.j],\n",
            "          [1.+0.j, 0.+0.j]],\n",
            "         input_dims=(2,), output_dims=(2,))\n",
            "\n",
            "Operator 2:\n",
            "Operator([[0.        +0.j        , 0.87758256+0.47942554j],\n",
            "          [0.87758256+0.47942554j, 0.        +0.j        ]],\n",
            "         input_dims=(2,), output_dims=(2,))\n",
            "Process fidelity = 1.0\n"
          ]
        }
      ]
    },
    {
      "cell_type": "markdown",
      "source": [
        "## Measure Fidelity - Gate Fidelity\n",
        "Gate fidelity is a measure of how noisy a gate is compared to the ideal gate"
      ],
      "metadata": {
        "id": "E07et5JGVJEF"
      },
      "id": "E07et5JGVJEF"
    },
    {
      "cell_type": "code",
      "source": [
        "import numpy as np\n",
        "from qiskit import QuantumCircuit, transpile\n",
        "from qiskit.quantum_info.operators import Operator\n",
        "from qiskit.visualization import array_to_latex\n",
        "from qiskit_ibm_provider import IBMProvider\n",
        "from qiskit_experiments.library import ProcessTomography\n",
        "from qiskit.quantum_info import average_gate_fidelity\n",
        "\n",
        "qc = QuantumCircuit(1)\n",
        "qc.h(0)\n",
        "ideal_hop = Operator(qc)\n",
        "\n",
        "display(array_to_latex(ideal_hop))\n",
        "\n",
        "provider = IBMProvider(instance=\"ibm-q/open/main\")\n",
        "backend  = provider.get_backend(\"ibmq_quito\")\n",
        "\n",
        "pt = ProcessTomography(qc, physical_qubits=[2]) #Checks gate fidelity on physical qubit 2 in ibm_quito\n",
        "ptdata = pt.run(backend).block_for_results()\n",
        "noisy_hop = ptdata.analysis_results(\"state\").value\n",
        "display(array_to_latex(noisy_hop))\n",
        "\n",
        "fidelity = average_gate_fidelity(noisy_hop, target=ideal_hop)\n",
        "print(f\"\\n\\nHadamard gate fidelity in ibm_quito = {fidelity}\")"
      ],
      "metadata": {
        "id": "oS-34dLsWAAm",
        "outputId": "c251b134-1e5a-4a57-ed6f-f72859b90a1a",
        "colab": {
          "base_uri": "https://localhost:8080/",
          "height": 202
        }
      },
      "id": "oS-34dLsWAAm",
      "execution_count": null,
      "outputs": [
        {
          "output_type": "display_data",
          "data": {
            "text/plain": [
              "<IPython.core.display.Latex object>"
            ],
            "text/latex": "$$\n\n\\begin{bmatrix}\n\\frac{\\sqrt{2}}{2} & \\frac{\\sqrt{2}}{2}  \\\\\n \\frac{\\sqrt{2}}{2} & - \\frac{\\sqrt{2}}{2}  \\\\\n \\end{bmatrix}\n$$"
          },
          "metadata": {}
        },
        {
          "output_type": "display_data",
          "data": {
            "text/plain": [
              "<IPython.core.display.Latex object>"
            ],
            "text/latex": "$$\n\n\\begin{bmatrix}\n0.50725 & 0.409 - 0.004 i & 0.38775 + 0.0105 i & - \\frac{3087}{8000} - \\frac{7 i}{1600}  \\\\\n 0.409 + 0.004 i & 0.49275 & 0.392875 + 0.000375 i & -0.38775 - 0.0105 i  \\\\\n 0.38775 - 0.0105 i & 0.392875 - 0.000375 i & 0.51075 & -0.377 - 0.02425 i  \\\\\n - \\frac{3087}{8000} + \\frac{7 i}{1600} & -0.38775 + 0.0105 i & -0.377 + 0.02425 i & 0.48925  \\\\\n \\end{bmatrix}\n$$"
          },
          "metadata": {}
        },
        {
          "output_type": "stream",
          "name": "stdout",
          "text": [
            "\n",
            "\n",
            "Hadamard gate fidelity in ibm_quito = 0.8900416666666665\n"
          ]
        }
      ]
    },
    {
      "cell_type": "markdown",
      "source": [
        "## Measure Fidelity - State Fidelity - TO BE REVIEWED - DOES NOT WORK ATM\n",
        "State fidelity is a measure of how noisy the final state of a real circuit is from the ideal final state"
      ],
      "metadata": {
        "id": "6exhYHnbanjD"
      },
      "id": "6exhYHnbanjD"
    },
    {
      "cell_type": "code",
      "source": [
        "from qiskit import QuantumCircuit, Aer\n",
        "from qiskit_aer.noise import NoiseModel, pauli_error\n",
        "from qiskit.quantum_info import state_fidelity, Statevector\n",
        "from qiskit_ibm_provider import IBMProvider\n",
        "\n",
        "\n",
        "\n",
        "qc = QuantumCircuit(2)\n",
        "qc.h(0)\n",
        "qc.cx(0,1)\n",
        "display(qc.draw())\n",
        "\n",
        "provider = IBMProvider(instance=\"ibm-q/open/main\")\n",
        "backend = provider.get_backend(\"ibmq_lima\")\n",
        "noise_model = NoiseModel.from_backend(backend)\n",
        "print(f\"Noise Mode: \\n {noise_model}\")\n",
        "\n",
        "backend = Aer.get_backend(\"statevector_simulator\")\n",
        "\n",
        "job_ideal = backend.run(qc, shots=1)\n",
        "sv_ideal = job_ideal.result().get_statevector(qc)\n",
        "\n",
        "job_noisy = backend.run(qc, shots=1, noise_model=noise_model)\n",
        "sv_noisy = job_noisy.result().get_statevector(qc)\n",
        "\n",
        "print(f\"\\nSv Noisy:\\n{sv_noisy}\")\n",
        "print(f\"\\nSv Ideal:\\n{sv_ideal}\")\n",
        "\n",
        "f = state_fidelity(sv_ideal, sv_noisy)\n",
        "print(f\"State fidelity on noisy simulator for this circuit = {f}\")"
      ],
      "metadata": {
        "id": "4QeD_ikIa5Bp",
        "outputId": "57c7b6db-5244-4250-bcd7-df8d45cde956",
        "colab": {
          "base_uri": "https://localhost:8080/",
          "height": 506
        }
      },
      "id": "4QeD_ikIa5Bp",
      "execution_count": 61,
      "outputs": [
        {
          "output_type": "display_data",
          "data": {
            "text/plain": [
              "<Figure size 287.294x200.667 with 1 Axes>"
            ],
            "image/png": "[encoded data removed]"
          },
          "metadata": {}
        },
        {
          "output_type": "stream",
          "name": "stdout",
          "text": [
            "Noise Mode: \n",
            " NoiseModel:\n",
            "  Basis gates: ['cx', 'delay', 'id', 'measure', 'reset', 'rz', 'sx', 'x']\n",
            "  Instructions with noise: ['sx', 'reset', 'measure', 'x', 'id', 'cx']\n",
            "  Qubits with noise: [0, 1, 2, 3, 4]\n",
            "  Specific qubit errors: [('sx', (0,)), ('sx', (1,)), ('sx', (2,)), ('sx', (3,)), ('sx', (4,)), ('reset', (0,)), ('reset', (1,)), ('reset', (2,)), ('reset', (3,)), ('reset', (4,)), ('x', (0,)), ('x', (1,)), ('x', (2,)), ('x', (3,)), ('x', (4,)), ('id', (0,)), ('id', (1,)), ('id', (2,)), ('id', (3,)), ('id', (4,)), ('cx', (0, 1)), ('cx', (1, 0)), ('cx', (1, 2)), ('cx', (1, 3)), ('cx', (2, 1)), ('cx', (3, 1)), ('cx', (3, 4)), ('cx', (4, 3)), ('measure', (0,)), ('measure', (1,)), ('measure', (2,)), ('measure', (3,)), ('measure', (4,))]\n",
            "\n",
            "Sv Noisy:\n",
            "Statevector([-7.08312527e-01+0.j,  0.00000000e+00+0.j,  1.57009027e-16+0.j,\n",
            "             -7.05898976e-01+0.j],\n",
            "            dims=(2, 2))\n",
            "\n",
            "Sv Ideal:\n",
            "Statevector([0.70710678+0.j, 0.        +0.j, 0.        +0.j,\n",
            "             0.70710678+0.j],\n",
            "            dims=(2, 2))\n",
            "State fidelity on noisy simulator for this circuit = 0.9999970873855023\n"
          ]
        }
      ]
    },
    {
      "cell_type": "code",
      "source": [],
      "metadata": {
        "id": "ce7xCZ-Qd86Y"
      },
      "id": "ce7xCZ-Qd86Y",
      "execution_count": null,
      "outputs": []
    }
  ],
  "metadata": {
    "kernelspec": {
      "display_name": "Python 3 (ipykernel)",
      "language": "python",
      "name": "python3"
    },
    "language_info": {
      "codemirror_mode": {
        "name": "ipython",
        "version": 3
      },
      "file_extension": ".py",
      "mimetype": "text/x-python",
      "name": "python",
      "nbconvert_exporter": "python",
      "pygments_lexer": "ipython3",
      "version": "3.9.17"
    },
    "colab": {
      "provenance": [],
      "include_colab_link": true
    }
  },
  "nbformat": 4,
  "nbformat_minor": 5
}