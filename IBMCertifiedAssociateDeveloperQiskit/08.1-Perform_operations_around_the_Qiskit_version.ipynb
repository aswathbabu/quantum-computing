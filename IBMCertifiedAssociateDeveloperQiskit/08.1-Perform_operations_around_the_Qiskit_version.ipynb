{
  "cells": [
    {
      "cell_type": "markdown",
      "metadata": {
        "id": "view-in-github",
        "colab_type": "text"
      },
      "source": [
        "<a href=\"https://colab.research.google.com/github/mrromaniuc/quantum-computing/blob/main/IBMCertifiedAssociateDeveloperQiskit/08.1-Perform_operations_around_the_Qiskit_version.ipynb\" target=\"_parent\"><img src=\"https://colab.research.google.com/assets/colab-badge.svg\" alt=\"Open In Colab\"/></a>"
      ]
    },
    {
      "cell_type": "code",
      "source": [
        "%%capture\n",
        "!pip install qiskit\n",
        "!pip install qiskit-aer\n",
        "!pip install qiskit-visualization\n",
        "!pip install qiskit-ibm-provider\n",
        "!pip install qiskit-experiments\n",
        "!pip install imgaug==0.2.5\n",
        "!pip install pylatexenc"
      ],
      "metadata": {
        "id": "DFk2UDX60Iv9"
      },
      "id": "DFk2UDX60Iv9",
      "execution_count": 1,
      "outputs": []
    },
    {
      "cell_type": "code",
      "source": [
        "#Setting configuration to use matplotlib in drawings\n",
        "!mkdir ~/.qiskit\n",
        "!echo \"[default]\" > ~/.qiskit/settings.conf\n",
        "!echo \"circuit_drawer = mpl\" >> ~/.qiskit/settings.conf\n",
        "!more ~/.qiskit/settings.conf\n",
        "\n",
        "\n",
        "#\n",
        "# Loading IBM credentials\n",
        "#\n",
        "API_TOKEN_DIR=\"/content/drive/'My Drive'/'Colab Notebooks'/QC\"\n",
        "API_TOKEN_FILE=\"MY_API_TOKEN.txt\"\n",
        "\n",
        "#Mount the google drive first\n",
        "from google.colab import drive\n",
        "drive.mount('/content/drive')\n",
        "#%cd /content/drive/'My Drive'/'Colab Notebooks'/QC\n",
        "%cd $API_TOKEN_DIR\n",
        "\n",
        "#Read the MY_API_TOKEN from file...\n",
        "from qiskit_ibm_provider import IBMProvider\n",
        "MY_API_TOKEN = \"\"\n",
        "with open(API_TOKEN_FILE) as f:\n",
        "  MY_API_TOKEN=f.readline()\n",
        "IBMProvider.save_account(MY_API_TOKEN, overwrite=True)"
      ],
      "metadata": {
        "colab": {
          "base_uri": "https://localhost:8080/"
        },
        "id": "s8qRcB1E1J-b",
        "outputId": "8d22d754-612d-44fc-f191-c302dfa82174"
      },
      "id": "s8qRcB1E1J-b",
      "execution_count": 2,
      "outputs": [
        {
          "output_type": "stream",
          "name": "stdout",
          "text": [
            "[default]\n",
            "circuit_drawer = mpl\n",
            "Mounted at /content/drive\n",
            "/content/drive/My Drive/Colab Notebooks/QC\n"
          ]
        }
      ]
    },
    {
      "cell_type": "markdown",
      "source": [
        "References:\n",
        "* https://youtu.be/L1TPD43UTZM\n",
        "* https://youtu.be/L1TPD43UTZM?list=RDCMUClBNq7mCMf5xm8baE_VMl3A"
      ],
      "metadata": {
        "id": "AdjmgkN12xB8"
      },
      "id": "AdjmgkN12xB8"
    },
    {
      "cell_type": "markdown",
      "source": [
        "## Perform Operations around Qiskit Version\n"
      ],
      "metadata": {
        "id": "Ck0zb-oFy5uX"
      },
      "id": "Ck0zb-oFy5uX"
    },
    {
      "cell_type": "code",
      "source": [
        "import qiskit\n",
        "\n",
        "#print(qiskit.__version__)\n",
        "#print(qiskit.__qiskit_version__)\n",
        "\n",
        "d = qiskit.__qiskit_version__\n",
        "for k in qiskit.__qiskit_version__:\n",
        "  print(f\"comp: {k.ljust(30,' ')}version {d[k]}\")"
      ],
      "metadata": {
        "colab": {
          "base_uri": "https://localhost:8080/"
        },
        "id": "Ke5q4wz_ovtt",
        "outputId": "44497459-ec43-44b9-e827-5214de5b3058"
      },
      "id": "Ke5q4wz_ovtt",
      "execution_count": 19,
      "outputs": [
        {
          "output_type": "stream",
          "name": "stdout",
          "text": [
            "comp: qiskit-terra                  version 0.25.0\n",
            "comp: qiskit                        version 0.44.0\n",
            "comp: qiskit-aer                    version 0.12.2\n",
            "comp: qiskit-ignis                  version None\n",
            "comp: qiskit-ibmq-provider          version None\n",
            "comp: qiskit-nature                 version None\n",
            "comp: qiskit-finance                version None\n",
            "comp: qiskit-optimization           version None\n",
            "comp: qiskit-machine-learning       version None\n"
          ]
        }
      ]
    },
    {
      "cell_type": "code",
      "source": [
        "qiskit.__qiskit_version__"
      ],
      "metadata": {
        "colab": {
          "base_uri": "https://localhost:8080/"
        },
        "id": "BSvepaToKHWB",
        "outputId": "e47c4946-2dc4-474b-84a5-501d70761806"
      },
      "id": "BSvepaToKHWB",
      "execution_count": 8,
      "outputs": [
        {
          "output_type": "execute_result",
          "data": {
            "text/plain": [
              "{'qiskit-terra': '0.25.0', 'qiskit': '0.44.0', 'qiskit-aer': '0.12.2', 'qiskit-ignis': None, 'qiskit-ibmq-provider': None, 'qiskit-nature': None, 'qiskit-finance': None, 'qiskit-optimization': None, 'qiskit-machine-learning': None}"
            ]
          },
          "metadata": {},
          "execution_count": 8
        }
      ]
    }
  ],
  "metadata": {
    "kernelspec": {
      "display_name": "Python 3 (ipykernel)",
      "language": "python",
      "name": "python3"
    },
    "language_info": {
      "codemirror_mode": {
        "name": "ipython",
        "version": 3
      },
      "file_extension": ".py",
      "mimetype": "text/x-python",
      "name": "python",
      "nbconvert_exporter": "python",
      "pygments_lexer": "ipython3",
      "version": "3.9.17"
    },
    "colab": {
      "provenance": [],
      "include_colab_link": true
    }
  },
  "nbformat": 4,
  "nbformat_minor": 5
}