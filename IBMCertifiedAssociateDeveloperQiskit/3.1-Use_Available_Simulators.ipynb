{
  "cells": [
    {
      "cell_type": "markdown",
      "metadata": {
        "id": "view-in-github",
        "colab_type": "text"
      },
      "source": [
        "<a href=\"https://colab.research.google.com/github/mrromaniuc/quantum-computing/blob/main/IBMCertifiedAssociateDeveloperQiskit/3.1-Use_Available_Simulators.ipynb\" target=\"_parent\"><img src=\"https://colab.research.google.com/assets/colab-badge.svg\" alt=\"Open In Colab\"/></a>"
      ]
    },
    {
      "cell_type": "code",
      "source": [
        "%%capture\n",
        "!pip install qiskit\n",
        "!pip install qiskit-aer\n",
        "!pip install qiskit-visualization\n",
        "!pip install qiskit-ibm-provider\n",
        "!pip install qiskit-experiments\n",
        "!pip install imgaug==0.2.5\n",
        "!pip install pylatexenc"
      ],
      "metadata": {
        "id": "DFk2UDX60Iv9"
      },
      "id": "DFk2UDX60Iv9",
      "execution_count": 1,
      "outputs": []
    },
    {
      "cell_type": "markdown",
      "source": [
        "References:\n",
        "* https://qiskit.org/documentation/apidoc/providers_basicaer.html\n",
        "* https://youtu.be/V4CwN4rEtVQ (qasm_simulator)\n",
        "* https://youtu.be/GuppGy50dQ4 (statevector_simulator)\n",
        "* https://youtu.be/5uT5fUq2HVM (unitary_simulator)\n",
        "\n"
      ],
      "metadata": {
        "id": "AdjmgkN12xB8"
      },
      "id": "AdjmgkN12xB8"
    },
    {
      "cell_type": "code",
      "source": [
        "#Setting configuration to use matplotlib in drawings\n",
        "!mkdir ~/.qiskit\n",
        "!echo \"[default]\" > ~/.qiskit/settings.conf\n",
        "!echo \"circuit_drawer = mpl\" >> ~/.qiskit/settings.conf\n",
        "!more ~/.qiskit/settings.conf\n",
        "\n",
        "\n",
        "#\n",
        "# Loading IBM credentials\n",
        "#\n",
        "API_TOKEN_DIR=\"/content/drive/'My Drive'/'Colab Notebooks'/QC\"\n",
        "API_TOKEN_FILE=\"MY_API_TOKEN.txt\"\n",
        "\n",
        "#Mount the google drive first\n",
        "from google.colab import drive\n",
        "drive.mount('/content/drive')\n",
        "#%cd /content/drive/'My Drive'/'Colab Notebooks'/QC\n",
        "%cd $API_TOKEN_DIR\n",
        "\n",
        "#Read the MY_API_TOKEN from file...\n",
        "from qiskit_ibm_provider import IBMProvider\n",
        "MY_API_TOKEN = \"\"\n",
        "with open(API_TOKEN_FILE) as f:\n",
        "  MY_API_TOKEN=f.readline()\n",
        "IBMProvider.save_account(MY_API_TOKEN, overwrite=True)"
      ],
      "metadata": {
        "colab": {
          "base_uri": "https://localhost:8080/"
        },
        "id": "s8qRcB1E1J-b",
        "outputId": "8306a658-39f2-4f17-ddea-4fbaf25c67ff"
      },
      "id": "s8qRcB1E1J-b",
      "execution_count": 2,
      "outputs": [
        {
          "output_type": "stream",
          "name": "stdout",
          "text": [
            "[default]\n",
            "circuit_drawer = mpl\n",
            "Mounted at /content/drive\n",
            "/content/drive/My Drive/Colab Notebooks/QC\n"
          ]
        }
      ]
    },
    {
      "cell_type": "markdown",
      "source": [
        "## Use Available Python-based simulators\n",
        "- qasm_simulator\n",
        "- statevector_simulator\n",
        "- unitary_simulator\n",
        "\n"
      ],
      "metadata": {
        "id": "Ck0zb-oFy5uX"
      },
      "id": "Ck0zb-oFy5uX"
    },
    {
      "cell_type": "code",
      "source": [
        "from qiskit import BasicAer\n",
        "\n",
        "backends = BasicAer.backends()\n",
        "for b in backends:\n",
        "  print(b)"
      ],
      "metadata": {
        "id": "Ke5q4wz_ovtt",
        "outputId": "83382f49-1bf4-4bf5-f7ee-91023179b72e",
        "colab": {
          "base_uri": "https://localhost:8080/"
        }
      },
      "id": "Ke5q4wz_ovtt",
      "execution_count": 5,
      "outputs": [
        {
          "output_type": "stream",
          "name": "stdout",
          "text": [
            "qasm_simulator\n",
            "statevector_simulator\n",
            "unitary_simulator\n"
          ]
        }
      ]
    },
    {
      "cell_type": "markdown",
      "source": [
        "### unitary_simulator\n",
        "Returns the unitary operator for the circuit"
      ],
      "metadata": {
        "id": "W7OZ_LL8rf1P"
      },
      "id": "W7OZ_LL8rf1P"
    },
    {
      "cell_type": "code",
      "source": [
        "#Returs the Unitary operation for the circuit\n",
        "from qiskit import QuantumCircuit, BasicAer, execute\n",
        "from qiskit.visualization import array_to_latex\n",
        "\n",
        "qc = QuantumCircuit(1)\n",
        "qc.h(0)\n",
        "\n",
        "\n",
        "be = BasicAer.get_backend(\"unitary_simulator\")\n",
        "job = execute(qc, be)\n",
        "result = job.result()\n",
        "\n",
        "array_to_latex(result.data()['unitary'])"
      ],
      "metadata": {
        "id": "WqeSNmuVpoct",
        "outputId": "f356bc9d-c076-4018-c96d-5304b8843f80",
        "colab": {
          "base_uri": "https://localhost:8080/",
          "height": 68
        }
      },
      "id": "WqeSNmuVpoct",
      "execution_count": 17,
      "outputs": [
        {
          "output_type": "execute_result",
          "data": {
            "text/plain": [
              "<IPython.core.display.Latex object>"
            ],
            "text/latex": "$$\n\n\\begin{bmatrix}\n\\frac{\\sqrt{2}}{2} & \\frac{\\sqrt{2}}{2}  \\\\\n \\frac{\\sqrt{2}}{2} & - \\frac{\\sqrt{2}}{2}  \\\\\n \\end{bmatrix}\n$$"
          },
          "metadata": {},
          "execution_count": 17
        }
      ]
    },
    {
      "cell_type": "markdown",
      "source": [
        "### statevector_simulator\n",
        "Returns the statevector corresponded to the output of the circuit"
      ],
      "metadata": {
        "id": "L7zsGlFvroRt"
      },
      "id": "L7zsGlFvroRt"
    },
    {
      "cell_type": "code",
      "source": [
        "from qiskit import QuantumCircuit, BasicAer, execute\n",
        "from qiskit.visualization import array_to_latex\n",
        "qc = QuantumCircuit(1)\n",
        "qc.h(0)\n",
        "\n",
        "be = BasicAer.get_backend(\"statevector_simulator\")\n",
        "\n",
        "job = execute(qc, be)\n",
        "result = job.result()\n",
        "\n",
        "array_to_latex(result.data()['statevector'])"
      ],
      "metadata": {
        "id": "XzGTiVK0rmdf",
        "outputId": "7c6bff94-ecac-4385-f248-4255883c70ed",
        "colab": {
          "base_uri": "https://localhost:8080/",
          "height": 48
        }
      },
      "id": "XzGTiVK0rmdf",
      "execution_count": 19,
      "outputs": [
        {
          "output_type": "execute_result",
          "data": {
            "text/plain": [
              "<IPython.core.display.Latex object>"
            ],
            "text/latex": "$$\n\n\\begin{bmatrix}\n\\frac{\\sqrt{2}}{2} & \\frac{\\sqrt{2}}{2}  \\\\\n \\end{bmatrix}\n$$"
          },
          "metadata": {},
          "execution_count": 19
        }
      ]
    },
    {
      "cell_type": "code",
      "source": [
        "#Using BasicAer to get a provider and execute the circuit\n",
        "from qiskit import QuantumCircuit, execute, BasicAer\n",
        "from qiskit.visualization import plot_distribution\n",
        "qc = QuantumCircuit(2,2)\n",
        "qc.h(0)\n",
        "qc.cx(0,1)\n",
        "qc.measure([0,1],[0,1])\n",
        "display(qc.draw())\n",
        "\n",
        "backend = BasicAer.get_backend(\"qasm_simulator\")\n",
        "\n",
        "job = execute(qc, backend, shots=10000)\n",
        "result = job.result()\n",
        "c = result.get_counts()\n",
        "print(c)\n",
        "plot_distribution(c, figsize=(3,3))"
      ],
      "metadata": {
        "id": "ce7xCZ-Qd86Y",
        "colab": {
          "base_uri": "https://localhost:8080/",
          "height": 566
        },
        "outputId": "fe19a9ff-4b8b-497d-ad50-2d693449388c"
      },
      "id": "ce7xCZ-Qd86Y",
      "execution_count": null,
      "outputs": [
        {
          "output_type": "display_data",
          "data": {
            "text/plain": [
              "<Figure size 454.517x284.278 with 1 Axes>"
            ],
            "image/png": "[encoded data removed]"
          },
          "metadata": {}
        },
        {
          "output_type": "stream",
          "name": "stdout",
          "text": [
            "{'11': 4901, '00': 5099}\n"
          ]
        },
        {
          "output_type": "execute_result",
          "data": {
            "text/plain": [
              "<Figure size 300x300 with 1 Axes>"
            ],
            "image/png": "[encoded data removed]"
          },
          "metadata": {},
          "execution_count": 13
        }
      ]
    },
    {
      "cell_type": "code",
      "source": [
        "#This code comes from the api documentation: https://qiskit.org/documentation/apidoc/execute.html\n",
        "#The example uses WRONGLY the measure_all() - see the get_counts() result below\n",
        "#The CLassical Register is duplicated. Solution: either qc must NOT define classical register\n",
        "#or qc.measure(range(0,5),range(0,5)) must be used instead\n",
        "from qiskit import QuantumCircuit, execute, BasicAer\n",
        "\n",
        "backend = BasicAer.get_backend('qasm_simulator')\n",
        "\n",
        "qc = QuantumCircuit(5, 5)\n",
        "qc.h(0)\n",
        "qc.cx(0, range(1, 5))\n",
        "qc.measure_all()\n",
        "\n",
        "job = execute(qc, backend, shots=4321)\n",
        "job.result().get_counts()"
      ],
      "metadata": {
        "colab": {
          "base_uri": "https://localhost:8080/"
        },
        "id": "0tSKnKA1uqxr",
        "outputId": "bdef55d3-5a30-4f20-a27c-4b7174586e95"
      },
      "id": "0tSKnKA1uqxr",
      "execution_count": null,
      "outputs": [
        {
          "output_type": "execute_result",
          "data": {
            "text/plain": [
              "{'00000': 2157, '11111': 2164}"
            ]
          },
          "metadata": {},
          "execution_count": 17
        }
      ]
    }
  ],
  "metadata": {
    "kernelspec": {
      "display_name": "Python 3 (ipykernel)",
      "language": "python",
      "name": "python3"
    },
    "language_info": {
      "codemirror_mode": {
        "name": "ipython",
        "version": 3
      },
      "file_extension": ".py",
      "mimetype": "text/x-python",
      "name": "python",
      "nbconvert_exporter": "python",
      "pygments_lexer": "ipython3",
      "version": "3.9.17"
    },
    "colab": {
      "provenance": [],
      "include_colab_link": true
    }
  },
  "nbformat": 4,
  "nbformat_minor": 5
}