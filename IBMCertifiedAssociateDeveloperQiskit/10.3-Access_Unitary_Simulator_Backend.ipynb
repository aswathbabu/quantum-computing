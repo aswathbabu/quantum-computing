{
  "cells": [
    {
      "cell_type": "markdown",
      "metadata": {
        "id": "view-in-github",
        "colab_type": "text"
      },
      "source": [
        "<a href=\"https://colab.research.google.com/github/mrromaniuc/quantum-computing/blob/main/IBMCertifiedAssociateDeveloperQiskit/10.3-Access_Unitary_Simulator_Backend.ipynb\" target=\"_parent\"><img src=\"https://colab.research.google.com/assets/colab-badge.svg\" alt=\"Open In Colab\"/></a>"
      ]
    },
    {
      "cell_type": "code",
      "source": [
        "%%capture\n",
        "!pip install qiskit\n",
        "!pip install qiskit-aer\n",
        "!pip install qiskit-visualization\n",
        "!pip install qiskit-ibm-provider\n",
        "!pip install qiskit-experiments\n",
        "!pip install imgaug==0.2.5\n",
        "!pip install pylatexenc"
      ],
      "metadata": {
        "id": "DFk2UDX60Iv9"
      },
      "id": "DFk2UDX60Iv9",
      "execution_count": 1,
      "outputs": []
    },
    {
      "cell_type": "code",
      "source": [
        "#Setting configuration to use matplotlib in drawings\n",
        "!mkdir ~/.qiskit\n",
        "!echo \"[default]\" > ~/.qiskit/settings.conf\n",
        "!echo \"circuit_drawer = mpl\" >> ~/.qiskit/settings.conf\n",
        "!more ~/.qiskit/settings.conf\n",
        "\n",
        "\n",
        "#\n",
        "# Loading IBM credentials\n",
        "#\n",
        "API_TOKEN_DIR=\"/content/drive/'My Drive'/'Colab Notebooks'/QC\"\n",
        "API_TOKEN_FILE=\"MY_API_TOKEN.txt\"\n",
        "\n",
        "#Mount the google drive first\n",
        "from google.colab import drive\n",
        "drive.mount('/content/drive')\n",
        "#%cd /content/drive/'My Drive'/'Colab Notebooks'/QC\n",
        "%cd $API_TOKEN_DIR\n",
        "\n",
        "#Read the MY_API_TOKEN from file...\n",
        "from qiskit_ibm_provider import IBMProvider\n",
        "MY_API_TOKEN = \"\"\n",
        "with open(API_TOKEN_FILE) as f:\n",
        "  MY_API_TOKEN=f.readline()\n",
        "IBMProvider.save_account(MY_API_TOKEN, overwrite=True)"
      ],
      "metadata": {
        "colab": {
          "base_uri": "https://localhost:8080/"
        },
        "id": "s8qRcB1E1J-b",
        "outputId": "4a8929c8-34ba-4492-ab91-543037e18cc0"
      },
      "id": "s8qRcB1E1J-b",
      "execution_count": 2,
      "outputs": [
        {
          "output_type": "stream",
          "name": "stdout",
          "text": [
            "[default]\n",
            "circuit_drawer = mpl\n",
            "Mounted at /content/drive\n",
            "/content/drive/My Drive/Colab Notebooks/QC\n"
          ]
        }
      ]
    },
    {
      "cell_type": "markdown",
      "source": [
        "References:\n",
        "* https://qiskit.org/ecosystem/aer/tutorials/1_aer_provider.html\n",
        "* https://qiskit.org/ecosystem/aer/stubs/qiskit_aer.library.save_unitary.html"
      ],
      "metadata": {
        "id": "AdjmgkN12xB8"
      },
      "id": "AdjmgkN12xB8"
    },
    {
      "cell_type": "markdown",
      "source": [
        "## Use Aer simulators\n",
        "These are high performance simulators"
      ],
      "metadata": {
        "id": "Ck0zb-oFy5uX"
      },
      "id": "Ck0zb-oFy5uX"
    },
    {
      "cell_type": "code",
      "source": [
        "from qiskit import Aer\n",
        "\n",
        "backends = Aer.backends()\n",
        "for b in backends:\n",
        "  print(b)"
      ],
      "metadata": {
        "colab": {
          "base_uri": "https://localhost:8080/"
        },
        "id": "Ke5q4wz_ovtt",
        "outputId": "ed34fe7b-8e8e-49ae-b7f1-4d55fe8e25cc"
      },
      "id": "Ke5q4wz_ovtt",
      "execution_count": 3,
      "outputs": [
        {
          "output_type": "stream",
          "name": "stdout",
          "text": [
            "aer_simulator\n",
            "aer_simulator_statevector\n",
            "aer_simulator_density_matrix\n",
            "aer_simulator_stabilizer\n",
            "aer_simulator_matrix_product_state\n",
            "aer_simulator_extended_stabilizer\n",
            "aer_simulator_unitary\n",
            "aer_simulator_superop\n",
            "qasm_simulator\n",
            "statevector_simulator\n",
            "unitary_simulator\n",
            "pulse_simulator\n"
          ]
        }
      ]
    },
    {
      "cell_type": "markdown",
      "source": [
        "### aer_simulator\n",
        "This is the main simulator in Aer - it simulates the quantum computer hardware"
      ],
      "metadata": {
        "id": "W7OZ_LL8rf1P"
      },
      "id": "W7OZ_LL8rf1P"
    },
    {
      "cell_type": "code",
      "source": [
        "#Note: neither measure(), nor measure_all() can be used when qc.save_unitary() is used\n",
        "from qiskit import QuantumCircuit, Aer\n",
        "import qiskit.visualization as vi\n",
        "\n",
        "qc = QuantumCircuit(1)\n",
        "qc.h(0)\n",
        "qc.save_unitary(\"u1\")\n",
        "qc.h(0)\n",
        "qc.save_unitary(\"u2\")\n",
        "\n",
        "be = Aer.get_backend(\"aer_simulator\")\n",
        "result = be.run(qc, shots=1).result()\n",
        "\n",
        "for u in ['u1', 'u2']:\n",
        "  v = result.data()[u]\n",
        "  print(f\"\\nUnitary {u}:\\n{v}\")"
      ],
      "metadata": {
        "colab": {
          "base_uri": "https://localhost:8080/"
        },
        "id": "WqeSNmuVpoct",
        "outputId": "9969a7ca-fc0a-42b7-8c77-e4165a2c2ee3"
      },
      "id": "WqeSNmuVpoct",
      "execution_count": 9,
      "outputs": [
        {
          "output_type": "stream",
          "name": "stdout",
          "text": [
            "\n",
            "Unitary u1:\n",
            "Operator([[ 0.70710678+0.00000000e+00j,  0.70710678-8.65956056e-17j],\n",
            "          [ 0.70710678+0.00000000e+00j, -0.70710678+8.65956056e-17j]],\n",
            "         input_dims=(2,), output_dims=(2,))\n",
            "\n",
            "Unitary u2:\n",
            "Operator([[1.-6.1232340e-17j, 0.+6.1232340e-17j],\n",
            "          [0.+6.1232340e-17j, 1.-1.8369702e-16j]],\n",
            "         input_dims=(2,), output_dims=(2,))\n"
          ]
        }
      ]
    },
    {
      "cell_type": "markdown",
      "source": [
        "### Using the unitary_operator (or aer_simulator_unitary)"
      ],
      "metadata": {
        "id": "IOydhpzR1hCz"
      },
      "id": "IOydhpzR1hCz"
    },
    {
      "cell_type": "code",
      "source": [
        "from qiskit import QuantumCircuit, Aer\n",
        "import qiskit.visualization as vi\n",
        "\n",
        "qc = QuantumCircuit(1)\n",
        "qc.h(0)\n",
        "qc.save_unitary(\"u1\")\n",
        "qc.h(0)\n",
        "qc.save_unitary(\"u2\")\n",
        "\n",
        "be = Aer.get_backend(\"unitary_simulator\")\n",
        "result = be.run(qc, shots=1).result()\n",
        "\n",
        "for u in ['u1', 'u2']:\n",
        "  v = result.data()[u]\n",
        "  print(f\"\\nUnitary {u}:\\n{v}\")"
      ],
      "metadata": {
        "id": "vrwFvgN30xts",
        "outputId": "49636105-66ed-45a0-c43c-058f697c6afa",
        "colab": {
          "base_uri": "https://localhost:8080/"
        }
      },
      "id": "vrwFvgN30xts",
      "execution_count": 14,
      "outputs": [
        {
          "output_type": "stream",
          "name": "stdout",
          "text": [
            "\n",
            "Unitary u1:\n",
            "Operator([[ 0.70710678+0.00000000e+00j,  0.70710678-8.65956056e-17j],\n",
            "          [ 0.70710678+0.00000000e+00j, -0.70710678+8.65956056e-17j]],\n",
            "         input_dims=(2,), output_dims=(2,))\n",
            "\n",
            "Unitary u2:\n",
            "Operator([[1.-6.1232340e-17j, 0.+6.1232340e-17j],\n",
            "          [0.+6.1232340e-17j, 1.-1.8369702e-16j]],\n",
            "         input_dims=(2,), output_dims=(2,))\n"
          ]
        }
      ]
    },
    {
      "cell_type": "code",
      "source": [
        "#NOTE: Saving unitaries per shot DOES NOT WORK - here, we have 10 shots but only one unitary\n",
        "from qiskit import QuantumCircuit, Aer\n",
        "import qiskit.visualization as vi\n",
        "\n",
        "qc = QuantumCircuit(1)\n",
        "qc.h(0)\n",
        "qc.save_unitary(\"u1\", pershot=True)\n",
        "\n",
        "be = Aer.get_backend(\"aer_simulator_unitary\")\n",
        "result = be.run(qc, shots=10).result()\n",
        "\n",
        "print(result.data())"
      ],
      "metadata": {
        "colab": {
          "base_uri": "https://localhost:8080/"
        },
        "id": "f6jW6oUYQwv5",
        "outputId": "a6e5029f-be16-4469-e849-a8bea2d5f1ef"
      },
      "id": "f6jW6oUYQwv5",
      "execution_count": 23,
      "outputs": [
        {
          "output_type": "stream",
          "name": "stdout",
          "text": [
            "{'u1': [Operator([[ 0.70710678+0.00000000e+00j,  0.70710678-8.65956056e-17j],\n",
            "          [ 0.70710678+0.00000000e+00j, -0.70710678+8.65956056e-17j]],\n",
            "         input_dims=(2,), output_dims=(2,))]}\n"
          ]
        }
      ]
    }
  ],
  "metadata": {
    "kernelspec": {
      "display_name": "Python 3 (ipykernel)",
      "language": "python",
      "name": "python3"
    },
    "language_info": {
      "codemirror_mode": {
        "name": "ipython",
        "version": 3
      },
      "file_extension": ".py",
      "mimetype": "text/x-python",
      "name": "python",
      "nbconvert_exporter": "python",
      "pygments_lexer": "ipython3",
      "version": "3.9.17"
    },
    "colab": {
      "provenance": [],
      "include_colab_link": true
    }
  },
  "nbformat": 4,
  "nbformat_minor": 5
}