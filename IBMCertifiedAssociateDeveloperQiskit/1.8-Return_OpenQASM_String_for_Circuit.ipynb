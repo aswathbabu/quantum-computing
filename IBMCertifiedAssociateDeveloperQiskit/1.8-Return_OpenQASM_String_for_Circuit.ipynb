{
  "cells": [
    {
      "cell_type": "markdown",
      "metadata": {
        "id": "view-in-github",
        "colab_type": "text"
      },
      "source": [
        "<a href=\"https://colab.research.google.com/github/mrromaniuc/quantum-computing/blob/main/IBMCertifiedAssociateDeveloperQiskit/1.8-Return_OpenQASM_String_for_Circuit.ipynb\" target=\"_parent\"><img src=\"https://colab.research.google.com/assets/colab-badge.svg\" alt=\"Open In Colab\"/></a>"
      ]
    },
    {
      "cell_type": "code",
      "source": [
        "%%capture\n",
        "!pip install qiskit\n",
        "!pip install qiskit-aer\n",
        "!pip install qiskit-visualization\n",
        "!pip install qiskit-ibm-provider\n",
        "!pip install imgaug==0.2.5\n",
        "!pip install pylatexenc"
      ],
      "metadata": {
        "id": "DFk2UDX60Iv9"
      },
      "id": "DFk2UDX60Iv9",
      "execution_count": 1,
      "outputs": []
    },
    {
      "cell_type": "markdown",
      "source": [
        "References:\n",
        "* https://youtu.be/wG94YHKDIxc\n",
        "\n"
      ],
      "metadata": {
        "id": "AdjmgkN12xB8"
      },
      "id": "AdjmgkN12xB8"
    },
    {
      "cell_type": "code",
      "source": [
        "#Setting configuration to use matplotlib in drawings\n",
        "!mkdir ~/.qiskit\n",
        "!echo \"[default]\" > ~/.qiskit/settings.conf\n",
        "!echo \"circuit_drawer = mpl\" >> ~/.qiskit/settings.conf\n",
        "!more ~/.qiskit/settings.conf\n",
        "\n",
        "\n",
        "#\n",
        "# Loading IBM credentials\n",
        "#\n",
        "API_TOKEN_DIR=\"/content/drive/'My Drive'/'Colab Notebooks'/QC\"\n",
        "API_TOKEN_FILE=\"MY_API_TOKEN.txt\"\n",
        "\n",
        "#Mount the google drive first\n",
        "from google.colab import drive\n",
        "drive.mount('/content/drive')\n",
        "#%cd /content/drive/'My Drive'/'Colab Notebooks'/QC\n",
        "%cd $API_TOKEN_DIR\n",
        "\n",
        "#Read the MY_API_TOKEN from file...\n",
        "from qiskit_ibm_provider import IBMProvider\n",
        "MY_API_TOKEN = \"\"\n",
        "with open(API_TOKEN_FILE) as f:\n",
        "  MY_API_TOKEN=f.readline()\n",
        "IBMProvider.save_account(MY_API_TOKEN)"
      ],
      "metadata": {
        "colab": {
          "base_uri": "https://localhost:8080/"
        },
        "id": "s8qRcB1E1J-b",
        "outputId": "bf8b9bfc-b197-412c-a584-d4982f4f01fb"
      },
      "id": "s8qRcB1E1J-b",
      "execution_count": 2,
      "outputs": [
        {
          "output_type": "stream",
          "name": "stdout",
          "text": [
            "[default]\n",
            "circuit_drawer = mpl\n",
            "Mounted at /content/drive\n",
            "/content/drive/My Drive/Colab Notebooks/QC\n"
          ]
        }
      ]
    },
    {
      "cell_type": "markdown",
      "source": [
        "## Return OpenQASM String for a Circuit\n"
      ],
      "metadata": {
        "id": "Ck0zb-oFy5uX"
      },
      "id": "Ck0zb-oFy5uX"
    },
    {
      "cell_type": "code",
      "source": [
        "from qiskit import QuantumCircuit\n",
        "\n",
        "qc = QuantumCircuit(2,2)\n",
        "qc.h(0)\n",
        "qc.cx(0,1)\n",
        "qc.measure_all()\n",
        "display(qc.draw())\n",
        "print(qc.qasm())\n",
        "print(\"==================\")\n",
        "qc.qasm(formatted=True)\n",
        "\n",
        "qc.qasm(formatted=True, filename=\"mycircuit.qasm\")\n",
        "print(\"==================\")\n",
        "!cat mycircuit.qasm"
      ],
      "metadata": {
        "colab": {
          "base_uri": "https://localhost:8080/",
          "height": 1000
        },
        "id": "85rVuBai5LKY",
        "outputId": "8ec247ac-72a1-40e7-c2ff-a3c9042b21c9"
      },
      "id": "85rVuBai5LKY",
      "execution_count": 12,
      "outputs": [
        {
          "output_type": "display_data",
          "data": {
            "text/plain": [
              "<Figure size 580.387x367.889 with 1 Axes>"
            ],
            "image/png": "[encoded data removed]"
          },
          "metadata": {}
        },
        {
          "output_type": "stream",
          "name": "stdout",
          "text": [
            "OPENQASM 2.0;\n",
            "include \"qelib1.inc\";\n",
            "qreg q[2];\n",
            "creg c[2];\n",
            "creg meas[2];\n",
            "h q[0];\n",
            "cx q[0],q[1];\n",
            "barrier q[0],q[1];\n",
            "measure q[0] -> meas[0];\n",
            "measure q[1] -> meas[1];\n",
            "\n",
            "==================\n",
            "\u001b[92mOPENQASM\u001b[39m \u001b[96m2\u001b[39m.\u001b[96m0\u001b[39m;\n",
            "\u001b[92minclude\u001b[39m\u001b[91m \"qelib1.inc\"\u001b[39m;\n",
            "\u001b[92mqreg\u001b[39m q[\u001b[96m2\u001b[39m];\n",
            "\u001b[92mcreg\u001b[39m c[\u001b[96m2\u001b[39m];\n",
            "\u001b[92mcreg\u001b[39m meas[\u001b[96m2\u001b[39m];\n",
            "\u001b[95mh\u001b[39m q[\u001b[96m0\u001b[39m];\n",
            "\u001b[95mcx\u001b[39m q[\u001b[96m0\u001b[39m],q[\u001b[96m1\u001b[39m];\n",
            "\u001b[94mbarrier\u001b[39m q[\u001b[96m0\u001b[39m],q[\u001b[96m1\u001b[39m];\n",
            "\u001b[94mmeasure\u001b[39m q[\u001b[96m0\u001b[39m] -> meas[\u001b[96m0\u001b[39m];\n",
            "\u001b[94mmeasure\u001b[39m q[\u001b[96m1\u001b[39m] -> meas[\u001b[96m1\u001b[39m];\n",
            "\n",
            "\u001b[92mOPENQASM\u001b[39m \u001b[96m2\u001b[39m.\u001b[96m0\u001b[39m;\n",
            "\u001b[92minclude\u001b[39m\u001b[91m \"qelib1.inc\"\u001b[39m;\n",
            "\u001b[92mqreg\u001b[39m q[\u001b[96m2\u001b[39m];\n",
            "\u001b[92mcreg\u001b[39m c[\u001b[96m2\u001b[39m];\n",
            "\u001b[92mcreg\u001b[39m meas[\u001b[96m2\u001b[39m];\n",
            "\u001b[95mh\u001b[39m q[\u001b[96m0\u001b[39m];\n",
            "\u001b[95mcx\u001b[39m q[\u001b[96m0\u001b[39m],q[\u001b[96m1\u001b[39m];\n",
            "\u001b[94mbarrier\u001b[39m q[\u001b[96m0\u001b[39m],q[\u001b[96m1\u001b[39m];\n",
            "\u001b[94mmeasure\u001b[39m q[\u001b[96m0\u001b[39m] -> meas[\u001b[96m0\u001b[39m];\n",
            "\u001b[94mmeasure\u001b[39m q[\u001b[96m1\u001b[39m] -> meas[\u001b[96m1\u001b[39m];\n",
            "\n",
            "==================\n",
            "OPENQASM 2.0;\n",
            "include \"qelib1.inc\";\n",
            "qreg q[2];\n",
            "creg c[2];\n",
            "creg meas[2];\n",
            "h q[0];\n",
            "cx q[0],q[1];\n",
            "barrier q[0],q[1];\n",
            "measure q[0] -> meas[0];\n",
            "measure q[1] -> meas[1];\n"
          ]
        },
        {
          "output_type": "display_data",
          "data": {
            "text/plain": [
              "<Figure size 580.387x367.889 with 1 Axes>"
            ],
            "image/png": "[encoded data removed]"
          },
          "metadata": {}
        }
      ]
    },
    {
      "cell_type": "markdown",
      "source": [
        "### Saving and creating quantum circuit using QASM (.qasm() and .from_qasm_file()"
      ],
      "metadata": {
        "id": "U8fGLtBvBmOn"
      },
      "id": "U8fGLtBvBmOn"
    },
    {
      "cell_type": "code",
      "source": [
        "from qiskit import QuantumCircuit\n",
        "qc = QuantumCircuit(2)\n",
        "qc.h(0)\n",
        "qc.t(1)\n",
        "display(qc.draw())\n",
        "qc.qasm(formatted=True, filename=\"my_new_circuit.qasm\")\n",
        "\n",
        "qc2 = QuantumCircuit.from_qasm_file(\"my_new_circuit.qasm\")\n",
        "display(qc2.draw())"
      ],
      "metadata": {
        "id": "pFa1KRCOBR66",
        "outputId": "3dae36c0-63df-41ab-8694-47bbfc3e9520",
        "colab": {
          "base_uri": "https://localhost:8080/",
          "height": 469
        }
      },
      "id": "pFa1KRCOBR66",
      "execution_count": 13,
      "outputs": [
        {
          "output_type": "display_data",
          "data": {
            "text/plain": [
              "<Figure size 203.683x200.667 with 1 Axes>"
            ],
            "image/png": "[encoded data removed]"
          },
          "metadata": {}
        },
        {
          "output_type": "stream",
          "name": "stdout",
          "text": [
            "\u001b[92mOPENQASM\u001b[39m \u001b[96m2\u001b[39m.\u001b[96m0\u001b[39m;\n",
            "\u001b[92minclude\u001b[39m\u001b[91m \"qelib1.inc\"\u001b[39m;\n",
            "\u001b[92mqreg\u001b[39m q[\u001b[96m2\u001b[39m];\n",
            "\u001b[95mh\u001b[39m q[\u001b[96m0\u001b[39m];\n",
            "\u001b[95mt\u001b[39m q[\u001b[96m1\u001b[39m];\n",
            "\n"
          ]
        },
        {
          "output_type": "display_data",
          "data": {
            "text/plain": [
              "<Figure size 203.683x200.667 with 1 Axes>"
            ],
            "image/png": "[encoded data removed]"
          },
          "metadata": {}
        }
      ]
    },
    {
      "cell_type": "code",
      "source": [],
      "metadata": {
        "id": "JJCNspbK5LXZ"
      },
      "id": "JJCNspbK5LXZ",
      "execution_count": null,
      "outputs": []
    },
    {
      "cell_type": "code",
      "source": [],
      "metadata": {
        "id": "NToxW9w55Lad"
      },
      "id": "NToxW9w55Lad",
      "execution_count": null,
      "outputs": []
    },
    {
      "cell_type": "markdown",
      "source": [
        "Just an example to get a backend"
      ],
      "metadata": {
        "id": "g7RbkDK6lRau"
      },
      "id": "g7RbkDK6lRau"
    },
    {
      "cell_type": "code",
      "source": [
        "provider = IBMProvider(instance=\"ibm-q/open/main\")\n",
        "backend = provider.get_backend(\"ibmq_quito\")"
      ],
      "metadata": {
        "id": "gyeJmz_ck1Lh"
      },
      "id": "gyeJmz_ck1Lh",
      "execution_count": null,
      "outputs": []
    }
  ],
  "metadata": {
    "kernelspec": {
      "display_name": "Python 3 (ipykernel)",
      "language": "python",
      "name": "python3"
    },
    "language_info": {
      "codemirror_mode": {
        "name": "ipython",
        "version": 3
      },
      "file_extension": ".py",
      "mimetype": "text/x-python",
      "name": "python",
      "nbconvert_exporter": "python",
      "pygments_lexer": "ipython3",
      "version": "3.9.17"
    },
    "colab": {
      "provenance": [],
      "include_colab_link": true
    }
  },
  "nbformat": 4,
  "nbformat_minor": 5
}